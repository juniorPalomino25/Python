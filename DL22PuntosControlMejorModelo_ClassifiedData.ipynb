{
  "nbformat": 4,
  "nbformat_minor": 0,
  "metadata": {
    "colab": {
      "name": "DL22PuntosControlMejorModelo_ClassifiedData.ipynb",
      "provenance": [],
      "authorship_tag": "ABX9TyNIAPGkpKer+ck7scZusgPZ",
      "include_colab_link": true
    },
    "kernelspec": {
      "name": "python3",
      "display_name": "Python 3"
    },
    "language_info": {
      "name": "python"
    }
  },
  "cells": [
    {
      "cell_type": "markdown",
      "metadata": {
        "id": "view-in-github",
        "colab_type": "text"
      },
      "source": [
        "<a href=\"https://colab.research.google.com/github/juniorPalomino25/Python/blob/main/DL22PuntosControlMejorModelo_ClassifiedData.ipynb\" target=\"_parent\"><img src=\"https://colab.research.google.com/assets/colab-badge.svg\" alt=\"Open In Colab\"/></a>"
      ]
    },
    {
      "cell_type": "markdown",
      "source": [
        "# **Establecer puntos de control para el mejor modelo**"
      ],
      "metadata": {
        "id": "sPh2jshBgFwE"
      }
    },
    {
      "cell_type": "code",
      "execution_count": 1,
      "metadata": {
        "colab": {
          "base_uri": "https://localhost:8080/",
          "height": 0
        },
        "id": "Dw2Jx2cbgFVo",
        "outputId": "b3d8c9f1-b878-4a45-efc1-50bfbf46190f"
      },
      "outputs": [
        {
          "output_type": "stream",
          "name": "stdout",
          "text": [
            "Requirement already satisfied: h5py in /usr/local/lib/python3.7/dist-packages (3.1.0)\n",
            "Requirement already satisfied: numpy>=1.14.5 in /usr/local/lib/python3.7/dist-packages (from h5py) (1.21.5)\n",
            "Requirement already satisfied: cached-property in /usr/local/lib/python3.7/dist-packages (from h5py) (1.5.2)\n"
          ]
        }
      ],
      "source": [
        "! pip install h5py"
      ]
    },
    {
      "cell_type": "markdown",
      "source": [
        "### Importar Librerías"
      ],
      "metadata": {
        "id": "47A2BPjXgJBw"
      }
    },
    {
      "cell_type": "code",
      "source": [
        "from keras.models import Sequential\n",
        "from keras.layers import Dense\n",
        "from keras.callbacks import ModelCheckpoint\n",
        "import numpy"
      ],
      "metadata": {
        "id": "X0TbJNNegInY"
      },
      "execution_count": 2,
      "outputs": []
    },
    {
      "cell_type": "markdown",
      "source": [
        "### Cargar datos"
      ],
      "metadata": {
        "id": "Br8acQy2gQbw"
      }
    },
    {
      "cell_type": "code",
      "source": [
        "datos = numpy.loadtxt(\"ClassifiedData.txt\",delimiter=\",\")"
      ],
      "metadata": {
        "id": "gK6nZ3n3gRTw"
      },
      "execution_count": 3,
      "outputs": []
    },
    {
      "cell_type": "code",
      "source": [
        "X = datos[:,0:11]\n",
        "Y = datos[:,11]"
      ],
      "metadata": {
        "id": "PhLXOAfEgeKg"
      },
      "execution_count": 4,
      "outputs": []
    },
    {
      "cell_type": "markdown",
      "source": [
        "### Crear el modelo"
      ],
      "metadata": {
        "id": "5xDI8h_0gfrY"
      }
    },
    {
      "cell_type": "code",
      "source": [
        "modelo = Sequential()\n",
        "modelo.add(Dense(12, input_dim=11, activation='relu'))\n",
        "modelo.add(Dense(8, activation='relu'))\n",
        "modelo.add(Dense(1, activation='sigmoid'))"
      ],
      "metadata": {
        "id": "84FxSLYwggqf"
      },
      "execution_count": 5,
      "outputs": []
    },
    {
      "cell_type": "markdown",
      "source": [
        "### Compilar el modelo"
      ],
      "metadata": {
        "id": "Tq6ta3IgglPh"
      }
    },
    {
      "cell_type": "code",
      "source": [
        "modelo.compile(loss='binary_crossentropy',optimizer='adam',metrics=['accuracy'])"
      ],
      "metadata": {
        "id": "gH35tLJkgl2n"
      },
      "execution_count": 6,
      "outputs": []
    },
    {
      "cell_type": "markdown",
      "source": [
        "### Establecer puntos de control"
      ],
      "metadata": {
        "id": "rstKud9LgnZ5"
      }
    },
    {
      "cell_type": "code",
      "source": [
        "archivo = 'mejores_pesos.hdf5'"
      ],
      "metadata": {
        "id": "6CQteR9Dgo0_"
      },
      "execution_count": 7,
      "outputs": []
    },
    {
      "cell_type": "code",
      "source": [
        "puntos_control = ModelCheckpoint(archivo,monitor='val_accuracy',verbose=1,\n",
        "save_best_only=True,mode='max')"
      ],
      "metadata": {
        "id": "K3J6x4DFgqio"
      },
      "execution_count": 8,
      "outputs": []
    },
    {
      "cell_type": "code",
      "source": [
        "lista_llamada_retorno = [puntos_control]"
      ],
      "metadata": {
        "id": "gh0V3nPXgsBa"
      },
      "execution_count": 9,
      "outputs": []
    },
    {
      "cell_type": "markdown",
      "source": [
        "### Entrenar el modelo"
      ],
      "metadata": {
        "id": "SUcVqQyIgu7Y"
      }
    },
    {
      "cell_type": "code",
      "source": [
        "modelo.fit(X,Y,validation_split=0.33,epochs=150,batch_size=10,\n",
        "callbacks=lista_llamada_retorno,verbose=0)"
      ],
      "metadata": {
        "colab": {
          "base_uri": "https://localhost:8080/",
          "height": 0
        },
        "id": "Ipo8rmvsgwzH",
        "outputId": "5e3d46ca-3761-432f-9d45-1537371c899c"
      },
      "execution_count": 10,
      "outputs": [
        {
          "output_type": "stream",
          "name": "stdout",
          "text": [
            "\n",
            "Epoch 1: val_accuracy improved from -inf to 0.46224, saving model to mejores_pesos.hdf5\n",
            "\n",
            "Epoch 2: val_accuracy improved from 0.46224 to 0.59517, saving model to mejores_pesos.hdf5\n",
            "\n",
            "Epoch 3: val_accuracy did not improve from 0.59517\n",
            "\n",
            "Epoch 4: val_accuracy improved from 0.59517 to 0.67372, saving model to mejores_pesos.hdf5\n",
            "\n",
            "Epoch 5: val_accuracy improved from 0.67372 to 0.72205, saving model to mejores_pesos.hdf5\n",
            "\n",
            "Epoch 6: val_accuracy did not improve from 0.72205\n",
            "\n",
            "Epoch 7: val_accuracy improved from 0.72205 to 0.75227, saving model to mejores_pesos.hdf5\n",
            "\n",
            "Epoch 8: val_accuracy did not improve from 0.75227\n",
            "\n",
            "Epoch 9: val_accuracy did not improve from 0.75227\n",
            "\n",
            "Epoch 10: val_accuracy did not improve from 0.75227\n",
            "\n",
            "Epoch 11: val_accuracy did not improve from 0.75227\n",
            "\n",
            "Epoch 12: val_accuracy did not improve from 0.75227\n",
            "\n",
            "Epoch 13: val_accuracy did not improve from 0.75227\n",
            "\n",
            "Epoch 14: val_accuracy did not improve from 0.75227\n",
            "\n",
            "Epoch 15: val_accuracy improved from 0.75227 to 0.95468, saving model to mejores_pesos.hdf5\n",
            "\n",
            "Epoch 16: val_accuracy did not improve from 0.95468\n",
            "\n",
            "Epoch 17: val_accuracy did not improve from 0.95468\n",
            "\n",
            "Epoch 18: val_accuracy did not improve from 0.95468\n",
            "\n",
            "Epoch 19: val_accuracy did not improve from 0.95468\n",
            "\n",
            "Epoch 20: val_accuracy improved from 0.95468 to 0.96073, saving model to mejores_pesos.hdf5\n",
            "\n",
            "Epoch 21: val_accuracy did not improve from 0.96073\n",
            "\n",
            "Epoch 22: val_accuracy did not improve from 0.96073\n",
            "\n",
            "Epoch 23: val_accuracy did not improve from 0.96073\n",
            "\n",
            "Epoch 24: val_accuracy did not improve from 0.96073\n",
            "\n",
            "Epoch 25: val_accuracy did not improve from 0.96073\n",
            "\n",
            "Epoch 26: val_accuracy did not improve from 0.96073\n",
            "\n",
            "Epoch 27: val_accuracy did not improve from 0.96073\n",
            "\n",
            "Epoch 28: val_accuracy did not improve from 0.96073\n",
            "\n",
            "Epoch 29: val_accuracy did not improve from 0.96073\n",
            "\n",
            "Epoch 30: val_accuracy did not improve from 0.96073\n",
            "\n",
            "Epoch 31: val_accuracy did not improve from 0.96073\n",
            "\n",
            "Epoch 32: val_accuracy did not improve from 0.96073\n",
            "\n",
            "Epoch 33: val_accuracy did not improve from 0.96073\n",
            "\n",
            "Epoch 34: val_accuracy did not improve from 0.96073\n",
            "\n",
            "Epoch 35: val_accuracy did not improve from 0.96073\n",
            "\n",
            "Epoch 36: val_accuracy did not improve from 0.96073\n",
            "\n",
            "Epoch 37: val_accuracy did not improve from 0.96073\n",
            "\n",
            "Epoch 38: val_accuracy did not improve from 0.96073\n",
            "\n",
            "Epoch 39: val_accuracy did not improve from 0.96073\n",
            "\n",
            "Epoch 40: val_accuracy did not improve from 0.96073\n",
            "\n",
            "Epoch 41: val_accuracy did not improve from 0.96073\n",
            "\n",
            "Epoch 42: val_accuracy did not improve from 0.96073\n",
            "\n",
            "Epoch 43: val_accuracy did not improve from 0.96073\n",
            "\n",
            "Epoch 44: val_accuracy did not improve from 0.96073\n",
            "\n",
            "Epoch 45: val_accuracy improved from 0.96073 to 0.96677, saving model to mejores_pesos.hdf5\n",
            "\n",
            "Epoch 46: val_accuracy improved from 0.96677 to 0.96979, saving model to mejores_pesos.hdf5\n",
            "\n",
            "Epoch 47: val_accuracy did not improve from 0.96979\n",
            "\n",
            "Epoch 48: val_accuracy did not improve from 0.96979\n",
            "\n",
            "Epoch 49: val_accuracy did not improve from 0.96979\n",
            "\n",
            "Epoch 50: val_accuracy did not improve from 0.96979\n",
            "\n",
            "Epoch 51: val_accuracy did not improve from 0.96979\n",
            "\n",
            "Epoch 52: val_accuracy did not improve from 0.96979\n",
            "\n",
            "Epoch 53: val_accuracy did not improve from 0.96979\n",
            "\n",
            "Epoch 54: val_accuracy did not improve from 0.96979\n",
            "\n",
            "Epoch 55: val_accuracy did not improve from 0.96979\n",
            "\n",
            "Epoch 56: val_accuracy did not improve from 0.96979\n",
            "\n",
            "Epoch 57: val_accuracy did not improve from 0.96979\n",
            "\n",
            "Epoch 58: val_accuracy did not improve from 0.96979\n",
            "\n",
            "Epoch 59: val_accuracy did not improve from 0.96979\n",
            "\n",
            "Epoch 60: val_accuracy did not improve from 0.96979\n",
            "\n",
            "Epoch 61: val_accuracy did not improve from 0.96979\n",
            "\n",
            "Epoch 62: val_accuracy did not improve from 0.96979\n",
            "\n",
            "Epoch 63: val_accuracy did not improve from 0.96979\n",
            "\n",
            "Epoch 64: val_accuracy did not improve from 0.96979\n",
            "\n",
            "Epoch 65: val_accuracy did not improve from 0.96979\n",
            "\n",
            "Epoch 66: val_accuracy did not improve from 0.96979\n",
            "\n",
            "Epoch 67: val_accuracy did not improve from 0.96979\n",
            "\n",
            "Epoch 68: val_accuracy did not improve from 0.96979\n",
            "\n",
            "Epoch 69: val_accuracy did not improve from 0.96979\n",
            "\n",
            "Epoch 70: val_accuracy did not improve from 0.96979\n",
            "\n",
            "Epoch 71: val_accuracy did not improve from 0.96979\n",
            "\n",
            "Epoch 72: val_accuracy did not improve from 0.96979\n",
            "\n",
            "Epoch 73: val_accuracy did not improve from 0.96979\n",
            "\n",
            "Epoch 74: val_accuracy did not improve from 0.96979\n",
            "\n",
            "Epoch 75: val_accuracy did not improve from 0.96979\n",
            "\n",
            "Epoch 76: val_accuracy did not improve from 0.96979\n",
            "\n",
            "Epoch 77: val_accuracy did not improve from 0.96979\n",
            "\n",
            "Epoch 78: val_accuracy did not improve from 0.96979\n",
            "\n",
            "Epoch 79: val_accuracy did not improve from 0.96979\n",
            "\n",
            "Epoch 80: val_accuracy did not improve from 0.96979\n",
            "\n",
            "Epoch 81: val_accuracy did not improve from 0.96979\n",
            "\n",
            "Epoch 82: val_accuracy did not improve from 0.96979\n",
            "\n",
            "Epoch 83: val_accuracy did not improve from 0.96979\n",
            "\n",
            "Epoch 84: val_accuracy did not improve from 0.96979\n",
            "\n",
            "Epoch 85: val_accuracy did not improve from 0.96979\n",
            "\n",
            "Epoch 86: val_accuracy did not improve from 0.96979\n",
            "\n",
            "Epoch 87: val_accuracy did not improve from 0.96979\n",
            "\n",
            "Epoch 88: val_accuracy did not improve from 0.96979\n",
            "\n",
            "Epoch 89: val_accuracy did not improve from 0.96979\n",
            "\n",
            "Epoch 90: val_accuracy did not improve from 0.96979\n",
            "\n",
            "Epoch 91: val_accuracy did not improve from 0.96979\n",
            "\n",
            "Epoch 92: val_accuracy did not improve from 0.96979\n",
            "\n",
            "Epoch 93: val_accuracy did not improve from 0.96979\n",
            "\n",
            "Epoch 94: val_accuracy did not improve from 0.96979\n",
            "\n",
            "Epoch 95: val_accuracy did not improve from 0.96979\n",
            "\n",
            "Epoch 96: val_accuracy did not improve from 0.96979\n",
            "\n",
            "Epoch 97: val_accuracy did not improve from 0.96979\n",
            "\n",
            "Epoch 98: val_accuracy did not improve from 0.96979\n",
            "\n",
            "Epoch 99: val_accuracy did not improve from 0.96979\n",
            "\n",
            "Epoch 100: val_accuracy did not improve from 0.96979\n",
            "\n",
            "Epoch 101: val_accuracy did not improve from 0.96979\n",
            "\n",
            "Epoch 102: val_accuracy did not improve from 0.96979\n",
            "\n",
            "Epoch 103: val_accuracy did not improve from 0.96979\n",
            "\n",
            "Epoch 104: val_accuracy did not improve from 0.96979\n",
            "\n",
            "Epoch 105: val_accuracy did not improve from 0.96979\n",
            "\n",
            "Epoch 106: val_accuracy did not improve from 0.96979\n",
            "\n",
            "Epoch 107: val_accuracy did not improve from 0.96979\n",
            "\n",
            "Epoch 108: val_accuracy did not improve from 0.96979\n",
            "\n",
            "Epoch 109: val_accuracy did not improve from 0.96979\n",
            "\n",
            "Epoch 110: val_accuracy did not improve from 0.96979\n",
            "\n",
            "Epoch 111: val_accuracy did not improve from 0.96979\n",
            "\n",
            "Epoch 112: val_accuracy did not improve from 0.96979\n",
            "\n",
            "Epoch 113: val_accuracy did not improve from 0.96979\n",
            "\n",
            "Epoch 114: val_accuracy did not improve from 0.96979\n",
            "\n",
            "Epoch 115: val_accuracy improved from 0.96979 to 0.97583, saving model to mejores_pesos.hdf5\n",
            "\n",
            "Epoch 116: val_accuracy did not improve from 0.97583\n",
            "\n",
            "Epoch 117: val_accuracy did not improve from 0.97583\n",
            "\n",
            "Epoch 118: val_accuracy did not improve from 0.97583\n",
            "\n",
            "Epoch 119: val_accuracy did not improve from 0.97583\n",
            "\n",
            "Epoch 120: val_accuracy did not improve from 0.97583\n",
            "\n",
            "Epoch 121: val_accuracy did not improve from 0.97583\n",
            "\n",
            "Epoch 122: val_accuracy did not improve from 0.97583\n",
            "\n",
            "Epoch 123: val_accuracy did not improve from 0.97583\n",
            "\n",
            "Epoch 124: val_accuracy did not improve from 0.97583\n",
            "\n",
            "Epoch 125: val_accuracy did not improve from 0.97583\n",
            "\n",
            "Epoch 126: val_accuracy did not improve from 0.97583\n",
            "\n",
            "Epoch 127: val_accuracy did not improve from 0.97583\n",
            "\n",
            "Epoch 128: val_accuracy did not improve from 0.97583\n",
            "\n",
            "Epoch 129: val_accuracy did not improve from 0.97583\n",
            "\n",
            "Epoch 130: val_accuracy did not improve from 0.97583\n",
            "\n",
            "Epoch 131: val_accuracy did not improve from 0.97583\n",
            "\n",
            "Epoch 132: val_accuracy did not improve from 0.97583\n",
            "\n",
            "Epoch 133: val_accuracy did not improve from 0.97583\n",
            "\n",
            "Epoch 134: val_accuracy did not improve from 0.97583\n",
            "\n",
            "Epoch 135: val_accuracy did not improve from 0.97583\n",
            "\n",
            "Epoch 136: val_accuracy did not improve from 0.97583\n",
            "\n",
            "Epoch 137: val_accuracy did not improve from 0.97583\n",
            "\n",
            "Epoch 138: val_accuracy did not improve from 0.97583\n",
            "\n",
            "Epoch 139: val_accuracy did not improve from 0.97583\n",
            "\n",
            "Epoch 140: val_accuracy did not improve from 0.97583\n",
            "\n",
            "Epoch 141: val_accuracy did not improve from 0.97583\n",
            "\n",
            "Epoch 142: val_accuracy did not improve from 0.97583\n",
            "\n",
            "Epoch 143: val_accuracy did not improve from 0.97583\n",
            "\n",
            "Epoch 144: val_accuracy did not improve from 0.97583\n",
            "\n",
            "Epoch 145: val_accuracy did not improve from 0.97583\n",
            "\n",
            "Epoch 146: val_accuracy did not improve from 0.97583\n",
            "\n",
            "Epoch 147: val_accuracy did not improve from 0.97583\n",
            "\n",
            "Epoch 148: val_accuracy did not improve from 0.97583\n",
            "\n",
            "Epoch 149: val_accuracy did not improve from 0.97583\n",
            "\n",
            "Epoch 150: val_accuracy did not improve from 0.97583\n"
          ]
        },
        {
          "output_type": "execute_result",
          "data": {
            "text/plain": [
              "<keras.callbacks.History at 0x7f090e157590>"
            ]
          },
          "metadata": {},
          "execution_count": 10
        }
      ]
    }
  ]
}