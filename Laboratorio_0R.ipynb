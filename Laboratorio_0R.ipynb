{
  "nbformat": 4,
  "nbformat_minor": 0,
  "metadata": {
    "colab": {
      "name": "Laboratorio_0R.ipynb",
      "provenance": [],
      "collapsed_sections": [],
      "authorship_tag": "ABX9TyOhoRiLYkgxHRg89gY6xkNA",
      "include_colab_link": true
    },
    "kernelspec": {
      "name": "python3",
      "display_name": "Python 3"
    },
    "language_info": {
      "name": "python"
    }
  },
  "cells": [
    {
      "cell_type": "markdown",
      "metadata": {
        "id": "view-in-github",
        "colab_type": "text"
      },
      "source": [
        "<a href=\"https://colab.research.google.com/github/juniorPalomino25/Python/blob/main/Laboratorio_0R.ipynb\" target=\"_parent\"><img src=\"https://colab.research.google.com/assets/colab-badge.svg\" alt=\"Open In Colab\"/></a>"
      ]
    },
    {
      "cell_type": "markdown",
      "source": [
        "# **Cargar librerias**"
      ],
      "metadata": {
        "id": "iGKifj3MPbKb"
      }
    },
    {
      "cell_type": "markdown",
      "source": [
        "Instalación de neurolab para poder utilizarlo"
      ],
      "metadata": {
        "id": "OoxDh1FhPpDM"
      }
    },
    {
      "cell_type": "code",
      "execution_count": null,
      "metadata": {
        "colab": {
          "base_uri": "https://localhost:8080/"
        },
        "id": "3rILDs3SNh_K",
        "outputId": "3aa45103-de61-48fb-ad91-b0f5849dbbfd"
      },
      "outputs": [
        {
          "output_type": "stream",
          "name": "stdout",
          "text": [
            "Collecting neurolab\n",
            "  Downloading neurolab-0.3.5.tar.gz (645 kB)\n",
            "\u001b[?25l\r\u001b[K     |▌                               | 10 kB 22.3 MB/s eta 0:00:01\r\u001b[K     |█                               | 20 kB 23.0 MB/s eta 0:00:01\r\u001b[K     |█▌                              | 30 kB 26.2 MB/s eta 0:00:01\r\u001b[K     |██                              | 40 kB 23.6 MB/s eta 0:00:01\r\u001b[K     |██▌                             | 51 kB 14.8 MB/s eta 0:00:01\r\u001b[K     |███                             | 61 kB 16.4 MB/s eta 0:00:01\r\u001b[K     |███▌                            | 71 kB 17.1 MB/s eta 0:00:01\r\u001b[K     |████                            | 81 kB 17.8 MB/s eta 0:00:01\r\u001b[K     |████▋                           | 92 kB 19.0 MB/s eta 0:00:01\r\u001b[K     |█████                           | 102 kB 19.7 MB/s eta 0:00:01\r\u001b[K     |█████▋                          | 112 kB 19.7 MB/s eta 0:00:01\r\u001b[K     |██████                          | 122 kB 19.7 MB/s eta 0:00:01\r\u001b[K     |██████▋                         | 133 kB 19.7 MB/s eta 0:00:01\r\u001b[K     |███████                         | 143 kB 19.7 MB/s eta 0:00:01\r\u001b[K     |███████▋                        | 153 kB 19.7 MB/s eta 0:00:01\r\u001b[K     |████████▏                       | 163 kB 19.7 MB/s eta 0:00:01\r\u001b[K     |████████▋                       | 174 kB 19.7 MB/s eta 0:00:01\r\u001b[K     |█████████▏                      | 184 kB 19.7 MB/s eta 0:00:01\r\u001b[K     |█████████▋                      | 194 kB 19.7 MB/s eta 0:00:01\r\u001b[K     |██████████▏                     | 204 kB 19.7 MB/s eta 0:00:01\r\u001b[K     |██████████▋                     | 215 kB 19.7 MB/s eta 0:00:01\r\u001b[K     |███████████▏                    | 225 kB 19.7 MB/s eta 0:00:01\r\u001b[K     |███████████▊                    | 235 kB 19.7 MB/s eta 0:00:01\r\u001b[K     |████████████▏                   | 245 kB 19.7 MB/s eta 0:00:01\r\u001b[K     |████████████▊                   | 256 kB 19.7 MB/s eta 0:00:01\r\u001b[K     |█████████████▏                  | 266 kB 19.7 MB/s eta 0:00:01\r\u001b[K     |█████████████▊                  | 276 kB 19.7 MB/s eta 0:00:01\r\u001b[K     |██████████████▏                 | 286 kB 19.7 MB/s eta 0:00:01\r\u001b[K     |██████████████▊                 | 296 kB 19.7 MB/s eta 0:00:01\r\u001b[K     |███████████████▎                | 307 kB 19.7 MB/s eta 0:00:01\r\u001b[K     |███████████████▊                | 317 kB 19.7 MB/s eta 0:00:01\r\u001b[K     |████████████████▎               | 327 kB 19.7 MB/s eta 0:00:01\r\u001b[K     |████████████████▊               | 337 kB 19.7 MB/s eta 0:00:01\r\u001b[K     |█████████████████▎              | 348 kB 19.7 MB/s eta 0:00:01\r\u001b[K     |█████████████████▊              | 358 kB 19.7 MB/s eta 0:00:01\r\u001b[K     |██████████████████▎             | 368 kB 19.7 MB/s eta 0:00:01\r\u001b[K     |██████████████████▉             | 378 kB 19.7 MB/s eta 0:00:01\r\u001b[K     |███████████████████▎            | 389 kB 19.7 MB/s eta 0:00:01\r\u001b[K     |███████████████████▉            | 399 kB 19.7 MB/s eta 0:00:01\r\u001b[K     |████████████████████▎           | 409 kB 19.7 MB/s eta 0:00:01\r\u001b[K     |████████████████████▉           | 419 kB 19.7 MB/s eta 0:00:01\r\u001b[K     |█████████████████████▎          | 430 kB 19.7 MB/s eta 0:00:01\r\u001b[K     |█████████████████████▉          | 440 kB 19.7 MB/s eta 0:00:01\r\u001b[K     |██████████████████████▍         | 450 kB 19.7 MB/s eta 0:00:01\r\u001b[K     |██████████████████████▉         | 460 kB 19.7 MB/s eta 0:00:01\r\u001b[K     |███████████████████████▍        | 471 kB 19.7 MB/s eta 0:00:01\r\u001b[K     |███████████████████████▉        | 481 kB 19.7 MB/s eta 0:00:01\r\u001b[K     |████████████████████████▍       | 491 kB 19.7 MB/s eta 0:00:01\r\u001b[K     |████████████████████████▉       | 501 kB 19.7 MB/s eta 0:00:01\r\u001b[K     |█████████████████████████▍      | 512 kB 19.7 MB/s eta 0:00:01\r\u001b[K     |██████████████████████████      | 522 kB 19.7 MB/s eta 0:00:01\r\u001b[K     |██████████████████████████▍     | 532 kB 19.7 MB/s eta 0:00:01\r\u001b[K     |███████████████████████████     | 542 kB 19.7 MB/s eta 0:00:01\r\u001b[K     |███████████████████████████▍    | 552 kB 19.7 MB/s eta 0:00:01\r\u001b[K     |████████████████████████████    | 563 kB 19.7 MB/s eta 0:00:01\r\u001b[K     |████████████████████████████▍   | 573 kB 19.7 MB/s eta 0:00:01\r\u001b[K     |█████████████████████████████   | 583 kB 19.7 MB/s eta 0:00:01\r\u001b[K     |█████████████████████████████▌  | 593 kB 19.7 MB/s eta 0:00:01\r\u001b[K     |██████████████████████████████  | 604 kB 19.7 MB/s eta 0:00:01\r\u001b[K     |██████████████████████████████▌ | 614 kB 19.7 MB/s eta 0:00:01\r\u001b[K     |███████████████████████████████ | 624 kB 19.7 MB/s eta 0:00:01\r\u001b[K     |███████████████████████████████▌| 634 kB 19.7 MB/s eta 0:00:01\r\u001b[K     |████████████████████████████████| 645 kB 19.7 MB/s eta 0:00:01\r\u001b[K     |████████████████████████████████| 645 kB 19.7 MB/s \n",
            "\u001b[?25hBuilding wheels for collected packages: neurolab\n",
            "  Building wheel for neurolab (setup.py) ... \u001b[?25l\u001b[?25hdone\n",
            "  Created wheel for neurolab: filename=neurolab-0.3.5-py3-none-any.whl size=22180 sha256=f659d747d19c7a3a67a0d0ef6755b59a8ee878504bd9a83e9befc06e6118b7e3\n",
            "  Stored in directory: /root/.cache/pip/wheels/3e/07/63/e3d6e066089d7186465184a6f9a1884471485f38beef1edeaa\n",
            "Successfully built neurolab\n",
            "Installing collected packages: neurolab\n",
            "Successfully installed neurolab-0.3.5\n"
          ]
        }
      ],
      "source": [
        "!pip install neurolab"
      ]
    },
    {
      "cell_type": "code",
      "source": [
        "import numpy as np\n",
        "import matplotlib.pyplot as plt\n",
        "import neurolab as nl"
      ],
      "metadata": {
        "id": "CoJcK68kPXn7"
      },
      "execution_count": null,
      "outputs": []
    },
    {
      "cell_type": "markdown",
      "source": [
        "# **Cargar los datos**"
      ],
      "metadata": {
        "id": "2OADIl4nPsV5"
      }
    },
    {
      "cell_type": "code",
      "source": [
        "data = np.loadtxt('data_or.txt')\n",
        "print(data)"
      ],
      "metadata": {
        "colab": {
          "base_uri": "https://localhost:8080/"
        },
        "id": "Q9OGVmnCPulD",
        "outputId": "9b663409-7dfc-4ed0-ab6e-897e00603d95"
      },
      "execution_count": null,
      "outputs": [
        {
          "output_type": "stream",
          "name": "stdout",
          "text": [
            "[[1. 1. 1.]\n",
            " [1. 0. 1.]\n",
            " [0. 1. 1.]\n",
            " [0. 0. 0.]]\n"
          ]
        }
      ]
    },
    {
      "cell_type": "code",
      "source": [
        "type(data)"
      ],
      "metadata": {
        "colab": {
          "base_uri": "https://localhost:8080/"
        },
        "id": "KlJEehDYP4e6",
        "outputId": "028fa9ad-3bd6-492b-eea1-45d816fa59aa"
      },
      "execution_count": null,
      "outputs": [
        {
          "output_type": "execute_result",
          "data": {
            "text/plain": [
              "numpy.ndarray"
            ]
          },
          "metadata": {},
          "execution_count": 7
        }
      ]
    },
    {
      "cell_type": "code",
      "source": [
        "data.shape"
      ],
      "metadata": {
        "colab": {
          "base_uri": "https://localhost:8080/"
        },
        "id": "X3LGyymBP6Di",
        "outputId": "39c68e33-976e-48e2-a371-2a15c306a33a"
      },
      "execution_count": null,
      "outputs": [
        {
          "output_type": "execute_result",
          "data": {
            "text/plain": [
              "(4, 3)"
            ]
          },
          "metadata": {},
          "execution_count": 8
        }
      ]
    },
    {
      "cell_type": "markdown",
      "source": [
        "# **Separamos entradas y salidas**"
      ],
      "metadata": {
        "id": "ya3hdGjkP89K"
      }
    },
    {
      "cell_type": "code",
      "source": [
        "#Entrada\n",
        "X = data[:,0:2]\n",
        "print(X)"
      ],
      "metadata": {
        "colab": {
          "base_uri": "https://localhost:8080/"
        },
        "id": "U5HBgditP9vE",
        "outputId": "9bbcfd8b-6931-44dc-8069-7771d44ce38b"
      },
      "execution_count": null,
      "outputs": [
        {
          "output_type": "stream",
          "name": "stdout",
          "text": [
            "[[1. 1.]\n",
            " [1. 0.]\n",
            " [0. 1.]\n",
            " [0. 0.]]\n"
          ]
        }
      ]
    },
    {
      "cell_type": "code",
      "source": [
        "#Salida\n",
        "y = data[:,2].reshape(data.shape[0],1)\n",
        "print(y)"
      ],
      "metadata": {
        "colab": {
          "base_uri": "https://localhost:8080/"
        },
        "id": "k4bmETF9RRa6",
        "outputId": "886d49dc-bcfb-42af-95c0-c018ddd40ea3"
      },
      "execution_count": null,
      "outputs": [
        {
          "output_type": "stream",
          "name": "stdout",
          "text": [
            "[[1.]\n",
            " [1.]\n",
            " [1.]\n",
            " [0.]]\n"
          ]
        }
      ]
    },
    {
      "cell_type": "code",
      "source": [
        "#Gráficos de data\n",
        "plt.figure()\n",
        "plt.scatter(data[:,0],data[:,1])\n",
        "plt.xlabel('X1')\n",
        "plt.ylabel('X2')\n",
        "plt.title('Datos de Entrada')"
      ],
      "metadata": {
        "colab": {
          "base_uri": "https://localhost:8080/",
          "height": 312
        },
        "id": "KYM0qU4ORpiK",
        "outputId": "e7c47766-fc25-49e2-a241-1f492a486bf7"
      },
      "execution_count": null,
      "outputs": [
        {
          "output_type": "execute_result",
          "data": {
            "text/plain": [
              "Text(0.5, 1.0, 'Datos de Entrada')"
            ]
          },
          "metadata": {},
          "execution_count": 12
        },
        {
          "output_type": "display_data",
          "data": {
            "text/plain": [
              "<Figure size 432x288 with 1 Axes>"
            ],
            "image/png": "[encoded data removed]"
          },
          "metadata": {
            "needs_background": "light"
          }
        }
      ]
    },
    {
      "cell_type": "markdown",
      "source": [
        "# **Definir el mínimo y máximo para cada entrada**"
      ],
      "metadata": {
        "id": "q2Dx667JR2dg"
      }
    },
    {
      "cell_type": "code",
      "source": [
        "x1_min, x1_max = data[:,0].min(), data[:,0].max()"
      ],
      "metadata": {
        "id": "G5M34-1DRy-g"
      },
      "execution_count": null,
      "outputs": []
    },
    {
      "cell_type": "code",
      "source": [
        "x2_min, x2_max = data[:,1].min(), data[:,1].max()"
      ],
      "metadata": {
        "id": "2_q91yEnSYZh"
      },
      "execution_count": null,
      "outputs": []
    },
    {
      "cell_type": "code",
      "source": [
        "print(x1_min,x1_max,x2_min,x2_max)"
      ],
      "metadata": {
        "colab": {
          "base_uri": "https://localhost:8080/"
        },
        "id": "ZwVu2BRQSaPI",
        "outputId": "b2df0716-947c-40c3-80e9-871bd2dc1d8f"
      },
      "execution_count": null,
      "outputs": [
        {
          "output_type": "stream",
          "name": "stdout",
          "text": [
            "0.0 1.0 0.0 1.0\n"
          ]
        }
      ]
    },
    {
      "cell_type": "markdown",
      "source": [
        "# **Numero de neuronas en la capa de salida**"
      ],
      "metadata": {
        "id": "qBgxqIP6R3xi"
      }
    },
    {
      "cell_type": "code",
      "source": [
        "num_salidas = y.shape[1]\n",
        "print(num_salidas)"
      ],
      "metadata": {
        "colab": {
          "base_uri": "https://localhost:8080/"
        },
        "id": "0zWEZeZbSKtc",
        "outputId": "7a146c94-52cb-41b0-9738-5485ef4ac655"
      },
      "execution_count": null,
      "outputs": [
        {
          "output_type": "stream",
          "name": "stdout",
          "text": [
            "1\n"
          ]
        }
      ]
    },
    {
      "cell_type": "markdown",
      "source": [
        "# **Definir un perceptron con 2 neuronas de entrada y 1 de salida**\n",
        "\n"
      ],
      "metadata": {
        "id": "0mguTSc7SNMh"
      }
    },
    {
      "cell_type": "code",
      "source": [
        "x1 = [x1_min,x1_max]\n",
        "x2 = [x2_min,x2_max]\n",
        "perceptron = nl.net.newp([x1,x2],num_salidas)"
      ],
      "metadata": {
        "id": "hDnJN1CuSO26"
      },
      "execution_count": null,
      "outputs": []
    },
    {
      "cell_type": "markdown",
      "source": [
        "# **Entrenar el perceptron usando la data**"
      ],
      "metadata": {
        "id": "zYMgsNsOSndJ"
      }
    },
    {
      "cell_type": "code",
      "source": [
        "progreso_error = perceptron.train(X,y,epochs=100,show=20,lr=0.03)"
      ],
      "metadata": {
        "colab": {
          "base_uri": "https://localhost:8080/"
        },
        "id": "ZOhhb_K6SoKj",
        "outputId": "fe5e4d93-97c3-49ac-8c78-65f18dd33ba6"
      },
      "execution_count": null,
      "outputs": [
        {
          "output_type": "stream",
          "name": "stdout",
          "text": [
            "The goal of learning is reached\n"
          ]
        }
      ]
    },
    {
      "cell_type": "markdown",
      "source": [
        "# **Gráfico del progreso de entrenamiento**"
      ],
      "metadata": {
        "id": "rdY3A-qATLyo"
      }
    },
    {
      "cell_type": "code",
      "source": [
        "plt.figure()\n",
        "plt.plot(progreso_error)\n",
        "plt.xlabel('Número de épocas')\n",
        "plt.ylabel('Error de entrenamiento')\n",
        "plt.title('Progreso de error de entrenamiento')\n",
        "plt.grid()"
      ],
      "metadata": {
        "colab": {
          "base_uri": "https://localhost:8080/",
          "height": 296
        },
        "id": "bXMELxNFTLdx",
        "outputId": "10afa596-489f-46b6-fb3b-fad4b3834855"
      },
      "execution_count": null,
      "outputs": [
        {
          "output_type": "display_data",
          "data": {
            "text/plain": [
              "<Figure size 432x288 with 1 Axes>"
            ],
            "image/png": "[encoded data removed]"
          },
          "metadata": {
            "needs_background": "light"
          }
        }
      ]
    },
    {
      "cell_type": "code",
      "source": [
        "print('\\nResultados de Prueba:')\n",
        "datos_prueba = [[0.89,0.55],[0.38,0.19],[0.47,0.47]]\n",
        "for item in datos_prueba:\n",
        "  print(item, '--->',perceptron.sim([item]))"
      ],
      "metadata": {
        "colab": {
          "base_uri": "https://localhost:8080/"
        },
        "id": "ArZZTTkCTRO5",
        "outputId": "a01c6ad0-fb49-4000-9ff3-84658afba47a"
      },
      "execution_count": null,
      "outputs": [
        {
          "output_type": "stream",
          "name": "stdout",
          "text": [
            "\n",
            "Resultados de Prueba:\n",
            "[0.89, 0.55] ---> [[1.]]\n",
            "[0.38, 0.19] ---> [[1.]]\n",
            "[0.47, 0.47] ---> [[1.]]\n"
          ]
        }
      ]
    },
    {
      "cell_type": "markdown",
      "source": [
        "# **Guardar y cargar una red neuronal entrenada**"
      ],
      "metadata": {
        "id": "he4qbtHcTUNB"
      }
    },
    {
      "cell_type": "code",
      "source": [
        "# Save network in file\n",
        "perceptron.save('perceptron.net')\n",
        "# Load network\n",
        "# net = nl.load('test.net')"
      ],
      "metadata": {
        "id": "PnY06zQxTXBJ"
      },
      "execution_count": null,
      "outputs": []
    }
  ]
}