{
  "nbformat": 4,
  "nbformat_minor": 0,
  "metadata": {
    "colab": {
      "name": "Laboratorio_XOR_Keras.ipynb",
      "provenance": [],
      "authorship_tag": "ABX9TyNcNoErUcK4kZ4M6kLkQqMA",
      "include_colab_link": true
    },
    "kernelspec": {
      "name": "python3",
      "display_name": "Python 3"
    },
    "language_info": {
      "name": "python"
    }
  },
  "cells": [
    {
      "cell_type": "markdown",
      "metadata": {
        "id": "view-in-github",
        "colab_type": "text"
      },
      "source": [
        "<a href=\"https://colab.research.google.com/github/juniorPalomino25/Python/blob/main/Laboratorio_XOR_Keras.ipynb\" target=\"_parent\"><img src=\"https://colab.research.google.com/assets/colab-badge.svg\" alt=\"Open In Colab\"/></a>"
      ]
    },
    {
      "cell_type": "markdown",
      "source": [
        "#Laboratorio utilizando libreria Keras utilizando una data de 2 entradas 1 una salida para la función lógica XOR"
      ],
      "metadata": {
        "id": "727VNxlrCIFR"
      }
    },
    {
      "cell_type": "markdown",
      "source": [
        "##Importar Librerias"
      ],
      "metadata": {
        "id": "uBhzULEXCdAQ"
      }
    },
    {
      "cell_type": "code",
      "execution_count": 45,
      "metadata": {
        "id": "cnnh3vLzB7bW"
      },
      "outputs": [],
      "source": [
        "from numpy import loadtxt\n",
        "from keras.models import Sequential\n",
        "from keras.layers import Dense"
      ]
    },
    {
      "cell_type": "markdown",
      "source": [
        "####Cargar la data XOR"
      ],
      "metadata": {
        "id": "vDqwiHbeCi0n"
      }
    },
    {
      "cell_type": "code",
      "source": [
        "datos = loadtxt('Data_XOR.txt')"
      ],
      "metadata": {
        "id": "UFVkoLuuCsGH"
      },
      "execution_count": 46,
      "outputs": []
    },
    {
      "cell_type": "markdown",
      "source": [
        "####Dividir en datos de entrada (X) y de salida (y)"
      ],
      "metadata": {
        "id": "4NryTpigEaIP"
      }
    },
    {
      "cell_type": "code",
      "source": [
        "X = datos[:,0:2]\n",
        "Y = datos[:,2]"
      ],
      "metadata": {
        "id": "AU40x1XOER3f"
      },
      "execution_count": 47,
      "outputs": []
    },
    {
      "cell_type": "code",
      "source": [
        "X.shape"
      ],
      "metadata": {
        "colab": {
          "base_uri": "https://localhost:8080/"
        },
        "id": "kfgOwh6vL5pk",
        "outputId": "79f901d7-5873-4048-d8c3-38cc8f38b60b"
      },
      "execution_count": 48,
      "outputs": [
        {
          "output_type": "execute_result",
          "data": {
            "text/plain": [
              "(4, 2)"
            ]
          },
          "metadata": {},
          "execution_count": 48
        }
      ]
    },
    {
      "cell_type": "markdown",
      "source": [
        "Definir el modelo base con keras"
      ],
      "metadata": {
        "id": "WkAElVopEfaf"
      }
    },
    {
      "cell_type": "code",
      "source": [
        "modelo = Sequential()"
      ],
      "metadata": {
        "id": "p8h8gN3UKZgM"
      },
      "execution_count": 49,
      "outputs": []
    },
    {
      "cell_type": "code",
      "source": [
        "modelo.add(Dense(12,input_dim=2,activation='relu'))\n",
        "modelo.add(Dense(8,activation='relu'))\n",
        "modelo.add(Dense(1,activation='sigmoid'))"
      ],
      "metadata": {
        "id": "-sNkA2ZxKcEk"
      },
      "execution_count": 50,
      "outputs": []
    },
    {
      "cell_type": "markdown",
      "source": [
        "####Compilar el modelo keras"
      ],
      "metadata": {
        "id": "GmtYHT0EKg01"
      }
    },
    {
      "cell_type": "code",
      "source": [
        "modelo.compile(loss='binary_crossentropy',optimizer='adam',metrics=['accuracy'])"
      ],
      "metadata": {
        "id": "_a38QpjOKiUU"
      },
      "execution_count": 51,
      "outputs": []
    },
    {
      "cell_type": "markdown",
      "source": [
        "####Entrenar el modelo con el conjunto de datos"
      ],
      "metadata": {
        "id": "FtJVJeLNKri9"
      }
    },
    {
      "cell_type": "code",
      "source": [
        "modelo.fit(X,Y,epochs=100,batch_size=10,verbose=0)"
      ],
      "metadata": {
        "colab": {
          "base_uri": "https://localhost:8080/"
        },
        "id": "4f-fBfYYKs08",
        "outputId": "d3491473-6ae2-433c-d430-c04ad355a703"
      },
      "execution_count": 52,
      "outputs": [
        {
          "output_type": "execute_result",
          "data": {
            "text/plain": [
              "<keras.callbacks.History at 0x7ff0d1a6cfd0>"
            ]
          },
          "metadata": {},
          "execution_count": 52
        }
      ]
    },
    {
      "cell_type": "markdown",
      "source": [
        "####Evaluar el modelo"
      ],
      "metadata": {
        "id": "gHevV9C3FIQO"
      }
    },
    {
      "cell_type": "code",
      "source": [
        "_ , accuracy = modelo.evaluate(X,Y)\n",
        "print('Exactitud (accuracy): %.2f' % (accuracy*100))"
      ],
      "metadata": {
        "colab": {
          "base_uri": "https://localhost:8080/"
        },
        "id": "Y5_4wwloFJme",
        "outputId": "d4cda90c-5fb5-4a3c-a7ba-2dc00914d652"
      },
      "execution_count": 53,
      "outputs": [
        {
          "output_type": "stream",
          "name": "stdout",
          "text": [
            "1/1 [==============================] - 0s 104ms/step - loss: 0.6295 - accuracy: 0.7500\n",
            "Exactitud (accuracy): 75.00\n"
          ]
        }
      ]
    },
    {
      "cell_type": "markdown",
      "source": [
        "####Realizar predicciones con el modelo"
      ],
      "metadata": {
        "id": "9CtYeSRTMP6T"
      }
    },
    {
      "cell_type": "code",
      "source": [
        "predicciones = modelo.predict(X)"
      ],
      "metadata": {
        "id": "vvpNqU7OMSnI"
      },
      "execution_count": 54,
      "outputs": []
    },
    {
      "cell_type": "code",
      "source": [
        "Y[0:4]"
      ],
      "metadata": {
        "colab": {
          "base_uri": "https://localhost:8080/"
        },
        "id": "Ht5NXP9SMV8f",
        "outputId": "6f6e5841-add7-47c3-ce19-97ee4471c20f"
      },
      "execution_count": 65,
      "outputs": [
        {
          "output_type": "execute_result",
          "data": {
            "text/plain": [
              "array([0., 1., 1., 0.])"
            ]
          },
          "metadata": {},
          "execution_count": 65
        }
      ]
    },
    {
      "cell_type": "code",
      "source": [
        "predicciones[0:4,]"
      ],
      "metadata": {
        "colab": {
          "base_uri": "https://localhost:8080/"
        },
        "id": "me7t7qmvMcTv",
        "outputId": "cd0cab90-2ca4-40fa-e91e-5d4962a72f69"
      },
      "execution_count": 66,
      "outputs": [
        {
          "output_type": "execute_result",
          "data": {
            "text/plain": [
              "array([[0.49763042],\n",
              "       [0.4910676 ],\n",
              "       [0.6156045 ],\n",
              "       [0.4691998 ]], dtype=float32)"
            ]
          },
          "metadata": {},
          "execution_count": 66
        }
      ]
    },
    {
      "cell_type": "markdown",
      "source": [
        "####comparación con los 4 casos"
      ],
      "metadata": {
        "id": "eNP-ytV3MgPc"
      }
    },
    {
      "cell_type": "code",
      "source": [
        "for i in range(4):\n",
        "  print('%s => %f (esperado %d))' % (X[i].tolist(),predicciones[i],y[i]))"
      ],
      "metadata": {
        "colab": {
          "base_uri": "https://localhost:8080/"
        },
        "id": "zHJFfKDDMhk8",
        "outputId": "66eb532b-41ec-4549-b703-068617839d0d"
      },
      "execution_count": 67,
      "outputs": [
        {
          "output_type": "stream",
          "name": "stdout",
          "text": [
            "[1.0, 1.0] => 0.497630 (esperado 0))\n",
            "[1.0, 0.0] => 0.491068 (esperado 1))\n",
            "[0.0, 1.0] => 0.615605 (esperado 1))\n",
            "[0.0, 0.0] => 0.469200 (esperado 0))\n"
          ]
        }
      ]
    }
  ]
}