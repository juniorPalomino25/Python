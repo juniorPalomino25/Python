{
  "nbformat": 4,
  "nbformat_minor": 0,
  "metadata": {
    "colab": {
      "name": "DL30TasaDeAprendizajeDecaimiento.ipynb",
      "provenance": [],
      "authorship_tag": "ABX9TyPt7moBHPVXDDXX67KuhRYV",
      "include_colab_link": true
    },
    "kernelspec": {
      "name": "python3",
      "display_name": "Python 3"
    },
    "language_info": {
      "name": "python"
    }
  },
  "cells": [
    {
      "cell_type": "markdown",
      "metadata": {
        "id": "view-in-github",
        "colab_type": "text"
      },
      "source": [
        "<a href=\"https://colab.research.google.com/github/juniorPalomino25/Python/blob/main/DL30TasaDeAprendizajeDecaimiento.ipynb\" target=\"_parent\"><img src=\"https://colab.research.google.com/assets/colab-badge.svg\" alt=\"Open In Colab\"/></a>"
      ]
    },
    {
      "cell_type": "markdown",
      "source": [
        "# Tasa de Aprendizaje con Decaimiento Exponencial"
      ],
      "metadata": {
        "id": "lLx7DxVa62iF"
      }
    },
    {
      "cell_type": "markdown",
      "source": [
        "### Importar Librerías"
      ],
      "metadata": {
        "id": "jK7y2Jwd66Mz"
      }
    },
    {
      "cell_type": "code",
      "execution_count": 3,
      "metadata": {
        "id": "VoOXu7Gn6wLj"
      },
      "outputs": [],
      "source": [
        "from pandas import read_csv\n",
        "from keras.models import Sequential\n",
        "from keras.layers import Dense\n",
        "from tensorflow.keras.optimizers.schedules import ExponentialDecay\n",
        "from tensorflow.keras.optimizers import SGD\n",
        "from sklearn.preprocessing import LabelEncoder\n",
        "import numpy"
      ]
    },
    {
      "cell_type": "markdown",
      "source": [
        "### Cargar los datos"
      ],
      "metadata": {
        "id": "TU8yAaNe6_BW"
      }
    },
    {
      "cell_type": "code",
      "source": [
        "datos = numpy.loadtxt(\"ClassifiedData.txt\",delimiter=\",\")\n",
        "X = datos[:,0:11]\n",
        "Y = datos[:,11]"
      ],
      "metadata": {
        "id": "SHWGqnv07BPi"
      },
      "execution_count": 4,
      "outputs": []
    },
    {
      "cell_type": "markdown",
      "source": [
        "### Crear el modelo"
      ],
      "metadata": {
        "id": "Ir1jriw17WUq"
      }
    },
    {
      "cell_type": "code",
      "source": [
        "modelo = Sequential()\n",
        "modelo.add(Dense(34,input_dim=11,activation='relu'))\n",
        "modelo.add(Dense(1,activation='sigmoid'))"
      ],
      "metadata": {
        "id": "hpth3Wc57XKz"
      },
      "execution_count": 5,
      "outputs": []
    },
    {
      "cell_type": "markdown",
      "source": [
        "Compilar el modelo"
      ],
      "metadata": {
        "id": "UTMtKlkI7aPT"
      }
    },
    {
      "cell_type": "code",
      "source": [
        "epocas = 50\n",
        "momento = 0.8\n"
      ],
      "metadata": {
        "id": "5SxqF7jA7bPK"
      },
      "execution_count": 6,
      "outputs": []
    },
    {
      "cell_type": "code",
      "source": [
        "lr_schedule = ExponentialDecay(\n",
        "initial_learning_rate=1e-2,\n",
        "decay_steps=10000,\n",
        "decay_rate=0.9)"
      ],
      "metadata": {
        "id": "irJAFnO77fxq"
      },
      "execution_count": 7,
      "outputs": []
    },
    {
      "cell_type": "code",
      "source": [
        "sgd = SGD(learning_rate=lr_schedule,momentum=momento)"
      ],
      "metadata": {
        "id": "gn9yGFmP7haC"
      },
      "execution_count": 8,
      "outputs": []
    },
    {
      "cell_type": "code",
      "source": [
        "modelo.compile(loss='binary_crossentropy',optimizer=sgd,metrics=['accuracy'])"
      ],
      "metadata": {
        "id": "W5LLtnda7jD6"
      },
      "execution_count": 9,
      "outputs": []
    },
    {
      "cell_type": "code",
      "source": [
        "modelo.fit(X,Y,validation_split=0.33,epochs=epocas,batch_size=28,verbose=2)"
      ],
      "metadata": {
        "colab": {
          "base_uri": "https://localhost:8080/",
          "height": 0
        },
        "id": "GU4nUnpd7k07",
        "outputId": "2728c703-daf3-4e25-9181-b7552fbac168"
      },
      "execution_count": 10,
      "outputs": [
        {
          "output_type": "stream",
          "name": "stdout",
          "text": [
            "Epoch 1/50\n",
            "24/24 - 1s - loss: 9.8298 - accuracy: 0.5217 - val_loss: 0.6941 - val_accuracy: 0.4622 - 817ms/epoch - 34ms/step\n",
            "Epoch 2/50\n",
            "24/24 - 0s - loss: 0.6938 - accuracy: 0.5187 - val_loss: 0.6944 - val_accuracy: 0.4622 - 67ms/epoch - 3ms/step\n",
            "Epoch 3/50\n",
            "24/24 - 0s - loss: 0.6935 - accuracy: 0.5187 - val_loss: 0.6948 - val_accuracy: 0.4622 - 60ms/epoch - 3ms/step\n",
            "Epoch 4/50\n",
            "24/24 - 0s - loss: 0.6932 - accuracy: 0.5187 - val_loss: 0.6949 - val_accuracy: 0.4622 - 60ms/epoch - 3ms/step\n",
            "Epoch 5/50\n",
            "24/24 - 0s - loss: 0.6929 - accuracy: 0.5187 - val_loss: 0.6950 - val_accuracy: 0.4622 - 76ms/epoch - 3ms/step\n",
            "Epoch 6/50\n",
            "24/24 - 0s - loss: 0.6926 - accuracy: 0.5187 - val_loss: 0.6961 - val_accuracy: 0.4622 - 67ms/epoch - 3ms/step\n",
            "Epoch 7/50\n",
            "24/24 - 0s - loss: 0.6927 - accuracy: 0.5187 - val_loss: 0.6961 - val_accuracy: 0.4622 - 73ms/epoch - 3ms/step\n",
            "Epoch 8/50\n",
            "24/24 - 0s - loss: 0.6924 - accuracy: 0.5187 - val_loss: 0.6962 - val_accuracy: 0.4622 - 60ms/epoch - 2ms/step\n",
            "Epoch 9/50\n",
            "24/24 - 0s - loss: 0.6923 - accuracy: 0.5187 - val_loss: 0.6962 - val_accuracy: 0.4622 - 59ms/epoch - 2ms/step\n",
            "Epoch 10/50\n",
            "24/24 - 0s - loss: 0.6922 - accuracy: 0.5187 - val_loss: 0.6966 - val_accuracy: 0.4622 - 67ms/epoch - 3ms/step\n",
            "Epoch 11/50\n",
            "24/24 - 0s - loss: 0.6921 - accuracy: 0.5187 - val_loss: 0.6965 - val_accuracy: 0.4622 - 66ms/epoch - 3ms/step\n",
            "Epoch 12/50\n",
            "24/24 - 0s - loss: 0.6921 - accuracy: 0.5187 - val_loss: 0.6964 - val_accuracy: 0.4622 - 68ms/epoch - 3ms/step\n",
            "Epoch 13/50\n",
            "24/24 - 0s - loss: 0.6919 - accuracy: 0.5187 - val_loss: 0.6961 - val_accuracy: 0.4622 - 74ms/epoch - 3ms/step\n",
            "Epoch 14/50\n",
            "24/24 - 0s - loss: 0.6918 - accuracy: 0.5202 - val_loss: 0.6965 - val_accuracy: 0.4622 - 63ms/epoch - 3ms/step\n",
            "Epoch 15/50\n",
            "24/24 - 0s - loss: 0.6918 - accuracy: 0.5202 - val_loss: 0.6967 - val_accuracy: 0.4622 - 65ms/epoch - 3ms/step\n",
            "Epoch 16/50\n",
            "24/24 - 0s - loss: 0.6918 - accuracy: 0.5202 - val_loss: 0.6967 - val_accuracy: 0.4622 - 65ms/epoch - 3ms/step\n",
            "Epoch 17/50\n",
            "24/24 - 0s - loss: 0.6911 - accuracy: 0.5202 - val_loss: 0.6964 - val_accuracy: 0.4622 - 56ms/epoch - 2ms/step\n",
            "Epoch 18/50\n",
            "24/24 - 0s - loss: 0.6906 - accuracy: 0.5202 - val_loss: 0.6958 - val_accuracy: 0.4622 - 73ms/epoch - 3ms/step\n",
            "Epoch 19/50\n",
            "24/24 - 0s - loss: 0.7118 - accuracy: 0.5187 - val_loss: 0.6953 - val_accuracy: 0.4622 - 64ms/epoch - 3ms/step\n",
            "Epoch 20/50\n",
            "24/24 - 0s - loss: 0.6925 - accuracy: 0.5187 - val_loss: 0.6953 - val_accuracy: 0.4622 - 67ms/epoch - 3ms/step\n",
            "Epoch 21/50\n",
            "24/24 - 0s - loss: 0.6924 - accuracy: 0.5187 - val_loss: 0.6959 - val_accuracy: 0.4622 - 58ms/epoch - 2ms/step\n",
            "Epoch 22/50\n",
            "24/24 - 0s - loss: 0.6923 - accuracy: 0.5187 - val_loss: 0.6962 - val_accuracy: 0.4622 - 71ms/epoch - 3ms/step\n",
            "Epoch 23/50\n",
            "24/24 - 0s - loss: 0.6924 - accuracy: 0.5187 - val_loss: 0.6962 - val_accuracy: 0.4622 - 67ms/epoch - 3ms/step\n",
            "Epoch 24/50\n",
            "24/24 - 0s - loss: 0.6923 - accuracy: 0.5187 - val_loss: 0.6963 - val_accuracy: 0.4622 - 58ms/epoch - 2ms/step\n",
            "Epoch 25/50\n",
            "24/24 - 0s - loss: 0.6923 - accuracy: 0.5187 - val_loss: 0.6967 - val_accuracy: 0.4622 - 56ms/epoch - 2ms/step\n",
            "Epoch 26/50\n",
            "24/24 - 0s - loss: 0.6926 - accuracy: 0.5187 - val_loss: 0.6965 - val_accuracy: 0.4622 - 55ms/epoch - 2ms/step\n",
            "Epoch 27/50\n",
            "24/24 - 0s - loss: 0.6923 - accuracy: 0.5187 - val_loss: 0.6966 - val_accuracy: 0.4622 - 71ms/epoch - 3ms/step\n",
            "Epoch 28/50\n",
            "24/24 - 0s - loss: 0.6923 - accuracy: 0.5187 - val_loss: 0.6964 - val_accuracy: 0.4622 - 56ms/epoch - 2ms/step\n",
            "Epoch 29/50\n",
            "24/24 - 0s - loss: 0.6922 - accuracy: 0.5187 - val_loss: 0.6968 - val_accuracy: 0.4622 - 55ms/epoch - 2ms/step\n",
            "Epoch 30/50\n",
            "24/24 - 0s - loss: 0.6923 - accuracy: 0.5187 - val_loss: 0.6967 - val_accuracy: 0.4622 - 63ms/epoch - 3ms/step\n",
            "Epoch 31/50\n",
            "24/24 - 0s - loss: 0.6922 - accuracy: 0.5187 - val_loss: 0.6970 - val_accuracy: 0.4622 - 65ms/epoch - 3ms/step\n",
            "Epoch 32/50\n",
            "24/24 - 0s - loss: 0.6922 - accuracy: 0.5187 - val_loss: 0.6970 - val_accuracy: 0.4622 - 68ms/epoch - 3ms/step\n",
            "Epoch 33/50\n",
            "24/24 - 0s - loss: 0.6922 - accuracy: 0.5187 - val_loss: 0.6968 - val_accuracy: 0.4622 - 65ms/epoch - 3ms/step\n",
            "Epoch 34/50\n",
            "24/24 - 0s - loss: 0.6921 - accuracy: 0.5187 - val_loss: 0.6965 - val_accuracy: 0.4622 - 58ms/epoch - 2ms/step\n",
            "Epoch 35/50\n",
            "24/24 - 0s - loss: 0.6922 - accuracy: 0.5187 - val_loss: 0.6964 - val_accuracy: 0.4622 - 56ms/epoch - 2ms/step\n",
            "Epoch 36/50\n",
            "24/24 - 0s - loss: 0.6922 - accuracy: 0.5187 - val_loss: 0.6969 - val_accuracy: 0.4622 - 113ms/epoch - 5ms/step\n",
            "Epoch 37/50\n",
            "24/24 - 0s - loss: 0.6924 - accuracy: 0.5187 - val_loss: 0.6970 - val_accuracy: 0.4622 - 71ms/epoch - 3ms/step\n",
            "Epoch 38/50\n",
            "24/24 - 0s - loss: 0.6921 - accuracy: 0.5187 - val_loss: 0.6965 - val_accuracy: 0.4622 - 55ms/epoch - 2ms/step\n",
            "Epoch 39/50\n",
            "24/24 - 0s - loss: 0.6921 - accuracy: 0.5187 - val_loss: 0.6966 - val_accuracy: 0.4622 - 65ms/epoch - 3ms/step\n",
            "Epoch 40/50\n",
            "24/24 - 0s - loss: 0.6920 - accuracy: 0.5187 - val_loss: 0.6968 - val_accuracy: 0.4622 - 67ms/epoch - 3ms/step\n",
            "Epoch 41/50\n",
            "24/24 - 0s - loss: 0.6920 - accuracy: 0.5187 - val_loss: 0.6968 - val_accuracy: 0.4622 - 68ms/epoch - 3ms/step\n",
            "Epoch 42/50\n",
            "24/24 - 0s - loss: 0.6919 - accuracy: 0.5187 - val_loss: 0.6965 - val_accuracy: 0.4622 - 58ms/epoch - 2ms/step\n",
            "Epoch 43/50\n",
            "24/24 - 0s - loss: 0.6922 - accuracy: 0.5172 - val_loss: 0.6968 - val_accuracy: 0.4622 - 56ms/epoch - 2ms/step\n",
            "Epoch 44/50\n",
            "24/24 - 0s - loss: 0.6919 - accuracy: 0.5172 - val_loss: 0.6966 - val_accuracy: 0.4622 - 56ms/epoch - 2ms/step\n",
            "Epoch 45/50\n",
            "24/24 - 0s - loss: 0.6917 - accuracy: 0.5172 - val_loss: 0.6965 - val_accuracy: 0.4622 - 68ms/epoch - 3ms/step\n",
            "Epoch 46/50\n",
            "24/24 - 0s - loss: 0.6916 - accuracy: 0.5172 - val_loss: 0.6965 - val_accuracy: 0.4622 - 57ms/epoch - 2ms/step\n",
            "Epoch 47/50\n",
            "24/24 - 0s - loss: 0.6922 - accuracy: 0.5187 - val_loss: 0.6961 - val_accuracy: 0.4622 - 56ms/epoch - 2ms/step\n",
            "Epoch 48/50\n",
            "24/24 - 0s - loss: 0.6923 - accuracy: 0.5187 - val_loss: 0.6970 - val_accuracy: 0.4622 - 57ms/epoch - 2ms/step\n",
            "Epoch 49/50\n",
            "24/24 - 0s - loss: 0.6920 - accuracy: 0.5187 - val_loss: 0.6967 - val_accuracy: 0.4622 - 64ms/epoch - 3ms/step\n",
            "Epoch 50/50\n",
            "24/24 - 0s - loss: 0.6921 - accuracy: 0.5187 - val_loss: 0.6967 - val_accuracy: 0.4622 - 80ms/epoch - 3ms/step\n"
          ]
        },
        {
          "output_type": "execute_result",
          "data": {
            "text/plain": [
              "<keras.callbacks.History at 0x7f43d699eb90>"
            ]
          },
          "metadata": {},
          "execution_count": 10
        }
      ]
    }
  ]
}