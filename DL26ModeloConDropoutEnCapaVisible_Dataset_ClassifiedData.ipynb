{
  "nbformat": 4,
  "nbformat_minor": 0,
  "metadata": {
    "colab": {
      "name": "DL26ModeloConDropoutEnCapaVisible_Dataset_ClassifiedData.ipynb",
      "provenance": [],
      "authorship_tag": "ABX9TyOa2mduXg39nUKxY5zuLwke",
      "include_colab_link": true
    },
    "kernelspec": {
      "name": "python3",
      "display_name": "Python 3"
    },
    "language_info": {
      "name": "python"
    }
  },
  "cells": [
    {
      "cell_type": "markdown",
      "metadata": {
        "id": "view-in-github",
        "colab_type": "text"
      },
      "source": [
        "<a href=\"https://colab.research.google.com/github/juniorPalomino25/Python/blob/main/DL26ModeloConDropoutEnCapaVisible_Dataset_ClassifiedData.ipynb\" target=\"_parent\"><img src=\"https://colab.research.google.com/assets/colab-badge.svg\" alt=\"Open In Colab\"/></a>"
      ]
    },
    {
      "cell_type": "markdown",
      "source": [
        "# **Dropout en la capa visible**"
      ],
      "metadata": {
        "id": "EldKh-7g0C1t"
      }
    },
    {
      "cell_type": "markdown",
      "source": [
        "### Importar Librerías"
      ],
      "metadata": {
        "id": "w9I9Lglw0Gw8"
      }
    },
    {
      "cell_type": "code",
      "execution_count": 2,
      "metadata": {
        "id": "7p9-t_K8z3XO"
      },
      "outputs": [],
      "source": [
        "from pandas import read_csv\n",
        "from keras.models import Sequential\n",
        "from keras.layers import Dense\n",
        "from keras.layers import Dropout\n",
        "from keras.callbacks import ModelCheckpoint\n",
        "import numpy\n",
        "from keras.wrappers.scikit_learn import KerasClassifier\n",
        "from keras.constraints import maxnorm\n",
        "from tensorflow.keras.optimizers import SGD\n",
        "from sklearn.model_selection import cross_val_score\n",
        "from sklearn.preprocessing import LabelEncoder\n",
        "from sklearn.model_selection import StratifiedKFold\n",
        "from sklearn.preprocessing import StandardScaler\n",
        "from sklearn.pipeline import Pipeline"
      ]
    },
    {
      "cell_type": "markdown",
      "source": [
        "### Cargar los datos"
      ],
      "metadata": {
        "id": "NUldvobG0P30"
      }
    },
    {
      "cell_type": "code",
      "source": [
        "datos = numpy.loadtxt(\"ClassifiedData.txt\",delimiter=\",\")"
      ],
      "metadata": {
        "id": "JNNcZ47f0QvU"
      },
      "execution_count": 3,
      "outputs": []
    },
    {
      "cell_type": "code",
      "source": [
        "X = datos[:,0:11]\n",
        "Y = datos[:,11]"
      ],
      "metadata": {
        "id": "PvYPRH310VmM"
      },
      "execution_count": 4,
      "outputs": []
    },
    {
      "cell_type": "markdown",
      "source": [
        "### Modelo Base"
      ],
      "metadata": {
        "id": "6yQptLKG0VSs"
      }
    },
    {
      "cell_type": "code",
      "source": [
        "def crear_modelo():\n",
        "  modelo = Sequential()\n",
        "  modelo.add(Dropout(0.2,input_shape=(11,)))\n",
        "  modelo.add(Dense(60, activation='relu',kernel_constraint=maxnorm(3)))\n",
        "  modelo.add(Dense(30, activation='relu',kernel_constraint=maxnorm(3)))\n",
        "  modelo.add(Dense(1, activation='sigmoid'))\n",
        "  sgd = SGD(learning_rate=0.1,momentum=0.9)\n",
        "  modelo.compile(loss='binary_crossentropy',optimizer=sgd,metrics=['accuracy'])\n",
        "  return modelo"
      ],
      "metadata": {
        "id": "Zb5yvQBf0a4D"
      },
      "execution_count": 5,
      "outputs": []
    },
    {
      "cell_type": "code",
      "source": [
        "estimadores = []\n",
        "estimadores.append(('estandarizacion',StandardScaler()))\n",
        "estimadores.append(('mlp',KerasClassifier(build_fn=crear_modelo,epochs=300,\n",
        "batch_size=16,verbose=0)))\n",
        "canal = Pipeline(estimadores)\n",
        "kfold = StratifiedKFold(n_splits=10,shuffle=True)\n",
        "resultados = cross_val_score(canal, X, Y, cv=kfold)"
      ],
      "metadata": {
        "colab": {
          "base_uri": "https://localhost:8080/",
          "height": 0
        },
        "id": "VTvauLZp0iN7",
        "outputId": "0ed8dcd5-8c55-46f5-e255-df2086e844f4"
      },
      "execution_count": 7,
      "outputs": [
        {
          "output_type": "stream",
          "name": "stderr",
          "text": [
            "/usr/local/lib/python3.7/dist-packages/ipykernel_launcher.py:4: DeprecationWarning: KerasClassifier is deprecated, use Sci-Keras (https://github.com/adriangb/scikeras) instead. See https://www.adriangb.com/scikeras/stable/migration.html for help migrating.\n",
            "  after removing the cwd from sys.path.\n"
          ]
        }
      ]
    },
    {
      "cell_type": "markdown",
      "source": [
        "### Resultados"
      ],
      "metadata": {
        "id": "mgNbvqSo0m8T"
      }
    },
    {
      "cell_type": "code",
      "source": [
        "resultados"
      ],
      "metadata": {
        "colab": {
          "base_uri": "https://localhost:8080/",
          "height": 0
        },
        "id": "MyUMSQKS0lXU",
        "outputId": "b5522294-f437-4048-f550-dbe011042bda"
      },
      "execution_count": 8,
      "outputs": [
        {
          "output_type": "execute_result",
          "data": {
            "text/plain": [
              "array([0.97000003, 0.92000002, 0.91000003, 0.93000001, 0.88999999,\n",
              "       0.93000001, 0.94      , 0.92000002, 0.94      , 0.89999998])"
            ]
          },
          "metadata": {},
          "execution_count": 8
        }
      ]
    },
    {
      "cell_type": "code",
      "source": [
        "print(\"Modelo Con Dropout en la Entrada: %.2f%% (%.2f%%)\"%\n",
        "(resultados.mean()*100,resultados.std()*100))"
      ],
      "metadata": {
        "colab": {
          "base_uri": "https://localhost:8080/",
          "height": 0
        },
        "id": "Lbw1SXXH0p8s",
        "outputId": "6494d9f2-3fb8-4000-cb3f-2bd97bc82811"
      },
      "execution_count": 9,
      "outputs": [
        {
          "output_type": "stream",
          "name": "stdout",
          "text": [
            "Modelo Con Dropout en la Entrada: 92.50% (2.16%)\n"
          ]
        }
      ]
    }
  ]
}