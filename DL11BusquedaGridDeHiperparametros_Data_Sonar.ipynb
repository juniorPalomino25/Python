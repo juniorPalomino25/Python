{
  "nbformat": 4,
  "nbformat_minor": 0,
  "metadata": {
    "colab": {
      "name": "DL11BusquedaGridDeHiperparametros_Data_Sonar.ipynb",
      "provenance": [],
      "authorship_tag": "ABX9TyOY6im6Bk0pLdoLkvEaMOAP",
      "include_colab_link": true
    },
    "kernelspec": {
      "name": "python3",
      "display_name": "Python 3"
    },
    "language_info": {
      "name": "python"
    }
  },
  "cells": [
    {
      "cell_type": "markdown",
      "metadata": {
        "id": "view-in-github",
        "colab_type": "text"
      },
      "source": [
        "<a href=\"https://colab.research.google.com/github/juniorPalomino25/Python/blob/main/DL11BusquedaGridDeHiperparametros_Data_Sonar.ipynb\" target=\"_parent\"><img src=\"https://colab.research.google.com/assets/colab-badge.svg\" alt=\"Open In Colab\"/></a>"
      ]
    },
    {
      "cell_type": "markdown",
      "source": [
        "# **Búsqueda Grid de Hiperparámetros**"
      ],
      "metadata": {
        "id": "RU53O2I8vP-8"
      }
    },
    {
      "cell_type": "markdown",
      "source": [
        "Red Neuronal para el Dataset \"Pima Indians\" con búsqueda grid con sklearn"
      ],
      "metadata": {
        "id": "CH9py6mDvT8R"
      }
    },
    {
      "cell_type": "markdown",
      "source": [
        "### Importar las librerias"
      ],
      "metadata": {
        "id": "1bEqO6hnvYAp"
      }
    },
    {
      "cell_type": "code",
      "execution_count": 1,
      "metadata": {
        "id": "YZvFmnhdu98W"
      },
      "outputs": [],
      "source": [
        "from keras.models import Sequential\n",
        "from keras.layers import Dense\n",
        "from keras.wrappers.scikit_learn import KerasClassifier\n",
        "from sklearn.model_selection import GridSearchCV\n",
        "import numpy"
      ]
    },
    {
      "cell_type": "markdown",
      "source": [
        "### Función para crear el modelo, requerido por KerasClassifier"
      ],
      "metadata": {
        "id": "K9gfXg81vpxp"
      }
    },
    {
      "cell_type": "code",
      "source": [
        "def crear_modelo(optimizador='rmsprop',inicial='glorot_uniform'):\n",
        "  modelo = Sequential()\n",
        "  modelo.add(Dense(12,input_dim=60,kernel_initializer=inicial,activation='relu'))\n",
        "  modelo.add(Dense(60,kernel_initializer=inicial,activation='relu'))\n",
        "  modelo.add(Dense(1,kernel_initializer=inicial,activation='sigmoid'))\n",
        "  # compilar el modelo\n",
        "  modelo.compile(loss = 'binary_crossentropy', optimizer = optimizador,\n",
        "  metrics=['accuracy'])\n",
        "  return modelo"
      ],
      "metadata": {
        "id": "XQW2mJSOvs7R"
      },
      "execution_count": 2,
      "outputs": []
    },
    {
      "cell_type": "markdown",
      "source": [
        "### Cargar el conjunto de datos"
      ],
      "metadata": {
        "id": "kRRmxXoavxNA"
      }
    },
    {
      "cell_type": "code",
      "source": [
        "datos = numpy.loadtxt(\"sonar_transformado_R_M.txt\",delimiter=\",\")"
      ],
      "metadata": {
        "id": "ICdInU_Cvzed"
      },
      "execution_count": 3,
      "outputs": []
    },
    {
      "cell_type": "markdown",
      "source": [
        "### Dividir los datos de entrada y de salida"
      ],
      "metadata": {
        "id": "OGGhMJ2Tv2OK"
      }
    },
    {
      "cell_type": "code",
      "source": [
        "X = datos[:,0:60]\n",
        "Y = datos[:,60]"
      ],
      "metadata": {
        "id": "0_a0mhKzv7Lw"
      },
      "execution_count": 4,
      "outputs": []
    },
    {
      "cell_type": "markdown",
      "source": [
        "### Crear el modelo"
      ],
      "metadata": {
        "id": "Eq9c0VKwwElI"
      }
    },
    {
      "cell_type": "code",
      "source": [
        "modelo = KerasClassifier(build_fn=crear_modelo,verbose=0)"
      ],
      "metadata": {
        "colab": {
          "base_uri": "https://localhost:8080/"
        },
        "id": "47IAY2IBwHMg",
        "outputId": "4bba49c0-e055-4b39-d483-416cea5f9d86"
      },
      "execution_count": 5,
      "outputs": [
        {
          "output_type": "stream",
          "name": "stderr",
          "text": [
            "/usr/local/lib/python3.7/dist-packages/ipykernel_launcher.py:1: DeprecationWarning: KerasClassifier is deprecated, use Sci-Keras (https://github.com/adriangb/scikeras) instead. See https://www.adriangb.com/scikeras/stable/migration.html for help migrating.\n",
            "  \"\"\"Entry point for launching an IPython kernel.\n"
          ]
        }
      ]
    },
    {
      "cell_type": "markdown",
      "source": [
        "### Búsqueda grid para épocas, tamaño de lote, inicializadores y optimizador"
      ],
      "metadata": {
        "id": "MVjiamaFwJs4"
      }
    },
    {
      "cell_type": "code",
      "source": [
        "optimizadores = ['rmsprop','adam']\n",
        "inicializadores = ['glorot_uniform','normal','uniform']\n",
        "epocas = [50,100,150]\n",
        "tam_lotes = [5,10,20]"
      ],
      "metadata": {
        "id": "1zHm1cH_wMEg"
      },
      "execution_count": 6,
      "outputs": []
    },
    {
      "cell_type": "code",
      "source": [
        "grid_param = dict(optimizador=optimizadores,epochs=epocas,batch_size=tam_lotes,\n",
        "inicial=inicializadores)\n",
        "grid = GridSearchCV(estimator=modelo,param_grid=grid_param, cv=3)\n",
        "resultados_grid = grid.fit(X,Y)"
      ],
      "metadata": {
        "id": "pm8BNYKjwR4Z"
      },
      "execution_count": 7,
      "outputs": []
    },
    {
      "cell_type": "markdown",
      "source": [
        "# Resultados"
      ],
      "metadata": {
        "id": "g0B5Xj4WwYSp"
      }
    },
    {
      "cell_type": "code",
      "source": [
        "print(\"Mejor resultado: %.2f%% usando %s\" % (resultados_grid.best_score_*100,\n",
        "resultados_grid.best_params_))"
      ],
      "metadata": {
        "colab": {
          "base_uri": "https://localhost:8080/"
        },
        "id": "tW_GdAjswpWB",
        "outputId": "a261f4a8-e86a-4dde-9a3d-7c229fb2d5ca"
      },
      "execution_count": 8,
      "outputs": [
        {
          "output_type": "stream",
          "name": "stdout",
          "text": [
            "Mejor resultado: 46.64% usando {'batch_size': 20, 'epochs': 100, 'inicial': 'normal', 'optimizador': 'rmsprop'}\n"
          ]
        }
      ]
    },
    {
      "cell_type": "code",
      "source": [
        "promedio = resultados_grid.cv_results_['mean_test_score']\n",
        "desvest = resultados_grid.cv_results_['std_test_score']\n",
        "parametros = resultados_grid.cv_results_['params']"
      ],
      "metadata": {
        "id": "kJgFXKl_xRFA"
      },
      "execution_count": 9,
      "outputs": []
    },
    {
      "cell_type": "code",
      "source": [
        "for prom, dest, par in zip(promedio,desvest,parametros):\n",
        "  print(\"%.2f%% (%.2f%%) con: %s\" % (prom*100, dest*100, par))"
      ],
      "metadata": {
        "colab": {
          "base_uri": "https://localhost:8080/"
        },
        "id": "zMr9BRhHxHQB",
        "outputId": "324919cc-5bd5-46bf-b83b-ce9c099b5134"
      },
      "execution_count": 10,
      "outputs": [
        {
          "output_type": "stream",
          "name": "stdout",
          "text": [
            "42.77% (15.69%) con: {'batch_size': 5, 'epochs': 50, 'inicial': 'glorot_uniform', 'optimizador': 'rmsprop'}\n",
            "41.35% (11.24%) con: {'batch_size': 5, 'epochs': 50, 'inicial': 'glorot_uniform', 'optimizador': 'adam'}\n",
            "41.78% (16.29%) con: {'batch_size': 5, 'epochs': 50, 'inicial': 'normal', 'optimizador': 'rmsprop'}\n",
            "42.78% (7.18%) con: {'batch_size': 5, 'epochs': 50, 'inicial': 'normal', 'optimizador': 'adam'}\n",
            "42.35% (11.05%) con: {'batch_size': 5, 'epochs': 50, 'inicial': 'uniform', 'optimizador': 'rmsprop'}\n",
            "44.72% (4.35%) con: {'batch_size': 5, 'epochs': 50, 'inicial': 'uniform', 'optimizador': 'adam'}\n",
            "44.68% (10.08%) con: {'batch_size': 5, 'epochs': 100, 'inicial': 'glorot_uniform', 'optimizador': 'rmsprop'}\n",
            "37.02% (10.06%) con: {'batch_size': 5, 'epochs': 100, 'inicial': 'glorot_uniform', 'optimizador': 'adam'}\n",
            "44.23% (5.33%) con: {'batch_size': 5, 'epochs': 100, 'inicial': 'normal', 'optimizador': 'rmsprop'}\n",
            "40.84% (3.88%) con: {'batch_size': 5, 'epochs': 100, 'inicial': 'normal', 'optimizador': 'adam'}\n",
            "42.77% (3.62%) con: {'batch_size': 5, 'epochs': 100, 'inicial': 'uniform', 'optimizador': 'rmsprop'}\n",
            "45.19% (7.11%) con: {'batch_size': 5, 'epochs': 100, 'inicial': 'uniform', 'optimizador': 'adam'}\n",
            "41.82% (0.94%) con: {'batch_size': 5, 'epochs': 150, 'inicial': 'glorot_uniform', 'optimizador': 'rmsprop'}\n",
            "37.99% (2.86%) con: {'batch_size': 5, 'epochs': 150, 'inicial': 'glorot_uniform', 'optimizador': 'adam'}\n",
            "42.80% (8.34%) con: {'batch_size': 5, 'epochs': 150, 'inicial': 'normal', 'optimizador': 'rmsprop'}\n",
            "41.84% (7.80%) con: {'batch_size': 5, 'epochs': 150, 'inicial': 'normal', 'optimizador': 'adam'}\n",
            "44.23% (10.06%) con: {'batch_size': 5, 'epochs': 150, 'inicial': 'uniform', 'optimizador': 'rmsprop'}\n",
            "42.33% (7.03%) con: {'batch_size': 5, 'epochs': 150, 'inicial': 'uniform', 'optimizador': 'adam'}\n",
            "34.15% (14.92%) con: {'batch_size': 10, 'epochs': 50, 'inicial': 'glorot_uniform', 'optimizador': 'rmsprop'}\n",
            "34.11% (13.39%) con: {'batch_size': 10, 'epochs': 50, 'inicial': 'glorot_uniform', 'optimizador': 'adam'}\n",
            "31.25% (15.98%) con: {'batch_size': 10, 'epochs': 50, 'inicial': 'normal', 'optimizador': 'rmsprop'}\n",
            "41.37% (7.64%) con: {'batch_size': 10, 'epochs': 50, 'inicial': 'normal', 'optimizador': 'adam'}\n",
            "34.65% (14.61%) con: {'batch_size': 10, 'epochs': 50, 'inicial': 'uniform', 'optimizador': 'rmsprop'}\n",
            "34.62% (13.67%) con: {'batch_size': 10, 'epochs': 50, 'inicial': 'uniform', 'optimizador': 'adam'}\n",
            "42.30% (4.37%) con: {'batch_size': 10, 'epochs': 100, 'inicial': 'glorot_uniform', 'optimizador': 'rmsprop'}\n",
            "39.88% (6.74%) con: {'batch_size': 10, 'epochs': 100, 'inicial': 'glorot_uniform', 'optimizador': 'adam'}\n",
            "41.33% (5.72%) con: {'batch_size': 10, 'epochs': 100, 'inicial': 'normal', 'optimizador': 'rmsprop'}\n",
            "45.67% (8.88%) con: {'batch_size': 10, 'epochs': 100, 'inicial': 'normal', 'optimizador': 'adam'}\n",
            "45.20% (6.54%) con: {'batch_size': 10, 'epochs': 100, 'inicial': 'uniform', 'optimizador': 'rmsprop'}\n",
            "43.75% (6.54%) con: {'batch_size': 10, 'epochs': 100, 'inicial': 'uniform', 'optimizador': 'adam'}\n",
            "39.89% (9.12%) con: {'batch_size': 10, 'epochs': 150, 'inicial': 'glorot_uniform', 'optimizador': 'rmsprop'}\n",
            "37.52% (2.28%) con: {'batch_size': 10, 'epochs': 150, 'inicial': 'glorot_uniform', 'optimizador': 'adam'}\n",
            "45.67% (8.35%) con: {'batch_size': 10, 'epochs': 150, 'inicial': 'normal', 'optimizador': 'rmsprop'}\n",
            "45.19% (7.11%) con: {'batch_size': 10, 'epochs': 150, 'inicial': 'normal', 'optimizador': 'adam'}\n",
            "45.17% (10.62%) con: {'batch_size': 10, 'epochs': 150, 'inicial': 'uniform', 'optimizador': 'rmsprop'}\n",
            "45.19% (7.11%) con: {'batch_size': 10, 'epochs': 150, 'inicial': 'uniform', 'optimizador': 'adam'}\n",
            "23.15% (16.60%) con: {'batch_size': 20, 'epochs': 50, 'inicial': 'glorot_uniform', 'optimizador': 'rmsprop'}\n",
            "30.82% (13.11%) con: {'batch_size': 20, 'epochs': 50, 'inicial': 'glorot_uniform', 'optimizador': 'adam'}\n",
            "23.18% (23.04%) con: {'batch_size': 20, 'epochs': 50, 'inicial': 'normal', 'optimizador': 'rmsprop'}\n",
            "25.60% (21.96%) con: {'batch_size': 20, 'epochs': 50, 'inicial': 'normal', 'optimizador': 'adam'}\n",
            "24.15% (22.21%) con: {'batch_size': 20, 'epochs': 50, 'inicial': 'uniform', 'optimizador': 'rmsprop'}\n",
            "23.17% (21.05%) con: {'batch_size': 20, 'epochs': 50, 'inicial': 'uniform', 'optimizador': 'adam'}\n",
            "37.49% (11.97%) con: {'batch_size': 20, 'epochs': 100, 'inicial': 'glorot_uniform', 'optimizador': 'rmsprop'}\n",
            "39.45% (10.15%) con: {'batch_size': 20, 'epochs': 100, 'inicial': 'glorot_uniform', 'optimizador': 'adam'}\n",
            "46.64% (5.36%) con: {'batch_size': 20, 'epochs': 100, 'inicial': 'normal', 'optimizador': 'rmsprop'}\n",
            "42.81% (5.60%) con: {'batch_size': 20, 'epochs': 100, 'inicial': 'normal', 'optimizador': 'adam'}\n",
            "43.26% (10.08%) con: {'batch_size': 20, 'epochs': 100, 'inicial': 'uniform', 'optimizador': 'rmsprop'}\n",
            "43.27% (7.11%) con: {'batch_size': 20, 'epochs': 100, 'inicial': 'uniform', 'optimizador': 'adam'}\n",
            "46.15% (4.20%) con: {'batch_size': 20, 'epochs': 150, 'inicial': 'glorot_uniform', 'optimizador': 'rmsprop'}\n",
            "37.95% (6.52%) con: {'batch_size': 20, 'epochs': 150, 'inicial': 'glorot_uniform', 'optimizador': 'adam'}\n",
            "46.16% (7.81%) con: {'batch_size': 20, 'epochs': 150, 'inicial': 'normal', 'optimizador': 'rmsprop'}\n",
            "45.19% (7.11%) con: {'batch_size': 20, 'epochs': 150, 'inicial': 'normal', 'optimizador': 'adam'}\n",
            "43.24% (8.08%) con: {'batch_size': 20, 'epochs': 150, 'inicial': 'uniform', 'optimizador': 'rmsprop'}\n",
            "44.71% (4.74%) con: {'batch_size': 20, 'epochs': 150, 'inicial': 'uniform', 'optimizador': 'adam'}\n"
          ]
        }
      ]
    }
  ]
}