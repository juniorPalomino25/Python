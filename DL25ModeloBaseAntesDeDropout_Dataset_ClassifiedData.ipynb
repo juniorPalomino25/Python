{
  "nbformat": 4,
  "nbformat_minor": 0,
  "metadata": {
    "colab": {
      "name": "DL25ModeloBaseAntesDeDropout_Dataset_ClassifiedData.ipynb",
      "provenance": [],
      "authorship_tag": "ABX9TyP8GUOoQd/6u7m2GrFX7ppw",
      "include_colab_link": true
    },
    "kernelspec": {
      "name": "python3",
      "display_name": "Python 3"
    },
    "language_info": {
      "name": "python"
    }
  },
  "cells": [
    {
      "cell_type": "markdown",
      "metadata": {
        "id": "view-in-github",
        "colab_type": "text"
      },
      "source": [
        "<a href=\"https://colab.research.google.com/github/juniorPalomino25/Python/blob/main/DL25ModeloBaseAntesDeDropout_Dataset_ClassifiedData.ipynb\" target=\"_parent\"><img src=\"https://colab.research.google.com/assets/colab-badge.svg\" alt=\"Open In Colab\"/></a>"
      ]
    },
    {
      "cell_type": "markdown",
      "source": [
        "# **Modelo Base para el Dropout**"
      ],
      "metadata": {
        "id": "luhCRyqrw_of"
      }
    },
    {
      "cell_type": "code",
      "execution_count": 1,
      "metadata": {
        "id": "krY12NVWw-AJ"
      },
      "outputs": [],
      "source": [
        "from pandas import read_csv\n",
        "from keras.models import Sequential\n",
        "from keras.layers import Dense\n",
        "from keras.callbacks import ModelCheckpoint\n",
        "import numpy\n",
        "from keras.wrappers.scikit_learn import KerasClassifier\n",
        "from tensorflow.keras.optimizers import SGD\n",
        "from sklearn.model_selection import cross_val_score\n",
        "from sklearn.preprocessing import LabelEncoder\n",
        "from sklearn.model_selection import StratifiedKFold\n",
        "from sklearn.preprocessing import StandardScaler\n",
        "from sklearn.pipeline import Pipeline"
      ]
    },
    {
      "cell_type": "markdown",
      "source": [
        "### Cargar los datos"
      ],
      "metadata": {
        "id": "9ZG0ff92xHpk"
      }
    },
    {
      "cell_type": "code",
      "source": [
        "datos = numpy.loadtxt(\"ClassifiedData.txt\",delimiter=\",\")"
      ],
      "metadata": {
        "id": "TwD8zC6FxISc"
      },
      "execution_count": 2,
      "outputs": []
    },
    {
      "cell_type": "code",
      "source": [
        "X = datos[:,0:11]\n",
        "Y = datos[:,11]"
      ],
      "metadata": {
        "id": "mLUjYPdkxMyE"
      },
      "execution_count": 3,
      "outputs": []
    },
    {
      "cell_type": "markdown",
      "source": [
        "### Modelo Base"
      ],
      "metadata": {
        "id": "CcNOMgH6xOf0"
      }
    },
    {
      "cell_type": "code",
      "source": [
        "def crear_modelo_base():\n",
        "  modelo = Sequential()\n",
        "  modelo.add(Dense(60, input_dim=11, activation='relu'))\n",
        "  modelo.add(Dense(30, activation='relu'))\n",
        "  modelo.add(Dense(1, activation='sigmoid'))\n",
        "  sgd = SGD(learning_rate=0.01,momentum=0.8)\n",
        "  modelo.compile(loss='binary_crossentropy',optimizer=sgd,metrics=['accuracy'])\n",
        "  return modelo"
      ],
      "metadata": {
        "id": "aSsErZAfxP2s"
      },
      "execution_count": 4,
      "outputs": []
    },
    {
      "cell_type": "code",
      "source": [
        "estimadores = []\n",
        "estimadores.append(('estandarizacion',StandardScaler()))\n",
        "estimadores.append(('mlp',KerasClassifier(build_fn=crear_modelo_base,epochs=300,\n",
        "batch_size=16,verbose=0)))\n",
        "canal = Pipeline(estimadores)\n",
        "kfold = StratifiedKFold(n_splits=10,shuffle=True)\n",
        "resultados = cross_val_score(canal, X, Y, cv=kfold)"
      ],
      "metadata": {
        "colab": {
          "base_uri": "https://localhost:8080/",
          "height": 0
        },
        "id": "kjTaen_Lxhis",
        "outputId": "b7aad1da-1046-4134-8099-da4125a332e2"
      },
      "execution_count": 6,
      "outputs": [
        {
          "output_type": "stream",
          "name": "stderr",
          "text": [
            "/usr/local/lib/python3.7/dist-packages/ipykernel_launcher.py:4: DeprecationWarning: KerasClassifier is deprecated, use Sci-Keras (https://github.com/adriangb/scikeras) instead. See https://www.adriangb.com/scikeras/stable/migration.html for help migrating.\n",
            "  after removing the cwd from sys.path.\n"
          ]
        }
      ]
    },
    {
      "cell_type": "markdown",
      "source": [
        "### Resultados"
      ],
      "metadata": {
        "id": "6gmrROuhxol8"
      }
    },
    {
      "cell_type": "code",
      "source": [
        "resultados"
      ],
      "metadata": {
        "colab": {
          "base_uri": "https://localhost:8080/",
          "height": 0
        },
        "id": "7ZUnvakUxpOd",
        "outputId": "a6f82fca-ed19-402a-9cc6-b11d179c71e1"
      },
      "execution_count": 7,
      "outputs": [
        {
          "output_type": "execute_result",
          "data": {
            "text/plain": [
              "array([0.91000003, 0.94      , 0.88999999, 0.88      , 0.95999998,\n",
              "       0.92000002, 0.98000002, 0.94      , 0.91000003, 0.89999998])"
            ]
          },
          "metadata": {},
          "execution_count": 7
        }
      ]
    },
    {
      "cell_type": "code",
      "source": [
        "print(\"Modelo Base: %.2f%% (%.2f%%)\"%(resultados.mean()*100,resultados.std()*100))"
      ],
      "metadata": {
        "colab": {
          "base_uri": "https://localhost:8080/",
          "height": 0
        },
        "id": "4zAfJ5fLxwcU",
        "outputId": "f5d1500c-cc6f-44a9-a1ed-2649125e1b82"
      },
      "execution_count": 8,
      "outputs": [
        {
          "output_type": "stream",
          "name": "stdout",
          "text": [
            "Modelo Base: 92.30% (3.00%)\n"
          ]
        }
      ]
    }
  ]
}