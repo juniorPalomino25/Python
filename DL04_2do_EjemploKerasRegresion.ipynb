{
  "nbformat": 4,
  "nbformat_minor": 0,
  "metadata": {
    "colab": {
      "name": "DL04_2do_EjemploKerasRegresion.ipynb",
      "provenance": [],
      "authorship_tag": "ABX9TyP32Uds2K2qufSKB0c+fHP9",
      "include_colab_link": true
    },
    "kernelspec": {
      "name": "python3",
      "display_name": "Python 3"
    },
    "language_info": {
      "name": "python"
    }
  },
  "cells": [
    {
      "cell_type": "markdown",
      "metadata": {
        "id": "view-in-github",
        "colab_type": "text"
      },
      "source": [
        "<a href=\"https://colab.research.google.com/github/juniorPalomino25/Python/blob/main/DL04_2do_EjemploKerasRegresion.ipynb\" target=\"_parent\"><img src=\"https://colab.research.google.com/assets/colab-badge.svg\" alt=\"Open In Colab\"/></a>"
      ]
    },
    {
      "cell_type": "markdown",
      "source": [
        "# Ejemplo de Regresion con Keras para el conjunto de datos de Boston"
      ],
      "metadata": {
        "id": "PXaV9CYeV5JF"
      }
    },
    {
      "cell_type": "code",
      "execution_count": 24,
      "metadata": {
        "id": "eFpmmwP6Ve7W"
      },
      "outputs": [],
      "source": [
        "from numpy import loadtxt\n",
        "import tensorflow as tf\n",
        "from keras.models import Sequential\n",
        "from keras.layers import Dense"
      ]
    },
    {
      "cell_type": "markdown",
      "source": [
        "####Cargando el conjunto de datos"
      ],
      "metadata": {
        "id": "BN5uNsxWV1Vd"
      }
    },
    {
      "cell_type": "code",
      "source": [
        "datos = loadtxt('housing.csv')"
      ],
      "metadata": {
        "id": "X-JKcWg7WUlO"
      },
      "execution_count": 25,
      "outputs": []
    },
    {
      "cell_type": "code",
      "source": [
        "print(datos)"
      ],
      "metadata": {
        "colab": {
          "base_uri": "https://localhost:8080/"
        },
        "id": "WVL3owOMXzRn",
        "outputId": "6a9a654a-5b7d-4e03-a94c-35fe45d82678"
      },
      "execution_count": 26,
      "outputs": [
        {
          "output_type": "stream",
          "name": "stdout",
          "text": [
            "[[6.3200e-03 1.8000e+01 2.3100e+00 ... 3.9690e+02 4.9800e+00 2.4000e+01]\n",
            " [2.7310e-02 0.0000e+00 7.0700e+00 ... 3.9690e+02 9.1400e+00 2.1600e+01]\n",
            " [2.7290e-02 0.0000e+00 7.0700e+00 ... 3.9283e+02 4.0300e+00 3.4700e+01]\n",
            " ...\n",
            " [6.0760e-02 0.0000e+00 1.1930e+01 ... 3.9690e+02 5.6400e+00 2.3900e+01]\n",
            " [1.0959e-01 0.0000e+00 1.1930e+01 ... 3.9345e+02 6.4800e+00 2.2000e+01]\n",
            " [4.7410e-02 0.0000e+00 1.1930e+01 ... 3.9690e+02 7.8800e+00 1.1900e+01]]\n"
          ]
        }
      ]
    },
    {
      "cell_type": "code",
      "source": [
        "datos.shape"
      ],
      "metadata": {
        "colab": {
          "base_uri": "https://localhost:8080/"
        },
        "id": "V8u6xWWzXfPE",
        "outputId": "c309ee52-b2f6-43f6-b9bb-806142e910da"
      },
      "execution_count": 27,
      "outputs": [
        {
          "output_type": "execute_result",
          "data": {
            "text/plain": [
              "(506, 14)"
            ]
          },
          "metadata": {},
          "execution_count": 27
        }
      ]
    },
    {
      "cell_type": "markdown",
      "source": [
        "####Dividir la entrada (X) y la salida (Y)"
      ],
      "metadata": {
        "id": "wDBAlgEXX7Iz"
      }
    },
    {
      "cell_type": "code",
      "source": [
        "X = datos[:,0:13]\n",
        "Y = datos[:,13]"
      ],
      "metadata": {
        "id": "m3iM3G5kXyhI"
      },
      "execution_count": 28,
      "outputs": []
    },
    {
      "cell_type": "code",
      "source": [
        "print(X.shape)\n",
        "print(Y.shape)"
      ],
      "metadata": {
        "colab": {
          "base_uri": "https://localhost:8080/"
        },
        "id": "ym2JMkszYTcO",
        "outputId": "0b3e2f42-2937-406a-859d-cb7c7996b04e"
      },
      "execution_count": 29,
      "outputs": [
        {
          "output_type": "stream",
          "name": "stdout",
          "text": [
            "(506, 13)\n",
            "(506,)\n"
          ]
        }
      ]
    },
    {
      "cell_type": "markdown",
      "source": [
        "####Definir el modelo"
      ],
      "metadata": {
        "id": "kNQQ29Z-YfZQ"
      }
    },
    {
      "cell_type": "code",
      "source": [
        "modelo = Sequential()"
      ],
      "metadata": {
        "id": "4RT7yKsXYiK0"
      },
      "execution_count": 30,
      "outputs": []
    },
    {
      "cell_type": "code",
      "source": [
        "# Agregamos capas al modelo\n",
        "modelo.add(Dense(15,input_dim=13, activation='relu'))\n",
        "modelo.add(Dense(8, activation='relu'))\n",
        "modelo.add(Dense(1))"
      ],
      "metadata": {
        "id": "g0o6VhZnYpzR"
      },
      "execution_count": 31,
      "outputs": []
    },
    {
      "cell_type": "markdown",
      "source": [
        "Compilar el modelo"
      ],
      "metadata": {
        "id": "r0PpXDjuZ5Dl"
      }
    },
    {
      "cell_type": "code",
      "source": [
        "modelo.compile(loss='mean_squared_error', optimizer = 'adam',\n",
        "               metrics=[tf.keras.metrics.RootMeanSquaredError()])"
      ],
      "metadata": {
        "id": "Q61yS2ylZ6i8"
      },
      "execution_count": 32,
      "outputs": []
    },
    {
      "cell_type": "markdown",
      "source": [
        "Entrenar el modelo"
      ],
      "metadata": {
        "id": "z8bALUmca3qC"
      }
    },
    {
      "cell_type": "code",
      "source": [
        "modelo.fit(X,Y,epochs=500, batch_size=10,verbose=0)"
      ],
      "metadata": {
        "colab": {
          "base_uri": "https://localhost:8080/"
        },
        "id": "CePvqB9Pa5U5",
        "outputId": "691438e8-a3c9-4ea3-8eb4-d6a495f7918f"
      },
      "execution_count": 33,
      "outputs": [
        {
          "output_type": "execute_result",
          "data": {
            "text/plain": [
              "<keras.callbacks.History at 0x7f4fe2007e10>"
            ]
          },
          "metadata": {},
          "execution_count": 33
        }
      ]
    },
    {
      "cell_type": "markdown",
      "source": [
        "####Evaluar modelo"
      ],
      "metadata": {
        "id": "sMbRMMLrbjBE"
      }
    },
    {
      "cell_type": "code",
      "source": [
        "_ , metrica = modelo.evaluate(X,Y)\n",
        "print('Raiz del promedio de los errores al cuadrado (RMSE): %.2f' % (metrica))"
      ],
      "metadata": {
        "colab": {
          "base_uri": "https://localhost:8080/"
        },
        "id": "XTl7SZ4GblzC",
        "outputId": "0e856f1e-6d9d-4bfb-ad10-6b7f1e75b87f"
      },
      "execution_count": 34,
      "outputs": [
        {
          "output_type": "stream",
          "name": "stdout",
          "text": [
            "16/16 [==============================] - 0s 1ms/step - loss: 14.7563 - root_mean_squared_error: 3.8414\n",
            "Raiz del promedio de los errores al cuadrado (RMSE): 3.84\n"
          ]
        }
      ]
    },
    {
      "cell_type": "markdown",
      "source": [
        "##Realizar predicciones con el modelo"
      ],
      "metadata": {
        "id": "YXZ3uJW6h4Hy"
      }
    },
    {
      "cell_type": "code",
      "source": [
        "predicciones = modelo.predict(X)"
      ],
      "metadata": {
        "id": "fKEtTKRGb2e4"
      },
      "execution_count": 42,
      "outputs": []
    },
    {
      "cell_type": "markdown",
      "source": [
        "Los 10 primeros resultados verdaderos"
      ],
      "metadata": {
        "id": "doO1fUV1iKpo"
      }
    },
    {
      "cell_type": "code",
      "source": [
        "Y[0:10]"
      ],
      "metadata": {
        "colab": {
          "base_uri": "https://localhost:8080/"
        },
        "id": "xFNhOwkZiKQF",
        "outputId": "6db653df-732d-46d9-d5a6-5223c3bbb292"
      },
      "execution_count": 43,
      "outputs": [
        {
          "output_type": "execute_result",
          "data": {
            "text/plain": [
              "array([24. , 21.6, 34.7, 33.4, 36.2, 28.7, 22.9, 27.1, 16.5, 18.9])"
            ]
          },
          "metadata": {},
          "execution_count": 43
        }
      ]
    },
    {
      "cell_type": "markdown",
      "source": [
        "Los 10 primeros resultados predichos"
      ],
      "metadata": {
        "id": "0Z8urGZEiVCR"
      }
    },
    {
      "cell_type": "code",
      "source": [
        "predicciones[0:10]"
      ],
      "metadata": {
        "colab": {
          "base_uri": "https://localhost:8080/"
        },
        "id": "LhFQkqFsiZ7n",
        "outputId": "9b9296db-d3f8-4b87-b106-81d579ac7377"
      },
      "execution_count": 44,
      "outputs": [
        {
          "output_type": "execute_result",
          "data": {
            "text/plain": [
              "array([[33.19095 ],\n",
              "       [24.360264],\n",
              "       [33.26024 ],\n",
              "       [33.268528],\n",
              "       [29.51454 ],\n",
              "       [27.11195 ],\n",
              "       [23.29512 ],\n",
              "       [22.108372],\n",
              "       [19.002079],\n",
              "       [21.354286]], dtype=float32)"
            ]
          },
          "metadata": {},
          "execution_count": 44
        }
      ]
    },
    {
      "cell_type": "markdown",
      "source": [
        "Comparación con los 10 primeros casos"
      ],
      "metadata": {
        "id": "41VCkrHgio6m"
      }
    },
    {
      "cell_type": "code",
      "source": [
        "for i in range(10):\n",
        "  print('%s => %f (esperado %d))' % (X[i].tolist(),predicciones[i],Y[i]))"
      ],
      "metadata": {
        "colab": {
          "base_uri": "https://localhost:8080/"
        },
        "id": "jL_4zTO2irfG",
        "outputId": "8c7f9bd6-a8f4-4f19-b591-5a6546fe3201"
      },
      "execution_count": 45,
      "outputs": [
        {
          "output_type": "stream",
          "name": "stdout",
          "text": [
            "[0.00632, 18.0, 2.31, 0.0, 0.538, 6.575, 65.2, 4.09, 1.0, 296.0, 15.3, 396.9, 4.98] => 33.190948 (esperado 24))\n",
            "[0.02731, 0.0, 7.07, 0.0, 0.469, 6.421, 78.9, 4.9671, 2.0, 242.0, 17.8, 396.9, 9.14] => 24.360264 (esperado 21))\n",
            "[0.02729, 0.0, 7.07, 0.0, 0.469, 7.185, 61.1, 4.9671, 2.0, 242.0, 17.8, 392.83, 4.03] => 33.260239 (esperado 34))\n",
            "[0.03237, 0.0, 2.18, 0.0, 0.458, 6.998, 45.8, 6.0622, 3.0, 222.0, 18.7, 394.63, 2.94] => 33.268528 (esperado 33))\n",
            "[0.06905, 0.0, 2.18, 0.0, 0.458, 7.147, 54.2, 6.0622, 3.0, 222.0, 18.7, 396.9, 5.33] => 29.514540 (esperado 36))\n",
            "[0.02985, 0.0, 2.18, 0.0, 0.458, 6.43, 58.7, 6.0622, 3.0, 222.0, 18.7, 394.12, 5.21] => 27.111950 (esperado 28))\n",
            "[0.08829, 12.5, 7.87, 0.0, 0.524, 6.012, 66.6, 5.5605, 5.0, 311.0, 15.2, 395.6, 12.43] => 23.295120 (esperado 22))\n",
            "[0.14455, 12.5, 7.87, 0.0, 0.524, 6.172, 96.1, 5.9505, 5.0, 311.0, 15.2, 396.9, 19.15] => 22.108372 (esperado 27))\n",
            "[0.21124, 12.5, 7.87, 0.0, 0.524, 5.631, 100.0, 6.0821, 5.0, 311.0, 15.2, 386.63, 29.93] => 19.002079 (esperado 16))\n",
            "[0.17004, 12.5, 7.87, 0.0, 0.524, 6.004, 85.9, 6.5921, 5.0, 311.0, 15.2, 386.71, 17.1] => 21.354286 (esperado 18))\n"
          ]
        }
      ]
    }
  ]
}