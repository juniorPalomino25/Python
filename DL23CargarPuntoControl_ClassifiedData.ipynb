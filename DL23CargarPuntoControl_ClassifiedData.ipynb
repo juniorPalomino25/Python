{
  "nbformat": 4,
  "nbformat_minor": 0,
  "metadata": {
    "colab": {
      "name": "DL23CargarPuntoControl_ClassifiedData.ipynb",
      "provenance": [],
      "authorship_tag": "ABX9TyPt0QEjLVviLgyR7Hj70aSJ",
      "include_colab_link": true
    },
    "kernelspec": {
      "name": "python3",
      "display_name": "Python 3"
    },
    "language_info": {
      "name": "python"
    }
  },
  "cells": [
    {
      "cell_type": "markdown",
      "metadata": {
        "id": "view-in-github",
        "colab_type": "text"
      },
      "source": [
        "<a href=\"https://colab.research.google.com/github/juniorPalomino25/Python/blob/main/DL23CargarPuntoControl_ClassifiedData.ipynb\" target=\"_parent\"><img src=\"https://colab.research.google.com/assets/colab-badge.svg\" alt=\"Open In Colab\"/></a>"
      ]
    },
    {
      "cell_type": "markdown",
      "source": [
        "# **Recuperar pesos desde un punto de control**"
      ],
      "metadata": {
        "id": "-hdSqt3XhetD"
      }
    },
    {
      "cell_type": "code",
      "execution_count": 1,
      "metadata": {
        "colab": {
          "base_uri": "https://localhost:8080/"
        },
        "id": "IbV_IGvIhT7X",
        "outputId": "f1998b48-067b-4950-874f-44302d2d5942"
      },
      "outputs": [
        {
          "output_type": "stream",
          "name": "stdout",
          "text": [
            "Requirement already satisfied: h5py in /usr/local/lib/python3.7/dist-packages (3.1.0)\n",
            "Requirement already satisfied: numpy>=1.14.5 in /usr/local/lib/python3.7/dist-packages (from h5py) (1.21.5)\n",
            "Requirement already satisfied: cached-property in /usr/local/lib/python3.7/dist-packages (from h5py) (1.5.2)\n"
          ]
        }
      ],
      "source": [
        "!pip install h5py"
      ]
    },
    {
      "cell_type": "markdown",
      "source": [
        "# Importar Librerias"
      ],
      "metadata": {
        "id": "Hv68RO6Ihj_w"
      }
    },
    {
      "cell_type": "code",
      "source": [
        "from keras.models import Sequential\n",
        "from keras.layers import Dense\n",
        "from keras.callbacks import ModelCheckpoint\n",
        "import numpy"
      ],
      "metadata": {
        "id": "KbTazJX_hngo"
      },
      "execution_count": 2,
      "outputs": []
    },
    {
      "cell_type": "markdown",
      "source": [
        "Crear el modelo"
      ],
      "metadata": {
        "id": "NYZU20hOhozR"
      }
    },
    {
      "cell_type": "code",
      "source": [
        "modelo = Sequential()\n",
        "modelo.add(Dense(12, input_dim=11, activation='relu'))\n",
        "modelo.add(Dense(8, activation='relu'))\n",
        "modelo.add(Dense(1, activation='sigmoid'))"
      ],
      "metadata": {
        "id": "jVkH6R7ahpJg"
      },
      "execution_count": 3,
      "outputs": []
    },
    {
      "cell_type": "markdown",
      "source": [
        "### Cargar los pesos del punto de control"
      ],
      "metadata": {
        "id": "jiDgnDpWhsFQ"
      }
    },
    {
      "cell_type": "code",
      "source": [
        "modelo.load_weights('mejores_pesos.hdf5')"
      ],
      "metadata": {
        "id": "EkQSJW3mh5-o"
      },
      "execution_count": 4,
      "outputs": []
    },
    {
      "cell_type": "markdown",
      "source": [
        "### Compilar el modelo"
      ],
      "metadata": {
        "id": "gu6qlI--h8Pn"
      }
    },
    {
      "cell_type": "code",
      "source": [
        "modelo.compile(loss='binary_crossentropy',optimizer='adam',metrics=['accuracy'])"
      ],
      "metadata": {
        "id": "BrkICKwdh8xX"
      },
      "execution_count": 5,
      "outputs": []
    },
    {
      "cell_type": "markdown",
      "source": [
        "### Cargar datos de prueba"
      ],
      "metadata": {
        "id": "ngq3-xxkh-IH"
      }
    },
    {
      "cell_type": "code",
      "source": [
        "datos = numpy.loadtxt(\"ClassifiedData.txt\",delimiter=\",\")"
      ],
      "metadata": {
        "id": "eyhkd-TiiAB3"
      },
      "execution_count": 6,
      "outputs": []
    },
    {
      "cell_type": "markdown",
      "source": [
        "### Separar entrada (X) y salida (Y)"
      ],
      "metadata": {
        "id": "T2SUqnzviIo_"
      }
    },
    {
      "cell_type": "code",
      "source": [
        "X = datos[:,0:11]\n",
        "Y = datos[:,11]"
      ],
      "metadata": {
        "id": "46oENun4iGm_"
      },
      "execution_count": 7,
      "outputs": []
    },
    {
      "cell_type": "markdown",
      "source": [
        "### Estimar accuracy en todo el conjunto de datos usando los pesos cargados"
      ],
      "metadata": {
        "id": "pVCt9kDqiKp_"
      }
    },
    {
      "cell_type": "code",
      "source": [
        "puntuacion = modelo.evaluate(X,Y,verbose=0)"
      ],
      "metadata": {
        "id": "kEd_wHysiOpX"
      },
      "execution_count": 8,
      "outputs": []
    },
    {
      "cell_type": "code",
      "source": [
        "modelo.metrics_names"
      ],
      "metadata": {
        "colab": {
          "base_uri": "https://localhost:8080/"
        },
        "id": "MeIyWZd_iQro",
        "outputId": "192c87b4-a652-4d71-b5f5-80eed9758766"
      },
      "execution_count": 9,
      "outputs": [
        {
          "output_type": "execute_result",
          "data": {
            "text/plain": [
              "['loss', 'accuracy']"
            ]
          },
          "metadata": {},
          "execution_count": 9
        }
      ]
    },
    {
      "cell_type": "code",
      "source": [
        "puntuacion"
      ],
      "metadata": {
        "colab": {
          "base_uri": "https://localhost:8080/"
        },
        "id": "0a-_Ht02iSjI",
        "outputId": "f6f4ef9f-8eb1-48a9-e062-08e568ce6a04"
      },
      "execution_count": 10,
      "outputs": [
        {
          "output_type": "execute_result",
          "data": {
            "text/plain": [
              "[0.1324843466281891, 0.9509999752044678]"
            ]
          },
          "metadata": {},
          "execution_count": 10
        }
      ]
    },
    {
      "cell_type": "code",
      "source": [
        "print(\"%s: %.2f%%\"%(modelo.metrics_names[1],puntuacion[1]*100))"
      ],
      "metadata": {
        "colab": {
          "base_uri": "https://localhost:8080/"
        },
        "id": "fft8H60GiTj_",
        "outputId": "6b44f112-85fe-4310-ab2f-50d04b423b6a"
      },
      "execution_count": 11,
      "outputs": [
        {
          "output_type": "stream",
          "name": "stdout",
          "text": [
            "accuracy: 95.10%\n"
          ]
        }
      ]
    },
    {
      "cell_type": "markdown",
      "source": [
        "Predecir para casos nuevos"
      ],
      "metadata": {
        "id": "LwM5vEREiU8n"
      }
    },
    {
      "cell_type": "code",
      "source": [
        "datosnuevos = numpy.loadtxt(\"casosnuevosClassifiedData.txt\",delimiter=\",\")"
      ],
      "metadata": {
        "id": "E2HVK50riyqn"
      },
      "execution_count": 13,
      "outputs": []
    },
    {
      "cell_type": "code",
      "source": [
        "datosnuevos"
      ],
      "metadata": {
        "colab": {
          "base_uri": "https://localhost:8080/"
        },
        "id": "nONYlV8li7CP",
        "outputId": "73ac4fe6-d789-443f-8ee7-1c7de4734fe2"
      },
      "execution_count": 14,
      "outputs": [
        {
          "output_type": "execute_result",
          "data": {
            "text/plain": [
              "array([[ 0.        ,  0.91391733,  1.16207271,  0.56794585,  0.7554639 ,\n",
              "         0.78086157,  0.35260772,  0.75969691,  0.64379756,  0.87942209,\n",
              "         1.23140944],\n",
              "       [ 1.        ,  0.6356319 ,  1.00372163,  0.53534235,  0.82564485,\n",
              "         0.92410893,  0.64845024,  0.67533431,  1.01354599,  0.62155222,\n",
              "         1.4927016 ],\n",
              "       [ 2.        ,  0.72135981,  1.20149262,  0.92198973,  0.85559498,\n",
              "         1.52662939,  0.72078089,  1.62635071,  1.15448315,  0.95787702,\n",
              "         1.28559679],\n",
              "       [ 3.        ,  1.2342044 ,  1.38672629,  0.65304631,  0.82562445,\n",
              "         1.14250354,  0.87512792,  1.40970806,  1.38000255,  1.52269205,\n",
              "         1.15309302],\n",
              "       [ 4.        ,  1.27949082,  0.94974956,  0.62728004,  0.66897608,\n",
              "         1.2325373 ,  0.70372744,  1.1155955 ,  0.6466907 ,  1.46381175,\n",
              "         1.41916658],\n",
              "       [ 5.        ,  0.83392781,  1.52330229,  1.10474267,  1.02113896,\n",
              "         1.10737712,  1.01092954,  1.27953754,  1.28067656,  0.51035026,\n",
              "         1.52804367],\n",
              "       [ 6.        ,  0.94470532,  1.25176135,  1.07488512,  0.286473  ,\n",
              "         0.99643954,  0.42886023,  0.91080498,  0.75530475,  1.11180032,\n",
              "         1.1108423 ],\n",
              "       [ 7.        ,  0.81617385,  1.08839244,  0.89534328,  0.24385957,\n",
              "         0.94312274,  1.04513128,  1.14653599,  1.3418855 ,  1.22532404,\n",
              "         1.42578407],\n",
              "       [ 9.        ,  0.7722801 ,  0.5151114 ,  0.89159588,  0.94086158,\n",
              "         1.43056832,  0.88587629,  1.20523132,  0.59685771,  1.54257962,\n",
              "         0.98187949],\n",
              "       [10.        ,  1.284999  ,  1.33101775,  0.61891031,  0.65701679,\n",
              "         1.0371909 ,  0.71734557,  0.77850055,  0.59931736,  1.24567587,\n",
              "         1.44169455]])"
            ]
          },
          "metadata": {},
          "execution_count": 14
        }
      ]
    },
    {
      "cell_type": "code",
      "source": [
        "resultados = modelo.predict(datosnuevos)"
      ],
      "metadata": {
        "id": "b9OAVl24i8PQ"
      },
      "execution_count": 15,
      "outputs": []
    },
    {
      "cell_type": "code",
      "source": [
        "resultados"
      ],
      "metadata": {
        "colab": {
          "base_uri": "https://localhost:8080/"
        },
        "id": "HhQ2uzaBi9Qf",
        "outputId": "1c50ba7f-4248-449f-cf72-85740f2702d3"
      },
      "execution_count": 16,
      "outputs": [
        {
          "output_type": "execute_result",
          "data": {
            "text/plain": [
              "array([[0.9819242 ],\n",
              "       [0.17696321],\n",
              "       [0.04205629],\n",
              "       [0.80907047],\n",
              "       [0.9409886 ],\n",
              "       [0.01013485],\n",
              "       [0.32974845],\n",
              "       [0.07734928],\n",
              "       [0.9600721 ],\n",
              "       [0.9777017 ]], dtype=float32)"
            ]
          },
          "metadata": {},
          "execution_count": 16
        }
      ]
    }
  ]
}