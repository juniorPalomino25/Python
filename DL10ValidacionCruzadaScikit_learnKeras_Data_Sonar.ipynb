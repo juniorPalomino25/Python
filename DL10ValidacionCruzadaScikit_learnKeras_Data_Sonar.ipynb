{
  "nbformat": 4,
  "nbformat_minor": 0,
  "metadata": {
    "colab": {
      "name": "DL10ValidacionCruzadaScikit_learnKeras_Data_Sonar.ipynb",
      "provenance": [],
      "collapsed_sections": [],
      "authorship_tag": "ABX9TyMXR8h9dm1UzQ5u4TPthxTG",
      "include_colab_link": true
    },
    "kernelspec": {
      "name": "python3",
      "display_name": "Python 3"
    },
    "language_info": {
      "name": "python"
    }
  },
  "cells": [
    {
      "cell_type": "markdown",
      "metadata": {
        "id": "view-in-github",
        "colab_type": "text"
      },
      "source": [
        "<a href=\"https://colab.research.google.com/github/juniorPalomino25/Python/blob/main/DL10ValidacionCruzadaScikit_learnKeras_Data_Sonar.ipynb\" target=\"_parent\"><img src=\"https://colab.research.google.com/assets/colab-badge.svg\" alt=\"Open In Colab\"/></a>"
      ]
    },
    {
      "cell_type": "markdown",
      "source": [
        "# **Validación Cruzada con scikit-learn y keras**"
      ],
      "metadata": {
        "id": "N2o7GBWZsOAe"
      }
    },
    {
      "cell_type": "markdown",
      "source": [
        "Red Neuronal para el Dataset \"Sonar.csv\" con 10-folds para validación cruzada con sklearn"
      ],
      "metadata": {
        "id": "ukxjgE6ksT7H"
      }
    },
    {
      "cell_type": "markdown",
      "source": [
        "### Importar las librerias"
      ],
      "metadata": {
        "id": "33qopVbSshFR"
      }
    },
    {
      "cell_type": "code",
      "source": [
        "from keras.models import Sequential\n",
        "from keras.layers import Dense\n",
        "from keras.wrappers.scikit_learn import KerasClassifier\n",
        "from sklearn.model_selection import StratifiedKFold\n",
        "from sklearn.model_selection import cross_val_score\n",
        "import numpy"
      ],
      "metadata": {
        "id": "hZZdz5xNsgci"
      },
      "execution_count": 1,
      "outputs": []
    },
    {
      "cell_type": "markdown",
      "source": [
        "### Función para crear el modelo, requerido por KerasClassifier"
      ],
      "metadata": {
        "id": "VGhe-UM_sns5"
      }
    },
    {
      "cell_type": "code",
      "execution_count": 2,
      "metadata": {
        "id": "OpMQK4fZsBp1"
      },
      "outputs": [],
      "source": [
        "def crear_modelo():\n",
        "  modelo = Sequential()\n",
        "  modelo.add(Dense(12,input_dim=60,activation='relu'))\n",
        "  modelo.add(Dense(60,activation='relu'))\n",
        "  modelo.add(Dense(1,activation='sigmoid'))\n",
        "  # compilar el modelo\n",
        "  modelo.compile(loss = 'binary_crossentropy', optimizer = 'adam',\n",
        "  metrics=['accuracy'])\n",
        "  return modelo"
      ]
    },
    {
      "cell_type": "markdown",
      "source": [
        "### Cargar el conjunto de datos"
      ],
      "metadata": {
        "id": "7CriuTeesxfb"
      }
    },
    {
      "cell_type": "code",
      "source": [
        "datos = numpy.loadtxt(\"sonar_transformado_R_M.txt\",delimiter=\",\")"
      ],
      "metadata": {
        "id": "Vl0CS2UXsxBh"
      },
      "execution_count": 3,
      "outputs": []
    },
    {
      "cell_type": "markdown",
      "source": [
        "### Dividir los datos de entrada y de salida"
      ],
      "metadata": {
        "id": "03SJCXNHtbTE"
      }
    },
    {
      "cell_type": "code",
      "source": [
        "X = datos[:,0:60]\n",
        "Y = datos[:,60]"
      ],
      "metadata": {
        "id": "9PksigqYtaxR"
      },
      "execution_count": 4,
      "outputs": []
    },
    {
      "cell_type": "markdown",
      "source": [
        "### Crear el modelo"
      ],
      "metadata": {
        "id": "WNcklwzktrlp"
      }
    },
    {
      "cell_type": "code",
      "source": [
        "modelo = KerasClassifier(build_fn=crear_modelo,epochs=150,batch_size=10,verbose=0)"
      ],
      "metadata": {
        "colab": {
          "base_uri": "https://localhost:8080/"
        },
        "id": "Q4_gYY0Rts8J",
        "outputId": "053b767a-8a1e-4415-d2c2-4c6c8581490c"
      },
      "execution_count": 5,
      "outputs": [
        {
          "output_type": "stream",
          "name": "stderr",
          "text": [
            "/usr/local/lib/python3.7/dist-packages/ipykernel_launcher.py:1: DeprecationWarning: KerasClassifier is deprecated, use Sci-Keras (https://github.com/adriangb/scikeras) instead. See https://www.adriangb.com/scikeras/stable/migration.html for help migrating.\n",
            "  \"\"\"Entry point for launching an IPython kernel.\n"
          ]
        }
      ]
    },
    {
      "cell_type": "markdown",
      "source": [
        "### Evaluar el modelo con validación cruzada con 10 folds (10 partes)"
      ],
      "metadata": {
        "id": "lKSI6H3htwDZ"
      }
    },
    {
      "cell_type": "code",
      "source": [
        "kfold = StratifiedKFold(n_splits=10,shuffle=True)\n",
        "resultados = cross_val_score(modelo,X,Y,cv=kfold)\n",
        "print(resultados)"
      ],
      "metadata": {
        "colab": {
          "base_uri": "https://localhost:8080/"
        },
        "id": "DBih7wLpt1Mh",
        "outputId": "00c54cf6-b7a8-4206-aeca-eec280d754db"
      },
      "execution_count": 6,
      "outputs": [
        {
          "output_type": "stream",
          "name": "stdout",
          "text": [
            "WARNING:tensorflow:5 out of the last 13 calls to <function Model.make_test_function.<locals>.test_function at 0x7f80bea97c20> triggered tf.function retracing. Tracing is expensive and the excessive number of tracings could be due to (1) creating @tf.function repeatedly in a loop, (2) passing tensors with different shapes, (3) passing Python objects instead of tensors. For (1), please define your @tf.function outside of the loop. For (2), @tf.function has experimental_relax_shapes=True option that relaxes argument shapes that can avoid unnecessary retracing. For (3), please refer to https://www.tensorflow.org/guide/function#controlling_retracing and https://www.tensorflow.org/api_docs/python/tf/function for  more details.\n",
            "WARNING:tensorflow:5 out of the last 13 calls to <function Model.make_test_function.<locals>.test_function at 0x7f80be9ffe60> triggered tf.function retracing. Tracing is expensive and the excessive number of tracings could be due to (1) creating @tf.function repeatedly in a loop, (2) passing tensors with different shapes, (3) passing Python objects instead of tensors. For (1), please define your @tf.function outside of the loop. For (2), @tf.function has experimental_relax_shapes=True option that relaxes argument shapes that can avoid unnecessary retracing. For (3), please refer to https://www.tensorflow.org/guide/function#controlling_retracing and https://www.tensorflow.org/api_docs/python/tf/function for  more details.\n",
            "[0.71428573 0.76190478 0.85714287 0.71428573 0.85714287 0.71428573\n",
            " 0.85714287 0.90476191 0.85000002 0.94999999]\n"
          ]
        }
      ]
    },
    {
      "cell_type": "code",
      "source": [
        "print(\"Promedio: %.2f%%\" % (resultados.mean()*100))"
      ],
      "metadata": {
        "colab": {
          "base_uri": "https://localhost:8080/"
        },
        "id": "Ww03wSQOt5aR",
        "outputId": "a094c630-8677-41c1-c9d0-42f21b240010"
      },
      "execution_count": 7,
      "outputs": [
        {
          "output_type": "stream",
          "name": "stdout",
          "text": [
            "Promedio: 81.81%\n"
          ]
        }
      ]
    },
    {
      "cell_type": "code",
      "source": [
        "print(\"Desviación estándar: %.2f%%\" % (resultados.std()*100))"
      ],
      "metadata": {
        "colab": {
          "base_uri": "https://localhost:8080/"
        },
        "id": "415321iKt6-q",
        "outputId": "e2ac1324-666e-4b87-d728-a1d749c31935"
      },
      "execution_count": 8,
      "outputs": [
        {
          "output_type": "stream",
          "name": "stdout",
          "text": [
            "Desviación estándar: 8.12%\n"
          ]
        }
      ]
    }
  ]
}