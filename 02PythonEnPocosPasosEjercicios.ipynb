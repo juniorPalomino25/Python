{
  "cells": [
    {
      "cell_type": "markdown",
      "metadata": {
        "id": "view-in-github",
        "colab_type": "text"
      },
      "source": [
        "<a href=\"https://colab.research.google.com/github/juniorPalomino25/Python/blob/main/02PythonEnPocosPasosEjercicios.ipynb\" target=\"_parent\"><img src=\"https://colab.research.google.com/assets/colab-badge.svg\" alt=\"Open In Colab\"/></a>"
      ]
    },
    {
      "cell_type": "markdown",
      "metadata": {
        "id": "YOaoDmWLgMVF"
      },
      "source": [
        "# Python En Pocos Pasos: Ejercicios \n",
        "\n",
        "Este es un ejercicio para evaluar su comprensión de los Fundamentos de Python."
      ]
    },
    {
      "cell_type": "markdown",
      "metadata": {
        "id": "t0QGBJGegMVH"
      },
      "source": [
        "## Ejercicios\n",
        "\n",
        "Responda las preguntas o complete las tareas que se detallan en negrita a continuación, use el método específico descrito, si corresponde."
      ]
    },
    {
      "cell_type": "markdown",
      "metadata": {
        "id": "IvDDlSjXgMVI"
      },
      "source": [
        "** ¿Cuánto es 7 a la potencia de 4?**"
      ]
    },
    {
      "cell_type": "code",
      "execution_count": 3,
      "metadata": {
        "colab": {
          "base_uri": "https://localhost:8080/",
          "height": 0
        },
        "id": "LNpiqHXrgMVJ",
        "outputId": "895489c2-95ab-40c3-c47a-61dadcd9f518"
      },
      "outputs": [
        {
          "output_type": "execute_result",
          "data": {
            "text/plain": [
              "2401"
            ]
          },
          "metadata": {},
          "execution_count": 3
        }
      ],
      "source": [
        "7**4"
      ]
    },
    {
      "cell_type": "markdown",
      "metadata": {
        "id": "fQTM-065gMVL"
      },
      "source": [
        "** Divida esta cadena:**\n",
        "\n",
        "    s = \"Hola que tal\"\n",
        "    \n",
        "**en una lista. **"
      ]
    },
    {
      "cell_type": "code",
      "execution_count": 4,
      "metadata": {
        "id": "zWBKL2cKgMVM"
      },
      "outputs": [],
      "source": [
        "s=\"Hola que tal\""
      ]
    },
    {
      "cell_type": "code",
      "execution_count": 5,
      "metadata": {
        "colab": {
          "base_uri": "https://localhost:8080/",
          "height": 0
        },
        "id": "-ZMIPeCXgMVN",
        "outputId": "5d4fb71d-6707-46fe-a30a-5d3c5aadc80a"
      },
      "outputs": [
        {
          "output_type": "execute_result",
          "data": {
            "text/plain": [
              "['Hola', 'que', 'tal']"
            ]
          },
          "metadata": {},
          "execution_count": 5
        }
      ],
      "source": [
        "s.split()"
      ]
    },
    {
      "cell_type": "markdown",
      "metadata": {
        "id": "s__jM7jygMVO"
      },
      "source": [
        "** Dadas las variables:**\n",
        "\n",
        "    planeta = \"Tierra\"\n",
        "    diametro = 12742\n",
        "\n",
        "** Use .format() para imprimir la siguiente cadena: **\n",
        "\n",
        "    El diámetro de la Tierra es de 12742 kilómetros."
      ]
    },
    {
      "cell_type": "code",
      "execution_count": 6,
      "metadata": {
        "id": "F9DfI5gTgMVP"
      },
      "outputs": [],
      "source": [
        "planeta = \"Tierra\"\n",
        "diametro = 12742"
      ]
    },
    {
      "cell_type": "code",
      "execution_count": 8,
      "metadata": {
        "colab": {
          "base_uri": "https://localhost:8080/",
          "height": 0
        },
        "id": "WifEIvkRgMVQ",
        "outputId": "5a93adc2-e30d-4f71-cf3a-1571f3f315c9"
      },
      "outputs": [
        {
          "output_type": "stream",
          "name": "stdout",
          "text": [
            "El diámetro de la Tierra es de 12742 kilómetros.\n"
          ]
        }
      ],
      "source": [
        "print(\"El diámetro de la {} es de {} kilómetros.\".format(planeta,diametro))"
      ]
    },
    {
      "cell_type": "markdown",
      "metadata": {
        "id": "HHuL7__ugMVQ"
      },
      "source": [
        "** Dada esta lista anidada, usa indexación para tomar la palabra \"hola\" **"
      ]
    },
    {
      "cell_type": "code",
      "execution_count": 9,
      "metadata": {
        "id": "V1qGpyergMVR"
      },
      "outputs": [],
      "source": [
        "lst = [1,2,[3,4],[5,[100,200,['hola']],23,11],1,7]"
      ]
    },
    {
      "cell_type": "code",
      "execution_count": 15,
      "metadata": {
        "colab": {
          "base_uri": "https://localhost:8080/",
          "height": 35
        },
        "id": "W6kuUnNOgMVR",
        "outputId": "45256fe4-ffdc-4eef-a799-21999837ae42"
      },
      "outputs": [
        {
          "output_type": "execute_result",
          "data": {
            "application/vnd.google.colaboratory.intrinsic+json": {
              "type": "string"
            },
            "text/plain": [
              "'hola'"
            ]
          },
          "metadata": {},
          "execution_count": 15
        }
      ],
      "source": [
        "lst[3][1][2][0]"
      ]
    },
    {
      "cell_type": "markdown",
      "metadata": {
        "id": "XeNLdglRgMVS"
      },
      "source": [
        "** Dado este diccionario anidado, tome la palabra \"hola\". **"
      ]
    },
    {
      "cell_type": "code",
      "execution_count": 20,
      "metadata": {
        "id": "GI0qIrmPgMVS"
      },
      "outputs": [],
      "source": [
        "d = {'c1':[1,2,3,{'truco':['oh','hombre','incepción',{'destino':[1,2,3,'hola']}]}]}"
      ]
    },
    {
      "cell_type": "code",
      "execution_count": 35,
      "metadata": {
        "colab": {
          "base_uri": "https://localhost:8080/",
          "height": 35
        },
        "id": "jDrH0HoHgMVT",
        "outputId": "2bb075ea-8dd1-4a47-8c86-582950496ec7"
      },
      "outputs": [
        {
          "output_type": "execute_result",
          "data": {
            "application/vnd.google.colaboratory.intrinsic+json": {
              "type": "string"
            },
            "text/plain": [
              "'hola'"
            ]
          },
          "metadata": {},
          "execution_count": 35
        }
      ],
      "source": [
        "d['c1'][3]['truco'][3]['destino'][3]"
      ]
    },
    {
      "cell_type": "markdown",
      "metadata": {
        "id": "vL_uzDUAgMVT"
      },
      "source": [
        "** ¿Cuál es la principal diferencia entre una tupla y una lista? **"
      ]
    },
    {
      "cell_type": "code",
      "execution_count": null,
      "metadata": {
        "collapsed": true,
        "id": "VBn2lgr_gMVU"
      },
      "outputs": [],
      "source": [
        "# La tupla es estática a diferencia de que una lista es dinámica"
      ]
    },
    {
      "cell_type": "markdown",
      "metadata": {
        "id": "MVa7wyi7gMVU"
      },
      "source": [
        "** Cree una función que capture el dominio del sitio web de correo electrónico a partir de una cadena con el siguiente formato: **\n",
        "\n",
        "    usuario@dominio.com\n",
        "    \n",
        "**Entonces, por ejemplo, pasar \"usuario@dominio.com\" devolvería: dominio.com**"
      ]
    },
    {
      "cell_type": "code",
      "execution_count": 75,
      "metadata": {
        "id": "EVLksHvJgMVV"
      },
      "outputs": [],
      "source": [
        "def obtenerDominio(correo='cadena'):\n",
        "  return(correo[8:])"
      ]
    },
    {
      "cell_type": "code",
      "execution_count": 76,
      "metadata": {
        "colab": {
          "base_uri": "https://localhost:8080/",
          "height": 35
        },
        "id": "8Ya42T8igMVV",
        "outputId": "421037ea-b509-4438-aea0-428da5c81305"
      },
      "outputs": [
        {
          "output_type": "execute_result",
          "data": {
            "application/vnd.google.colaboratory.intrinsic+json": {
              "type": "string"
            },
            "text/plain": [
              "'dominio.com'"
            ]
          },
          "metadata": {},
          "execution_count": 76
        }
      ],
      "source": [
        "obtenerDominio('usuario@dominio.com')"
      ]
    },
    {
      "cell_type": "markdown",
      "metadata": {
        "id": "93PTRF6EgMVV"
      },
      "source": [
        "** Cree una función básica que devuelva True si la palabra 'perro' está contenida en la cadena de entrada. No se preocupe por los casos extremos como una puntuación que se adjunta a la palabra perro, no diferencie mayúsculas de minúsculas. **"
      ]
    },
    {
      "cell_type": "code",
      "execution_count": 81,
      "metadata": {
        "id": "lw1Ilw3sgMVW"
      },
      "outputs": [],
      "source": [
        "def encontrarPerro(cadena):\n",
        "  bandera = False\n",
        "  if 'perro' in cadena:\n",
        "    bandera = True\n",
        "  return bandera"
      ]
    },
    {
      "cell_type": "code",
      "execution_count": 84,
      "metadata": {
        "colab": {
          "base_uri": "https://localhost:8080/",
          "height": 0
        },
        "id": "QvVWuq_0gMVW",
        "outputId": "73e83767-8739-41e9-f0e4-94b1e3974c89"
      },
      "outputs": [
        {
          "output_type": "execute_result",
          "data": {
            "text/plain": [
              "True"
            ]
          },
          "metadata": {},
          "execution_count": 84
        }
      ],
      "source": [
        "encontrarPerro('¿Hay algún perro por ahí?')"
      ]
    },
    {
      "cell_type": "markdown",
      "metadata": {
        "id": "Yfz3SMQNgMVW"
      },
      "source": [
        "** Crea una función que cuente la cantidad de veces que aparece la palabra \"perro\" en una cadena. Nuevamente ignore los casos extremos. **"
      ]
    },
    {
      "cell_type": "code",
      "execution_count": 108,
      "metadata": {
        "id": "f3fQFwu6gMVX"
      },
      "outputs": [],
      "source": [
        "def contarPerro (palabra):\n",
        "  cont=0\n",
        "  i=0\n",
        "  cadena = palabra.split()\n",
        "  for item in cadena:\n",
        "    if 'perro' == cadena[i]:\n",
        "      cont=cont+1\n",
        "    i=i+1\n",
        "  return cont"
      ]
    },
    {
      "cell_type": "code",
      "execution_count": 109,
      "metadata": {
        "colab": {
          "base_uri": "https://localhost:8080/",
          "height": 0
        },
        "id": "rX1Qf0mUgMVX",
        "outputId": "4e0c1990-3532-431e-9dbb-43ab3d1980f1"
      },
      "outputs": [
        {
          "output_type": "execute_result",
          "data": {
            "text/plain": [
              "2"
            ]
          },
          "metadata": {},
          "execution_count": 109
        }
      ],
      "source": [
        "contarPerro('Este perro corre más rápido que el otro perro')"
      ]
    },
    {
      "cell_type": "markdown",
      "metadata": {
        "id": "wIzDKKcvgMVX"
      },
      "source": [
        "** Use expresiones lambda y la función filter () para filtrar las palabras de una lista que no comienza con la letra 's'. Por ejemplo:**\n",
        "\n",
        "    seq = ['sopa', 'perro', 'salado,'gato','excelente']\n",
        "\n",
        "**debe ser filtrado a:**\n",
        "\n",
        "    ['sopa', 'salado']"
      ]
    },
    {
      "cell_type": "code",
      "execution_count": 139,
      "metadata": {
        "id": "GrDUtMnogMVY"
      },
      "outputs": [],
      "source": [
        "seq = ['sopa', 'perro', 'salado','gato','excelente']"
      ]
    },
    {
      "cell_type": "code",
      "source": [
        "lista = []\n",
        "i=0\n",
        "for item in seq:\n",
        "  if seq[i][0] == 's':\n",
        "    lista.append(seq[i])\n",
        "  i=i+1\n",
        "print(lista)"
      ],
      "metadata": {
        "colab": {
          "base_uri": "https://localhost:8080/",
          "height": 0
        },
        "id": "Fs0tJKcz2kVe",
        "outputId": "5f87a695-50df-4a5b-ea2d-7efb47c5d7fa"
      },
      "execution_count": 130,
      "outputs": [
        {
          "output_type": "stream",
          "name": "stdout",
          "text": [
            "['sopa', 'salado']\n"
          ]
        }
      ]
    },
    {
      "cell_type": "code",
      "execution_count": 144,
      "metadata": {
        "colab": {
          "base_uri": "https://localhost:8080/",
          "height": 0
        },
        "id": "6Qn4qPxjgMVY",
        "outputId": "fa47bab3-5266-40b6-eb35-0a2732dfc042"
      },
      "outputs": [
        {
          "output_type": "execute_result",
          "data": {
            "text/plain": [
              "['sopa', 'salado']"
            ]
          },
          "metadata": {},
          "execution_count": 144
        }
      ],
      "source": [
        "list(filter(lambda c: c.startswith('s'),seq))"
      ]
    },
    {
      "cell_type": "markdown",
      "metadata": {
        "id": "izX4EQTUgMVa"
      },
      "source": [
        "# Problema Final\n",
        "**Usted conduce un poco demasiado rápido, y un oficial de policía lo detiene. Escriba una función para devolver uno de los 3 posibles resultados: \"Sin infracción\", \"Infracción leve\" o \"Infracción Grave\". Si su velocidad es 60 o menos, el resultado es \"Sin infracción\". Si la velocidad está entre 61 y 80 inclusive, el resultado es \"Infracción leve\". Si la velocidad es 81 o más, el resultado es \"Infracción Grave\". A menos que sea su cumpleaños (codificado como un valor booleano en los parámetros de la función) - en su cumpleaños, su velocidad puede ser 5 más alta en todos los casos.**"
      ]
    },
    {
      "cell_type": "code",
      "execution_count": 145,
      "metadata": {
        "id": "Hf5PbWuNgMVa"
      },
      "outputs": [],
      "source": [
        "def saber_infraccion(velocidad, cumpleaños):\n",
        "  if cumpleaños == True:\n",
        "    if velocidad<=65:\n",
        "      print(\"sin infraccion\")\n",
        "    elif velocidad>=66 and velocidad<=85:\n",
        "      print(\"infracción leve\")\n",
        "    else:\n",
        "      print(\"infracción grave\")\n",
        "  else:\n",
        "    if velocidad<=60:\n",
        "      print(\"sin infraccion\")\n",
        "    elif velocidad>=61 and velocidad<=80:\n",
        "      print(\"infracción leve\")\n",
        "    else:\n",
        "      print(\"infracción grave\")"
      ]
    },
    {
      "cell_type": "code",
      "execution_count": 154,
      "metadata": {
        "colab": {
          "base_uri": "https://localhost:8080/",
          "height": 0
        },
        "id": "UCHm9b3VgMVb",
        "outputId": "1679e64b-f80e-45aa-bb08-41c8dd12e27a"
      },
      "outputs": [
        {
          "output_type": "stream",
          "name": "stdout",
          "text": [
            "infracción leve\n"
          ]
        }
      ],
      "source": [
        "saber_infraccion(81,True)"
      ]
    },
    {
      "cell_type": "code",
      "execution_count": 153,
      "metadata": {
        "colab": {
          "base_uri": "https://localhost:8080/",
          "height": 0
        },
        "id": "hAhlp6yVgMVb",
        "outputId": "e2a348eb-d2ec-4880-c53e-4db0c13f06fe"
      },
      "outputs": [
        {
          "output_type": "stream",
          "name": "stdout",
          "text": [
            "infracción grave\n"
          ]
        }
      ],
      "source": [
        "saber_infraccion(81,False)"
      ]
    },
    {
      "cell_type": "markdown",
      "metadata": {
        "id": "--SHlGfFgMVb"
      },
      "source": [
        "# ¡Excelente!"
      ]
    }
  ],
  "metadata": {
    "kernelspec": {
      "display_name": "Python 3",
      "language": "python",
      "name": "python3"
    },
    "language_info": {
      "codemirror_mode": {
        "name": "ipython",
        "version": 3
      },
      "file_extension": ".py",
      "mimetype": "text/x-python",
      "name": "python",
      "nbconvert_exporter": "python",
      "pygments_lexer": "ipython3",
      "version": "3.6.4"
    },
    "colab": {
      "name": "02PythonEnPocosPasosEjercicios.ipynb",
      "provenance": [],
      "include_colab_link": true
    }
  },
  "nbformat": 4,
  "nbformat_minor": 0
}