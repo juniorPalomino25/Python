{
  "nbformat": 4,
  "nbformat_minor": 0,
  "metadata": {
    "colab": {
      "name": "DL16_zcModeloRegresionProfundo.ipynb",
      "provenance": [],
      "include_colab_link": true
    },
    "kernelspec": {
      "name": "python3",
      "display_name": "Python 3"
    },
    "language_info": {
      "name": "python"
    }
  },
  "cells": [
    {
      "cell_type": "markdown",
      "metadata": {
        "id": "view-in-github",
        "colab_type": "text"
      },
      "source": [
        "<a href=\"https://colab.research.google.com/github/juniorPalomino25/Python/blob/main/DL16_zcModeloRegresionProfundo.ipynb\" target=\"_parent\"><img src=\"https://colab.research.google.com/assets/colab-badge.svg\" alt=\"Open In Colab\"/></a>"
      ]
    },
    {
      "cell_type": "markdown",
      "source": [
        "# **Modelo de Regresión Base para el conjunto de Datos Boston Estandarizado y más grande**"
      ],
      "metadata": {
        "id": "Z8gSjrmWU7C2"
      }
    },
    {
      "cell_type": "markdown",
      "source": [
        "### Importar Librerías"
      ],
      "metadata": {
        "id": "Wywd2WYJU_Wt"
      }
    },
    {
      "cell_type": "code",
      "execution_count": 1,
      "metadata": {
        "id": "Cm_YQP8vF8th"
      },
      "outputs": [],
      "source": [
        "from pandas import read_csv\n",
        "from keras.models import Sequential\n",
        "from keras.layers import Dense\n",
        "from keras.wrappers.scikit_learn import KerasRegressor\n",
        "from sklearn.model_selection import cross_val_score\n",
        "from sklearn.model_selection import KFold\n",
        "from sklearn.preprocessing import StandardScaler\n",
        "from sklearn.pipeline import Pipeline\n",
        "from sklearn.datasets import make_regression\n"
      ]
    },
    {
      "cell_type": "code",
      "source": [
        "X, Y = make_regression(n_samples=2000, n_features=20, noise=0.1, random_state=101)"
      ],
      "metadata": {
        "id": "MvQRUKPRXiuE"
      },
      "execution_count": 2,
      "outputs": []
    },
    {
      "cell_type": "code",
      "source": [
        "def modelo_base():\n",
        "  #Crear el modelo\n",
        "  modelo = Sequential()\n",
        "  modelo.add(Dense(13, input_dim=20,activation='relu'))\n",
        "  modelo.add(Dense(1))\n",
        "  #Compila el modelo\n",
        "  modelo.compile(loss='mean_squared_error',optimizer='adam')\n",
        "  return modelo"
      ],
      "metadata": {
        "id": "2WLmhTL9Gbc4"
      },
      "execution_count": 3,
      "outputs": []
    },
    {
      "cell_type": "code",
      "source": [
        "estimadores = []"
      ],
      "metadata": {
        "id": "K0jr2LFaGgsh"
      },
      "execution_count": 4,
      "outputs": []
    },
    {
      "cell_type": "code",
      "source": [
        "estimadores.append(('estandarización',StandardScaler()))"
      ],
      "metadata": {
        "id": "NrMz5w8aGiBJ"
      },
      "execution_count": 5,
      "outputs": []
    },
    {
      "cell_type": "code",
      "source": [
        "estimadores.append(('red',KerasRegressor(build_fn=modelo_base,\n",
        "epochs=100,batch_size=5,verbose=0)))"
      ],
      "metadata": {
        "colab": {
          "base_uri": "https://localhost:8080/",
          "height": 0
        },
        "id": "APRnc2CMGinp",
        "outputId": "9f376d08-8389-4fc3-9ffd-482a4939ab51"
      },
      "execution_count": 6,
      "outputs": [
        {
          "output_type": "stream",
          "name": "stderr",
          "text": [
            "/usr/local/lib/python3.7/dist-packages/ipykernel_launcher.py:2: DeprecationWarning: KerasRegressor is deprecated, use Sci-Keras (https://github.com/adriangb/scikeras) instead. See https://www.adriangb.com/scikeras/stable/migration.html for help migrating.\n",
            "  \n"
          ]
        }
      ]
    },
    {
      "cell_type": "code",
      "source": [
        "canal = Pipeline(estimadores)"
      ],
      "metadata": {
        "id": "nkNwvDw1GlBY"
      },
      "execution_count": 7,
      "outputs": []
    },
    {
      "cell_type": "code",
      "source": [
        "kfold = KFold(n_splits=10)"
      ],
      "metadata": {
        "id": "zB5MX5jcGm1t"
      },
      "execution_count": 8,
      "outputs": []
    },
    {
      "cell_type": "code",
      "source": [
        "resultados = cross_val_score(canal, X , Y, cv=kfold)"
      ],
      "metadata": {
        "id": "J0jClxqOGoDb"
      },
      "execution_count": 9,
      "outputs": []
    },
    {
      "cell_type": "code",
      "source": [
        "resultados"
      ],
      "metadata": {
        "colab": {
          "base_uri": "https://localhost:8080/",
          "height": 0
        },
        "id": "M7497L3nHMMf",
        "outputId": "e0c0000e-67ba-43a3-caee-0fef3e15ceef"
      },
      "execution_count": 10,
      "outputs": [
        {
          "output_type": "execute_result",
          "data": {
            "text/plain": [
              "array([-1.98680162, -0.51909393, -0.72524339, -0.72774279, -0.88619876,\n",
              "       -9.88314056, -0.8754186 , -1.10577834, -1.50707483, -0.55309504])"
            ]
          },
          "metadata": {},
          "execution_count": 10
        }
      ]
    },
    {
      "cell_type": "code",
      "source": [
        "print(\"Modelo Base: %.2f (%.2f) Error cuadrado promedio (MSE)\" %\n",
        "(resultados.mean()*(-1),resultados.std()))"
      ],
      "metadata": {
        "colab": {
          "base_uri": "https://localhost:8080/",
          "height": 0
        },
        "id": "50iGu9qDHNcQ",
        "outputId": "9f27034d-a96f-4d32-cf21-9552940056fa"
      },
      "execution_count": 11,
      "outputs": [
        {
          "output_type": "stream",
          "name": "stdout",
          "text": [
            "Modelo Base: 1.88 (2.70) Error cuadrado promedio (MSE)\n"
          ]
        }
      ]
    }
  ]
}