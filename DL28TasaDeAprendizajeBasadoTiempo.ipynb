{
  "nbformat": 4,
  "nbformat_minor": 0,
  "metadata": {
    "colab": {
      "name": "DL28TasaDeAprendizajeBasadoTiempo.ipynb",
      "provenance": [],
      "authorship_tag": "ABX9TyNlH8tnF4nQ2GqduqceiZK1",
      "include_colab_link": true
    },
    "kernelspec": {
      "name": "python3",
      "display_name": "Python 3"
    },
    "language_info": {
      "name": "python"
    }
  },
  "cells": [
    {
      "cell_type": "markdown",
      "metadata": {
        "id": "view-in-github",
        "colab_type": "text"
      },
      "source": [
        "<a href=\"https://colab.research.google.com/github/juniorPalomino25/Python/blob/main/DL28TasaDeAprendizajeBasadoTiempo.ipynb\" target=\"_parent\"><img src=\"https://colab.research.google.com/assets/colab-badge.svg\" alt=\"Open In Colab\"/></a>"
      ]
    },
    {
      "cell_type": "markdown",
      "source": [
        "# **Programación de la tasa de aprendizaje basada en el tiempo**"
      ],
      "metadata": {
        "id": "urDYjIg74eJc"
      }
    },
    {
      "cell_type": "markdown",
      "source": [
        "### Importa las librerias"
      ],
      "metadata": {
        "id": "Ro974AF84iIz"
      }
    },
    {
      "cell_type": "code",
      "execution_count": 1,
      "metadata": {
        "id": "c1nwtw7t4dOn"
      },
      "outputs": [],
      "source": [
        "from pandas import read_csv\n",
        "from keras.models import Sequential\n",
        "from keras.layers import Dense\n",
        "from keras.optimizers import gradient_descent_v2\n",
        "from sklearn.preprocessing import LabelEncoder\n",
        "from keras.callbacks import ModelCheckpoint\n",
        "import numpy\n"
      ]
    },
    {
      "cell_type": "markdown",
      "source": [
        "### Carga el conjunto de datos"
      ],
      "metadata": {
        "id": "oExRlzHw4rP7"
      }
    },
    {
      "cell_type": "code",
      "source": [
        "datos = numpy.loadtxt(\"ClassifiedData.txt\",delimiter=\",\")\n",
        "X = datos[:,0:11]\n",
        "Y = datos[:,11]"
      ],
      "metadata": {
        "id": "Iy4QPNzQ4uAy"
      },
      "execution_count": 2,
      "outputs": []
    },
    {
      "cell_type": "markdown",
      "source": [
        "### Crear el modelo"
      ],
      "metadata": {
        "id": "lz1zzD8W4xha"
      }
    },
    {
      "cell_type": "code",
      "source": [
        "modelo = Sequential()\n",
        "modelo.add(Dense(34, input_dim=11, activation='relu'))\n",
        "modelo.add(Dense(1, activation='sigmoid'))"
      ],
      "metadata": {
        "id": "zF35PkaS4z9D"
      },
      "execution_count": 4,
      "outputs": []
    },
    {
      "cell_type": "markdown",
      "source": [
        "### Compila el modelo"
      ],
      "metadata": {
        "id": "5o9PS6sb46AS"
      }
    },
    {
      "cell_type": "code",
      "source": [
        "epocas = 50\n",
        "tasa_aprendizaje = 0.1\n",
        "tasa_decaimiento = tasa_aprendizaje / epocas\n",
        "momento = 0.8\n",
        "sgd = gradient_descent_v2.SGD(learning_rate=tasa_aprendizaje,\n",
        "momentum=momento, decay=tasa_decaimiento,\n",
        "nesterov=False)\n",
        "modelo.compile(loss='binary_crossentropy', optimizer=sgd, metrics=['accuracy'])"
      ],
      "metadata": {
        "id": "H1S5FtMQ47qC"
      },
      "execution_count": 5,
      "outputs": []
    },
    {
      "cell_type": "markdown",
      "source": [
        "### Entrenar el modelo"
      ],
      "metadata": {
        "id": "5zW0W_hu5BHy"
      }
    },
    {
      "cell_type": "code",
      "source": [
        "modelo.fit(X, Y, validation_split=0.33, epochs=epocas, batch_size=28, verbose=2)"
      ],
      "metadata": {
        "colab": {
          "base_uri": "https://localhost:8080/",
          "height": 0
        },
        "id": "mmYW_kEP5Csz",
        "outputId": "3022e15e-7b13-43f0-a103-66cb964486b6"
      },
      "execution_count": 6,
      "outputs": [
        {
          "output_type": "stream",
          "name": "stdout",
          "text": [
            "Epoch 1/50\n",
            "24/24 - 2s - loss: 808.7590 - accuracy: 0.4768 - val_loss: 0.6966 - val_accuracy: 0.4622 - 2s/epoch - 70ms/step\n",
            "Epoch 2/50\n",
            "24/24 - 0s - loss: 0.6954 - accuracy: 0.4843 - val_loss: 0.6932 - val_accuracy: 0.4622 - 99ms/epoch - 4ms/step\n",
            "Epoch 3/50\n",
            "24/24 - 0s - loss: 0.6930 - accuracy: 0.5187 - val_loss: 0.6964 - val_accuracy: 0.4622 - 72ms/epoch - 3ms/step\n",
            "Epoch 4/50\n",
            "24/24 - 0s - loss: 0.6931 - accuracy: 0.5187 - val_loss: 0.6973 - val_accuracy: 0.4622 - 73ms/epoch - 3ms/step\n",
            "Epoch 5/50\n",
            "24/24 - 0s - loss: 0.6936 - accuracy: 0.4873 - val_loss: 0.6992 - val_accuracy: 0.4622 - 84ms/epoch - 4ms/step\n",
            "Epoch 6/50\n",
            "24/24 - 0s - loss: 0.6927 - accuracy: 0.5187 - val_loss: 0.6989 - val_accuracy: 0.4622 - 72ms/epoch - 3ms/step\n",
            "Epoch 7/50\n",
            "24/24 - 0s - loss: 0.6934 - accuracy: 0.5187 - val_loss: 0.6966 - val_accuracy: 0.4622 - 73ms/epoch - 3ms/step\n",
            "Epoch 8/50\n",
            "24/24 - 0s - loss: 0.6937 - accuracy: 0.4753 - val_loss: 0.6979 - val_accuracy: 0.4622 - 76ms/epoch - 3ms/step\n",
            "Epoch 9/50\n",
            "24/24 - 0s - loss: 0.6929 - accuracy: 0.5202 - val_loss: 0.6983 - val_accuracy: 0.4622 - 75ms/epoch - 3ms/step\n",
            "Epoch 10/50\n",
            "24/24 - 0s - loss: 0.6926 - accuracy: 0.5202 - val_loss: 0.6959 - val_accuracy: 0.4622 - 65ms/epoch - 3ms/step\n",
            "Epoch 11/50\n",
            "24/24 - 0s - loss: 0.6939 - accuracy: 0.5202 - val_loss: 0.6949 - val_accuracy: 0.4622 - 80ms/epoch - 3ms/step\n",
            "Epoch 12/50\n",
            "24/24 - 0s - loss: 0.6932 - accuracy: 0.5202 - val_loss: 0.6985 - val_accuracy: 0.4622 - 82ms/epoch - 3ms/step\n",
            "Epoch 13/50\n",
            "24/24 - 0s - loss: 0.6934 - accuracy: 0.5052 - val_loss: 0.6950 - val_accuracy: 0.4622 - 68ms/epoch - 3ms/step\n",
            "Epoch 14/50\n",
            "24/24 - 0s - loss: 0.6937 - accuracy: 0.5202 - val_loss: 0.6995 - val_accuracy: 0.4622 - 71ms/epoch - 3ms/step\n",
            "Epoch 15/50\n",
            "24/24 - 0s - loss: 0.6932 - accuracy: 0.5202 - val_loss: 0.6969 - val_accuracy: 0.4622 - 68ms/epoch - 3ms/step\n",
            "Epoch 16/50\n",
            "24/24 - 0s - loss: 0.6926 - accuracy: 0.5202 - val_loss: 0.6956 - val_accuracy: 0.4622 - 71ms/epoch - 3ms/step\n",
            "Epoch 17/50\n",
            "24/24 - 0s - loss: 0.6935 - accuracy: 0.4963 - val_loss: 0.6982 - val_accuracy: 0.4622 - 84ms/epoch - 3ms/step\n",
            "Epoch 18/50\n",
            "24/24 - 0s - loss: 0.6933 - accuracy: 0.5202 - val_loss: 0.6963 - val_accuracy: 0.4622 - 81ms/epoch - 3ms/step\n",
            "Epoch 19/50\n",
            "24/24 - 0s - loss: 0.6931 - accuracy: 0.5202 - val_loss: 0.6967 - val_accuracy: 0.4622 - 69ms/epoch - 3ms/step\n",
            "Epoch 20/50\n",
            "24/24 - 0s - loss: 0.6928 - accuracy: 0.5202 - val_loss: 0.6962 - val_accuracy: 0.4622 - 69ms/epoch - 3ms/step\n",
            "Epoch 21/50\n",
            "24/24 - 0s - loss: 0.6929 - accuracy: 0.5202 - val_loss: 0.6947 - val_accuracy: 0.4622 - 65ms/epoch - 3ms/step\n",
            "Epoch 22/50\n",
            "24/24 - 0s - loss: 0.6926 - accuracy: 0.5202 - val_loss: 0.6970 - val_accuracy: 0.4622 - 76ms/epoch - 3ms/step\n",
            "Epoch 23/50\n",
            "24/24 - 0s - loss: 0.6926 - accuracy: 0.5202 - val_loss: 0.6968 - val_accuracy: 0.4622 - 72ms/epoch - 3ms/step\n",
            "Epoch 24/50\n",
            "24/24 - 0s - loss: 0.6925 - accuracy: 0.5202 - val_loss: 0.6957 - val_accuracy: 0.4622 - 73ms/epoch - 3ms/step\n",
            "Epoch 25/50\n",
            "24/24 - 0s - loss: 0.6926 - accuracy: 0.5202 - val_loss: 0.6971 - val_accuracy: 0.4622 - 77ms/epoch - 3ms/step\n",
            "Epoch 26/50\n",
            "24/24 - 0s - loss: 0.6929 - accuracy: 0.5202 - val_loss: 0.6982 - val_accuracy: 0.4622 - 74ms/epoch - 3ms/step\n",
            "Epoch 27/50\n",
            "24/24 - 0s - loss: 0.6934 - accuracy: 0.4963 - val_loss: 0.6972 - val_accuracy: 0.4622 - 75ms/epoch - 3ms/step\n",
            "Epoch 28/50\n",
            "24/24 - 0s - loss: 0.6934 - accuracy: 0.5202 - val_loss: 0.6960 - val_accuracy: 0.4622 - 71ms/epoch - 3ms/step\n",
            "Epoch 29/50\n",
            "24/24 - 0s - loss: 0.6930 - accuracy: 0.5202 - val_loss: 0.6956 - val_accuracy: 0.4622 - 69ms/epoch - 3ms/step\n",
            "Epoch 30/50\n",
            "24/24 - 0s - loss: 0.6927 - accuracy: 0.5202 - val_loss: 0.6969 - val_accuracy: 0.4622 - 72ms/epoch - 3ms/step\n",
            "Epoch 31/50\n",
            "24/24 - 0s - loss: 0.6924 - accuracy: 0.5202 - val_loss: 0.6963 - val_accuracy: 0.4622 - 84ms/epoch - 4ms/step\n",
            "Epoch 32/50\n",
            "24/24 - 0s - loss: 0.6926 - accuracy: 0.5202 - val_loss: 0.6966 - val_accuracy: 0.4622 - 72ms/epoch - 3ms/step\n",
            "Epoch 33/50\n",
            "24/24 - 0s - loss: 0.6931 - accuracy: 0.5202 - val_loss: 0.6967 - val_accuracy: 0.4622 - 83ms/epoch - 3ms/step\n",
            "Epoch 34/50\n",
            "24/24 - 0s - loss: 0.6927 - accuracy: 0.5202 - val_loss: 0.6959 - val_accuracy: 0.4622 - 77ms/epoch - 3ms/step\n",
            "Epoch 35/50\n",
            "24/24 - 0s - loss: 0.6927 - accuracy: 0.5202 - val_loss: 0.6966 - val_accuracy: 0.4622 - 72ms/epoch - 3ms/step\n",
            "Epoch 36/50\n",
            "24/24 - 0s - loss: 0.6929 - accuracy: 0.5202 - val_loss: 0.6974 - val_accuracy: 0.4622 - 63ms/epoch - 3ms/step\n",
            "Epoch 37/50\n",
            "24/24 - 0s - loss: 0.6934 - accuracy: 0.5202 - val_loss: 0.6957 - val_accuracy: 0.4622 - 70ms/epoch - 3ms/step\n",
            "Epoch 38/50\n",
            "24/24 - 0s - loss: 0.6928 - accuracy: 0.5202 - val_loss: 0.6965 - val_accuracy: 0.4622 - 77ms/epoch - 3ms/step\n",
            "Epoch 39/50\n",
            "24/24 - 0s - loss: 0.6924 - accuracy: 0.5202 - val_loss: 0.6974 - val_accuracy: 0.4622 - 70ms/epoch - 3ms/step\n",
            "Epoch 40/50\n",
            "24/24 - 0s - loss: 0.6925 - accuracy: 0.5202 - val_loss: 0.6964 - val_accuracy: 0.4622 - 65ms/epoch - 3ms/step\n",
            "Epoch 41/50\n",
            "24/24 - 0s - loss: 0.6927 - accuracy: 0.5202 - val_loss: 0.6983 - val_accuracy: 0.4622 - 73ms/epoch - 3ms/step\n",
            "Epoch 42/50\n",
            "24/24 - 0s - loss: 0.6926 - accuracy: 0.5202 - val_loss: 0.6962 - val_accuracy: 0.4622 - 69ms/epoch - 3ms/step\n",
            "Epoch 43/50\n",
            "24/24 - 0s - loss: 0.6930 - accuracy: 0.5202 - val_loss: 0.6958 - val_accuracy: 0.4622 - 73ms/epoch - 3ms/step\n",
            "Epoch 44/50\n",
            "24/24 - 0s - loss: 0.6923 - accuracy: 0.5202 - val_loss: 0.6981 - val_accuracy: 0.4622 - 73ms/epoch - 3ms/step\n",
            "Epoch 45/50\n",
            "24/24 - 0s - loss: 0.6926 - accuracy: 0.5202 - val_loss: 0.6975 - val_accuracy: 0.4622 - 74ms/epoch - 3ms/step\n",
            "Epoch 46/50\n",
            "24/24 - 0s - loss: 0.6923 - accuracy: 0.5202 - val_loss: 0.6958 - val_accuracy: 0.4622 - 65ms/epoch - 3ms/step\n",
            "Epoch 47/50\n",
            "24/24 - 0s - loss: 0.6926 - accuracy: 0.5202 - val_loss: 0.6962 - val_accuracy: 0.4622 - 68ms/epoch - 3ms/step\n",
            "Epoch 48/50\n",
            "24/24 - 0s - loss: 0.6929 - accuracy: 0.5202 - val_loss: 0.6963 - val_accuracy: 0.4622 - 75ms/epoch - 3ms/step\n",
            "Epoch 49/50\n",
            "24/24 - 0s - loss: 0.6927 - accuracy: 0.5202 - val_loss: 0.6970 - val_accuracy: 0.4622 - 70ms/epoch - 3ms/step\n",
            "Epoch 50/50\n",
            "24/24 - 0s - loss: 0.6923 - accuracy: 0.5202 - val_loss: 0.6964 - val_accuracy: 0.4622 - 89ms/epoch - 4ms/step\n"
          ]
        },
        {
          "output_type": "execute_result",
          "data": {
            "text/plain": [
              "<keras.callbacks.History at 0x7f26ecd61290>"
            ]
          },
          "metadata": {},
          "execution_count": 6
        }
      ]
    }
  ]
}