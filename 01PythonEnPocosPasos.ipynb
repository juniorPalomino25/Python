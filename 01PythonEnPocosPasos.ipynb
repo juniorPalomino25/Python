{
  "cells": [
    {
      "cell_type": "markdown",
      "metadata": {
        "id": "view-in-github",
        "colab_type": "text"
      },
      "source": [
        "<a href=\"https://colab.research.google.com/github/juniorPalomino25/Python/blob/main/01PythonEnPocosPasos.ipynb\" target=\"_parent\"><img src=\"https://colab.research.google.com/assets/colab-badge.svg\" alt=\"Open In Colab\"/></a>"
      ]
    },
    {
      "cell_type": "markdown",
      "metadata": {
        "id": "uiNK8W1dmnsU"
      },
      "source": [
        "# Python en pocos pasos\n",
        "\n",
        "Este no es un overview completo de Python o de programación.\n",
        "\n",
        "**Este notebook es simplemente una referencia del código que necesitaremos más adelante**\n",
        "\n",
        "Este notebook contine los siguientes tópicos en el orden que se indica:\n",
        "\n",
        "* Tipos de datos\n",
        "    * Números\n",
        "    * Cadenas\n",
        "    * Impresión\n",
        "    * Listas\n",
        "    * Diccionarios\n",
        "    * Booleanos\n",
        "    * Tuplas \n",
        "    * Conjuntos\n",
        "* Operadores de comparación\n",
        "* Sentencias if,elif, else\n",
        "* Bucles for\n",
        "* Bucles while\n",
        "* range()\n",
        "* listas por comprensión\n",
        "* funciones\n",
        "* expresiones lambda\n",
        "* map y filter\n",
        "* métodos\n",
        "____"
      ]
    },
    {
      "cell_type": "markdown",
      "metadata": {
        "id": "LOKuOD0ZmnsZ"
      },
      "source": [
        "## Tipos de Datos\n",
        "\n",
        "### Números"
      ]
    },
    {
      "cell_type": "code",
      "execution_count": null,
      "metadata": {
        "id": "2LH_LHm5mnsb",
        "outputId": "e4ecdca3-8494-4e6c-cb28-03203df87f0f"
      },
      "outputs": [
        {
          "data": {
            "text/plain": [
              "2"
            ]
          },
          "execution_count": 1,
          "metadata": {},
          "output_type": "execute_result"
        }
      ],
      "source": [
        "1 + 1"
      ]
    },
    {
      "cell_type": "code",
      "execution_count": null,
      "metadata": {
        "id": "vLWgTYAWmnse",
        "outputId": "78f8146a-572f-413c-d3b1-218f0fa3411a"
      },
      "outputs": [
        {
          "data": {
            "text/plain": [
              "3"
            ]
          },
          "execution_count": 2,
          "metadata": {},
          "output_type": "execute_result"
        }
      ],
      "source": [
        "1 * 3"
      ]
    },
    {
      "cell_type": "code",
      "execution_count": null,
      "metadata": {
        "id": "tVJ8u4jPmnsf",
        "outputId": "ee287243-faf0-49fc-8d38-8b4f0e49bc63"
      },
      "outputs": [
        {
          "data": {
            "text/plain": [
              "0.5"
            ]
          },
          "execution_count": 3,
          "metadata": {},
          "output_type": "execute_result"
        }
      ],
      "source": [
        "1 / 2"
      ]
    },
    {
      "cell_type": "code",
      "execution_count": null,
      "metadata": {
        "id": "6b8ZW1sqmnsf",
        "outputId": "01de786a-093b-40e1-b5ec-13f4ceaa7e4e"
      },
      "outputs": [
        {
          "data": {
            "text/plain": [
              "2"
            ]
          },
          "execution_count": 4,
          "metadata": {},
          "output_type": "execute_result"
        }
      ],
      "source": [
        "5 // 2"
      ]
    },
    {
      "cell_type": "code",
      "execution_count": null,
      "metadata": {
        "id": "CW2sfo0Kmnsg",
        "outputId": "cd5948a8-5e33-4003-d707-53f6b8c8ad7a"
      },
      "outputs": [
        {
          "data": {
            "text/plain": [
              "16"
            ]
          },
          "execution_count": 5,
          "metadata": {},
          "output_type": "execute_result"
        }
      ],
      "source": [
        "2 ** 4"
      ]
    },
    {
      "cell_type": "code",
      "execution_count": null,
      "metadata": {
        "id": "v9FDLuIlmnsg",
        "outputId": "42fb7768-59cb-442c-acb3-e8fe4e34c679"
      },
      "outputs": [
        {
          "data": {
            "text/plain": [
              "0"
            ]
          },
          "execution_count": 6,
          "metadata": {},
          "output_type": "execute_result"
        }
      ],
      "source": [
        "4 % 2"
      ]
    },
    {
      "cell_type": "code",
      "execution_count": null,
      "metadata": {
        "id": "TSqRWHnRmnsh",
        "outputId": "f992cbc1-5d06-43f1-871a-fed32143dcae"
      },
      "outputs": [
        {
          "data": {
            "text/plain": [
              "1"
            ]
          },
          "execution_count": 7,
          "metadata": {},
          "output_type": "execute_result"
        }
      ],
      "source": [
        "5 % 2"
      ]
    },
    {
      "cell_type": "code",
      "execution_count": null,
      "metadata": {
        "id": "Rrnj2t_Ymnsi",
        "outputId": "e1a4bcce-8653-4472-c208-7b80bc58fe99"
      },
      "outputs": [
        {
          "data": {
            "text/plain": [
              "50"
            ]
          },
          "execution_count": 8,
          "metadata": {},
          "output_type": "execute_result"
        }
      ],
      "source": [
        "(2 + 3) * (5 + 5)"
      ]
    },
    {
      "cell_type": "markdown",
      "metadata": {
        "id": "do1SLgj1mnsi"
      },
      "source": [
        "### Asignación de variables"
      ]
    },
    {
      "cell_type": "code",
      "execution_count": null,
      "metadata": {
        "collapsed": true,
        "id": "h1I0JazXmnsj"
      },
      "outputs": [],
      "source": [
        "# No puede comenzar con números o caracteres especiales\n",
        "nombre_de_variable = 2"
      ]
    },
    {
      "cell_type": "code",
      "execution_count": null,
      "metadata": {
        "collapsed": true,
        "id": "bq2GnDV_mnsj"
      },
      "outputs": [],
      "source": [
        "x = 2\n",
        "y = 3"
      ]
    },
    {
      "cell_type": "code",
      "execution_count": null,
      "metadata": {
        "collapsed": true,
        "id": "8cw94Y3Smnsk"
      },
      "outputs": [],
      "source": [
        "z = x + y"
      ]
    },
    {
      "cell_type": "code",
      "execution_count": null,
      "metadata": {
        "id": "qaraMTmjmnsk",
        "outputId": "a9ec85e6-7555-4a34-de4d-a1061c84c4fc"
      },
      "outputs": [
        {
          "data": {
            "text/plain": [
              "5"
            ]
          },
          "execution_count": 12,
          "metadata": {},
          "output_type": "execute_result"
        }
      ],
      "source": [
        "z"
      ]
    },
    {
      "cell_type": "markdown",
      "metadata": {
        "id": "MhRJEAHamnsk"
      },
      "source": [
        "### Cadenas"
      ]
    },
    {
      "cell_type": "code",
      "execution_count": null,
      "metadata": {
        "id": "Rs6g-j7bmnsl",
        "outputId": "2fc6ba02-7aa9-4d1d-bb23-c89711150694"
      },
      "outputs": [
        {
          "data": {
            "text/plain": [
              "'comillas simples'"
            ]
          },
          "execution_count": 13,
          "metadata": {},
          "output_type": "execute_result"
        }
      ],
      "source": [
        "'comillas simples'"
      ]
    },
    {
      "cell_type": "code",
      "execution_count": null,
      "metadata": {
        "id": "Q9NHmrQomnsl",
        "outputId": "16f83b63-f73f-460b-e777-2e56504695dc"
      },
      "outputs": [
        {
          "data": {
            "text/plain": [
              "'comillas dobles'"
            ]
          },
          "execution_count": 14,
          "metadata": {},
          "output_type": "execute_result"
        }
      ],
      "source": [
        "\"comillas dobles\""
      ]
    },
    {
      "cell_type": "code",
      "execution_count": null,
      "metadata": {
        "id": "rcrq2q1imnsl",
        "outputId": "6ff99eea-3c3e-4f98-e26e-0f8387ca39c3"
      },
      "outputs": [
        {
          "data": {
            "text/plain": [
              "\"envolver otras 'citas'\""
            ]
          },
          "execution_count": 15,
          "metadata": {},
          "output_type": "execute_result"
        }
      ],
      "source": [
        "\"envolver otras 'citas'\""
      ]
    },
    {
      "cell_type": "code",
      "execution_count": null,
      "metadata": {
        "id": "Uh4Rupnwmnsm",
        "outputId": "9b92a0f1-4c03-4bc8-e3c4-c45eacb2b4f9"
      },
      "outputs": [
        {
          "data": {
            "text/plain": [
              "'envolver otras \"citas\"'"
            ]
          },
          "execution_count": 16,
          "metadata": {},
          "output_type": "execute_result"
        }
      ],
      "source": [
        "'envolver otras \"citas\"'"
      ]
    },
    {
      "cell_type": "markdown",
      "metadata": {
        "id": "2gBDeubgmnsm"
      },
      "source": [
        "### Impresión"
      ]
    },
    {
      "cell_type": "code",
      "execution_count": null,
      "metadata": {
        "collapsed": true,
        "id": "gTQ4gXDHmnsm"
      },
      "outputs": [],
      "source": [
        "x = 'hola'"
      ]
    },
    {
      "cell_type": "code",
      "execution_count": null,
      "metadata": {
        "id": "vaJBpns9mnsn",
        "outputId": "0f20073b-6d2e-4744-cc0c-9ee1957111ba"
      },
      "outputs": [
        {
          "data": {
            "text/plain": [
              "'hola'"
            ]
          },
          "execution_count": 18,
          "metadata": {},
          "output_type": "execute_result"
        }
      ],
      "source": [
        "x"
      ]
    },
    {
      "cell_type": "code",
      "execution_count": null,
      "metadata": {
        "id": "1bZl50-Fmnsn",
        "outputId": "cf2a6c2f-286d-4ce2-8a9e-bde101f675fb"
      },
      "outputs": [
        {
          "name": "stdout",
          "output_type": "stream",
          "text": [
            "hola\n"
          ]
        }
      ],
      "source": [
        "print(x)"
      ]
    },
    {
      "cell_type": "code",
      "execution_count": null,
      "metadata": {
        "collapsed": true,
        "id": "IFBS6Be_mnsn"
      },
      "outputs": [],
      "source": [
        "numero = 12\n",
        "nombre = 'Samuel'"
      ]
    },
    {
      "cell_type": "code",
      "execution_count": null,
      "metadata": {
        "id": "Hzjbe_kkmnso",
        "outputId": "59f5bc00-34d3-415d-f127-d76436a799a9"
      },
      "outputs": [
        {
          "name": "stdout",
          "output_type": "stream",
          "text": [
            "Mi número es: 12, y mi nombre es: Samuel\n"
          ]
        }
      ],
      "source": [
        "print('Mi número es: {uno}, y mi nombre es: {dos}'.format(uno=numero,dos=nombre))"
      ]
    },
    {
      "cell_type": "code",
      "execution_count": null,
      "metadata": {
        "id": "x2EJ7QHhmnso",
        "outputId": "3d6884d2-9eae-44a1-ecad-0d3fb6b46ad4"
      },
      "outputs": [
        {
          "name": "stdout",
          "output_type": "stream",
          "text": [
            "Mi número es: 12, y mi nombre es: Samuel\n"
          ]
        }
      ],
      "source": [
        "print('Mi número es: {}, y mi nombre es: {}'.format(numero,nombre))"
      ]
    },
    {
      "cell_type": "markdown",
      "metadata": {
        "id": "i68LaTr-mnso"
      },
      "source": [
        "### Listas"
      ]
    },
    {
      "cell_type": "code",
      "execution_count": null,
      "metadata": {
        "id": "5lgFZHAcmnsp",
        "outputId": "30203294-e056-484a-d278-8cdc70821ae6"
      },
      "outputs": [
        {
          "data": {
            "text/plain": [
              "[1, 2, 3]"
            ]
          },
          "execution_count": 23,
          "metadata": {},
          "output_type": "execute_result"
        }
      ],
      "source": [
        "[1,2,3]"
      ]
    },
    {
      "cell_type": "code",
      "execution_count": null,
      "metadata": {
        "id": "OJ4JNfBdmnsp",
        "outputId": "8821c001-c2a6-43f4-d819-a2fedc9b20c1"
      },
      "outputs": [
        {
          "data": {
            "text/plain": [
              "['hi', 1, [1, 2]]"
            ]
          },
          "execution_count": 23,
          "metadata": {},
          "output_type": "execute_result"
        }
      ],
      "source": [
        "['hi',1,[1,2]]"
      ]
    },
    {
      "cell_type": "code",
      "execution_count": null,
      "metadata": {
        "collapsed": true,
        "id": "yL7RK_a8mnsp"
      },
      "outputs": [],
      "source": [
        "mi_lista = ['a','b','c']"
      ]
    },
    {
      "cell_type": "code",
      "execution_count": null,
      "metadata": {
        "collapsed": true,
        "id": "d4qvHL84mnsq"
      },
      "outputs": [],
      "source": [
        "mi_lista.append('d')"
      ]
    },
    {
      "cell_type": "code",
      "execution_count": null,
      "metadata": {
        "id": "nmXhabLRmnsq",
        "outputId": "e18b09b6-86e3-4b39-dd8b-e1191b24f1b3"
      },
      "outputs": [
        {
          "data": {
            "text/plain": [
              "['a', 'b', 'c', 'd']"
            ]
          },
          "execution_count": 41,
          "metadata": {},
          "output_type": "execute_result"
        }
      ],
      "source": [
        "mi_lista"
      ]
    },
    {
      "cell_type": "code",
      "execution_count": null,
      "metadata": {
        "id": "jG6Lo8-vmnsr",
        "outputId": "5d4b948b-d3e4-454f-8352-12429853b9d6"
      },
      "outputs": [
        {
          "data": {
            "text/plain": [
              "'a'"
            ]
          },
          "execution_count": 27,
          "metadata": {},
          "output_type": "execute_result"
        }
      ],
      "source": [
        "mi_lista[0]"
      ]
    },
    {
      "cell_type": "code",
      "execution_count": null,
      "metadata": {
        "id": "CohmJ8Jxmnsr",
        "outputId": "a59b6bde-a268-4d8e-fc6f-f33e0b04e2db"
      },
      "outputs": [
        {
          "data": {
            "text/plain": [
              "'b'"
            ]
          },
          "execution_count": 28,
          "metadata": {},
          "output_type": "execute_result"
        }
      ],
      "source": [
        "mi_lista[1]"
      ]
    },
    {
      "cell_type": "code",
      "execution_count": null,
      "metadata": {
        "id": "SJHshVUYmnss",
        "outputId": "582b35f4-f353-4ba8-b090-ae46edbf8ed5"
      },
      "outputs": [
        {
          "data": {
            "text/plain": [
              "['b', 'c', 'd']"
            ]
          },
          "execution_count": 29,
          "metadata": {},
          "output_type": "execute_result"
        }
      ],
      "source": [
        "mi_lista[1:]"
      ]
    },
    {
      "cell_type": "code",
      "execution_count": null,
      "metadata": {
        "id": "-fJEc6aQmnst",
        "outputId": "03b694f8-0aeb-4838-a010-a8b902abb228"
      },
      "outputs": [
        {
          "data": {
            "text/plain": [
              "['a']"
            ]
          },
          "execution_count": 30,
          "metadata": {},
          "output_type": "execute_result"
        }
      ],
      "source": [
        "mi_lista[:1]"
      ]
    },
    {
      "cell_type": "code",
      "execution_count": null,
      "metadata": {
        "collapsed": true,
        "id": "jjVs-R2Rmnst"
      },
      "outputs": [],
      "source": [
        "mi_lista[0] = 'NUEVO'"
      ]
    },
    {
      "cell_type": "code",
      "execution_count": null,
      "metadata": {
        "id": "rkZGWb7Lmnsu",
        "outputId": "8dba47c8-d51c-4068-fcdb-443a14c20392"
      },
      "outputs": [
        {
          "data": {
            "text/plain": [
              "['NUEVO', 'b', 'c', 'd']"
            ]
          },
          "execution_count": 43,
          "metadata": {},
          "output_type": "execute_result"
        }
      ],
      "source": [
        "mi_lista"
      ]
    },
    {
      "cell_type": "code",
      "execution_count": null,
      "metadata": {
        "id": "JYdtlAW-mnsu",
        "outputId": "7084491f-900f-485a-a94f-476535d18610"
      },
      "outputs": [
        {
          "data": {
            "text/plain": [
              "['NUEVO', 'c', 'd']"
            ]
          },
          "execution_count": 44,
          "metadata": {},
          "output_type": "execute_result"
        }
      ],
      "source": [
        "mi_lista.pop(1)\n",
        "mi_lista"
      ]
    },
    {
      "cell_type": "code",
      "execution_count": null,
      "metadata": {
        "id": "TFaKFHXjmnsu",
        "outputId": "aca63e42-b992-419a-bc6d-b044506fa685"
      },
      "outputs": [
        {
          "data": {
            "text/plain": [
              "['NUEVO', 'd']"
            ]
          },
          "execution_count": 45,
          "metadata": {},
          "output_type": "execute_result"
        }
      ],
      "source": [
        "mi_lista.remove('c')\n",
        "mi_lista"
      ]
    },
    {
      "cell_type": "code",
      "execution_count": null,
      "metadata": {
        "collapsed": true,
        "id": "_7YvNY8ymnsv"
      },
      "outputs": [],
      "source": [
        "anidado = [1,2,3,[4,5,['objetivo']]]"
      ]
    },
    {
      "cell_type": "code",
      "execution_count": null,
      "metadata": {
        "id": "bRIwu_Vgmnsv",
        "outputId": "278a815b-8e80-4080-97a1-b8701926565e"
      },
      "outputs": [
        {
          "data": {
            "text/plain": [
              "[4, 5, ['objetivo']]"
            ]
          },
          "execution_count": 48,
          "metadata": {},
          "output_type": "execute_result"
        }
      ],
      "source": [
        "anidado[3]"
      ]
    },
    {
      "cell_type": "code",
      "execution_count": null,
      "metadata": {
        "id": "7jM783pbmnsv",
        "outputId": "f9091a60-edaa-4ade-cabe-c8697ec14c01"
      },
      "outputs": [
        {
          "data": {
            "text/plain": [
              "['objetivo']"
            ]
          },
          "execution_count": 49,
          "metadata": {},
          "output_type": "execute_result"
        }
      ],
      "source": [
        "anidado[3][2]"
      ]
    },
    {
      "cell_type": "code",
      "execution_count": null,
      "metadata": {
        "id": "iiNlNiFemnsw",
        "outputId": "dcfcd115-e9a2-47e3-ba8c-cd533d480900"
      },
      "outputs": [
        {
          "data": {
            "text/plain": [
              "'objetivo'"
            ]
          },
          "execution_count": 50,
          "metadata": {},
          "output_type": "execute_result"
        }
      ],
      "source": [
        "anidado[3][2][0]"
      ]
    },
    {
      "cell_type": "markdown",
      "metadata": {
        "id": "vVBQ1sjumnsw"
      },
      "source": [
        "### Diccionarios"
      ]
    },
    {
      "cell_type": "code",
      "execution_count": null,
      "metadata": {
        "collapsed": true,
        "id": "SpyOqh0gmnsw"
      },
      "outputs": [],
      "source": [
        "d = {'clave1':'valor1','clave2':'valor2'}"
      ]
    },
    {
      "cell_type": "code",
      "execution_count": null,
      "metadata": {
        "id": "OJXZyEThmnsw",
        "outputId": "095f72c7-9e66-4574-bc88-593608989694"
      },
      "outputs": [
        {
          "data": {
            "text/plain": [
              "{'clave1': 'valor1', 'clave2': 'valor2'}"
            ]
          },
          "execution_count": 52,
          "metadata": {},
          "output_type": "execute_result"
        }
      ],
      "source": [
        "d"
      ]
    },
    {
      "cell_type": "code",
      "execution_count": null,
      "metadata": {
        "id": "YuMHqQUUmnsx",
        "outputId": "969ffd29-f244-4227-c5b4-9739ec3b26e5"
      },
      "outputs": [
        {
          "data": {
            "text/plain": [
              "'valor1'"
            ]
          },
          "execution_count": 53,
          "metadata": {},
          "output_type": "execute_result"
        }
      ],
      "source": [
        "d['clave1']"
      ]
    },
    {
      "cell_type": "code",
      "execution_count": null,
      "metadata": {
        "collapsed": true,
        "id": "2CU-NEBqmnsx"
      },
      "outputs": [],
      "source": [
        "d['clave1'] = 'valor3'"
      ]
    },
    {
      "cell_type": "code",
      "execution_count": null,
      "metadata": {
        "id": "o4SlmCwOmnsy",
        "outputId": "b9cbd11b-aa41-4529-aed6-8067057d4b22"
      },
      "outputs": [
        {
          "data": {
            "text/plain": [
              "{'clave1': 'valor3', 'clave2': 'valor2'}"
            ]
          },
          "execution_count": 55,
          "metadata": {},
          "output_type": "execute_result"
        }
      ],
      "source": [
        "d"
      ]
    },
    {
      "cell_type": "code",
      "execution_count": null,
      "metadata": {
        "collapsed": true,
        "id": "JnaKQ1LAmnsy"
      },
      "outputs": [],
      "source": [
        "d['clave3']='valor1'"
      ]
    },
    {
      "cell_type": "code",
      "execution_count": null,
      "metadata": {
        "id": "z0sUFQ1vmnsy",
        "outputId": "ae749223-3098-4a8e-d3db-710b9ab9b8ee"
      },
      "outputs": [
        {
          "data": {
            "text/plain": [
              "{'clave1': 'valor3', 'clave2': 'valor2', 'clave3': 'valor1'}"
            ]
          },
          "execution_count": 58,
          "metadata": {},
          "output_type": "execute_result"
        }
      ],
      "source": [
        "d"
      ]
    },
    {
      "cell_type": "code",
      "execution_count": null,
      "metadata": {
        "collapsed": true,
        "id": "x71-hfdJmnsz"
      },
      "outputs": [],
      "source": [
        "del d['clave1']"
      ]
    },
    {
      "cell_type": "code",
      "execution_count": null,
      "metadata": {
        "id": "i94pWDnUmnsz",
        "outputId": "8e92f631-75ff-4018-88fc-150d8d464056"
      },
      "outputs": [
        {
          "data": {
            "text/plain": [
              "{'clave2': 'valor2', 'clave3': 'valor1'}"
            ]
          },
          "execution_count": 60,
          "metadata": {},
          "output_type": "execute_result"
        }
      ],
      "source": [
        "d"
      ]
    },
    {
      "cell_type": "markdown",
      "metadata": {
        "id": "m3naX6wBmnsz"
      },
      "source": [
        "### Booleanos"
      ]
    },
    {
      "cell_type": "code",
      "execution_count": null,
      "metadata": {
        "id": "VkXDp3Mvmnsz",
        "outputId": "3ff65a07-9163-4d41-fa87-cc2de1692899"
      },
      "outputs": [
        {
          "data": {
            "text/plain": [
              "True"
            ]
          },
          "execution_count": 61,
          "metadata": {},
          "output_type": "execute_result"
        }
      ],
      "source": [
        "True"
      ]
    },
    {
      "cell_type": "code",
      "execution_count": null,
      "metadata": {
        "id": "EHAh7aqbmns0",
        "outputId": "a7aecf90-1fd2-4c82-c829-509a3bc8f89a"
      },
      "outputs": [
        {
          "data": {
            "text/plain": [
              "False"
            ]
          },
          "execution_count": 62,
          "metadata": {},
          "output_type": "execute_result"
        }
      ],
      "source": [
        "False"
      ]
    },
    {
      "cell_type": "markdown",
      "metadata": {
        "id": "DeJaEDkUmns0"
      },
      "source": [
        "### Tuplas "
      ]
    },
    {
      "cell_type": "code",
      "execution_count": null,
      "metadata": {
        "collapsed": true,
        "id": "y0E28Ik0mns0"
      },
      "outputs": [],
      "source": [
        "t = (1,2,3,'a')"
      ]
    },
    {
      "cell_type": "code",
      "execution_count": null,
      "metadata": {
        "id": "17nH5i0Emns0",
        "outputId": "7cc2745b-4cef-4541-aa57-fd043278bd33"
      },
      "outputs": [
        {
          "data": {
            "text/plain": [
              "(1, 2, 3, 'a')"
            ]
          },
          "execution_count": 64,
          "metadata": {},
          "output_type": "execute_result"
        }
      ],
      "source": [
        "t"
      ]
    },
    {
      "cell_type": "code",
      "execution_count": null,
      "metadata": {
        "id": "MGreLipUmns1",
        "outputId": "d65bce39-e42c-418e-ba51-bfb4526d003b"
      },
      "outputs": [
        {
          "data": {
            "text/plain": [
              "1"
            ]
          },
          "execution_count": 65,
          "metadata": {},
          "output_type": "execute_result"
        }
      ],
      "source": [
        "t[0]"
      ]
    },
    {
      "cell_type": "code",
      "execution_count": null,
      "metadata": {
        "id": "O5g5Xz85mns1",
        "outputId": "6aba46e1-3b96-496e-ce1d-fb2fbcf10ba0"
      },
      "outputs": [
        {
          "ename": "TypeError",
          "evalue": "'tuple' object does not support item assignment",
          "output_type": "error",
          "traceback": [
            "\u001b[1;31m---------------------------------------------------------------------------\u001b[0m",
            "\u001b[1;31mTypeError\u001b[0m                                 Traceback (most recent call last)",
            "\u001b[1;32m<ipython-input-66-f8eb5b652485>\u001b[0m in \u001b[0;36m<module>\u001b[1;34m()\u001b[0m\n\u001b[1;32m----> 1\u001b[1;33m \u001b[0mt\u001b[0m\u001b[1;33m[\u001b[0m\u001b[1;36m0\u001b[0m\u001b[1;33m]\u001b[0m \u001b[1;33m=\u001b[0m \u001b[1;34m'NUEVO'\u001b[0m\u001b[1;33m\u001b[0m\u001b[0m\n\u001b[0m",
            "\u001b[1;31mTypeError\u001b[0m: 'tuple' object does not support item assignment"
          ]
        }
      ],
      "source": [
        "t[0] = 'NUEVO'"
      ]
    },
    {
      "cell_type": "markdown",
      "metadata": {
        "id": "9rtIo3Uamns1"
      },
      "source": [
        "### Conjuntos"
      ]
    },
    {
      "cell_type": "code",
      "execution_count": null,
      "metadata": {
        "id": "0lFz20gwmns2",
        "outputId": "b2ebc0df-4369-490b-9f15-81da91bc47d1"
      },
      "outputs": [
        {
          "data": {
            "text/plain": [
              "{1, 2, 3}"
            ]
          },
          "execution_count": 67,
          "metadata": {},
          "output_type": "execute_result"
        }
      ],
      "source": [
        "{1,2,3}"
      ]
    },
    {
      "cell_type": "code",
      "execution_count": null,
      "metadata": {
        "id": "SeaXlCATmns2",
        "outputId": "493e8adc-37d2-488a-f35e-7a9dac737e24"
      },
      "outputs": [
        {
          "data": {
            "text/plain": [
              "{1, 2, 3}"
            ]
          },
          "execution_count": 68,
          "metadata": {},
          "output_type": "execute_result"
        }
      ],
      "source": [
        "conj = {1,2,3,1,2,1,2,3,3,3,3,2,2,2,1,1,2}\n",
        "conj"
      ]
    },
    {
      "cell_type": "code",
      "execution_count": null,
      "metadata": {
        "id": "a78kaalqmns2",
        "outputId": "f6ed576d-76ac-4fc7-c003-a832a2444ef7"
      },
      "outputs": [
        {
          "data": {
            "text/plain": [
              "{1, 2, 3, 4, 7, 'd'}"
            ]
          },
          "execution_count": 71,
          "metadata": {},
          "output_type": "execute_result"
        }
      ],
      "source": [
        "conj.add('d')\n",
        "conj"
      ]
    },
    {
      "cell_type": "code",
      "execution_count": null,
      "metadata": {
        "id": "KIod4j1Cmns3",
        "outputId": "de4fc3fc-fd34-4647-d0c6-d2ea93a4b8e2"
      },
      "outputs": [
        {
          "data": {
            "text/plain": [
              "{1, 3, 4, 7, 'd'}"
            ]
          },
          "execution_count": 72,
          "metadata": {},
          "output_type": "execute_result"
        }
      ],
      "source": [
        "conj.remove(2)\n",
        "conj"
      ]
    },
    {
      "cell_type": "markdown",
      "metadata": {
        "id": "a40eWqX8mns3"
      },
      "source": [
        "## Operadores de comparación"
      ]
    },
    {
      "cell_type": "code",
      "execution_count": null,
      "metadata": {
        "id": "atM2fj4rmns3",
        "outputId": "63933d6c-6518-415a-bee5-2fef7f6523c2"
      },
      "outputs": [
        {
          "data": {
            "text/plain": [
              "False"
            ]
          },
          "execution_count": 73,
          "metadata": {},
          "output_type": "execute_result"
        }
      ],
      "source": [
        "1 > 2"
      ]
    },
    {
      "cell_type": "code",
      "execution_count": null,
      "metadata": {
        "id": "7FImcWNsmns3",
        "outputId": "180710e2-6f9a-40ec-8698-dde974b4c3ad"
      },
      "outputs": [
        {
          "data": {
            "text/plain": [
              "True"
            ]
          },
          "execution_count": 74,
          "metadata": {},
          "output_type": "execute_result"
        }
      ],
      "source": [
        "1 < 2"
      ]
    },
    {
      "cell_type": "code",
      "execution_count": null,
      "metadata": {
        "id": "VRSif1eSmns4",
        "outputId": "4e5a4f80-ab7b-4da6-bb25-cd441d940e66"
      },
      "outputs": [
        {
          "data": {
            "text/plain": [
              "True"
            ]
          },
          "execution_count": 75,
          "metadata": {},
          "output_type": "execute_result"
        }
      ],
      "source": [
        "1 >= 1"
      ]
    },
    {
      "cell_type": "code",
      "execution_count": null,
      "metadata": {
        "id": "VSFMvVpkmns4",
        "outputId": "c38da6ec-a80a-4ad5-98f6-9055cc2dfdec"
      },
      "outputs": [
        {
          "data": {
            "text/plain": [
              "True"
            ]
          },
          "execution_count": 76,
          "metadata": {},
          "output_type": "execute_result"
        }
      ],
      "source": [
        "1 <= 4"
      ]
    },
    {
      "cell_type": "code",
      "execution_count": null,
      "metadata": {
        "id": "7vLqU0FWmns5",
        "outputId": "59d373e9-6a6c-46d9-f36a-0b112ab5aef7"
      },
      "outputs": [
        {
          "data": {
            "text/plain": [
              "True"
            ]
          },
          "execution_count": 88,
          "metadata": {},
          "output_type": "execute_result"
        }
      ],
      "source": [
        "1 == 1"
      ]
    },
    {
      "cell_type": "code",
      "execution_count": null,
      "metadata": {
        "id": "3FO3EIYwmns5",
        "outputId": "07de0f6c-5612-49f6-c9cf-40efd41f54a4"
      },
      "outputs": [
        {
          "data": {
            "text/plain": [
              "False"
            ]
          },
          "execution_count": 77,
          "metadata": {},
          "output_type": "execute_result"
        }
      ],
      "source": [
        "'hola' == 'adios'"
      ]
    },
    {
      "cell_type": "markdown",
      "metadata": {
        "id": "0GrDMH5kmns5"
      },
      "source": [
        "## Operadores Lógicos"
      ]
    },
    {
      "cell_type": "code",
      "execution_count": null,
      "metadata": {
        "id": "Ibwmm4uDmns5",
        "outputId": "7e2526d7-0ad3-43b1-9975-8c3f2a0e6416"
      },
      "outputs": [
        {
          "data": {
            "text/plain": [
              "False"
            ]
          },
          "execution_count": 78,
          "metadata": {},
          "output_type": "execute_result"
        }
      ],
      "source": [
        "(1 > 2) and (2 < 3)"
      ]
    },
    {
      "cell_type": "code",
      "execution_count": null,
      "metadata": {
        "id": "V5e1nP54mns6",
        "outputId": "0b16ee1d-9b53-41bf-9a9d-41c186a5496f"
      },
      "outputs": [
        {
          "data": {
            "text/plain": [
              "True"
            ]
          },
          "execution_count": 79,
          "metadata": {},
          "output_type": "execute_result"
        }
      ],
      "source": [
        "(1 > 2) or (2 < 3)"
      ]
    },
    {
      "cell_type": "code",
      "execution_count": null,
      "metadata": {
        "id": "f83IijG9mns6",
        "outputId": "c267edd6-de1a-4c23-e0bd-a46c9d2f2343"
      },
      "outputs": [
        {
          "data": {
            "text/plain": [
              "True"
            ]
          },
          "execution_count": 80,
          "metadata": {},
          "output_type": "execute_result"
        }
      ],
      "source": [
        "(1 == 2) or (2 == 3) or (4 == 4)"
      ]
    },
    {
      "cell_type": "markdown",
      "metadata": {
        "id": "XvCCsyuEmns6"
      },
      "source": [
        "## Sentencias if,elif, else"
      ]
    },
    {
      "cell_type": "code",
      "execution_count": null,
      "metadata": {
        "id": "7KuVpf5_mns7",
        "outputId": "bfe3e525-add9-4b5a-c280-5768a18976f9"
      },
      "outputs": [
        {
          "name": "stdout",
          "output_type": "stream",
          "text": [
            "!Hola¡\n"
          ]
        }
      ],
      "source": [
        "if 1 < 2:\n",
        "    print('!Hola¡')"
      ]
    },
    {
      "cell_type": "code",
      "execution_count": null,
      "metadata": {
        "id": "_eRJp-yPmns7",
        "outputId": "be53addf-8132-4fa6-d9d5-b8444ee7567c"
      },
      "outputs": [
        {
          "name": "stdout",
          "output_type": "stream",
          "text": [
            "primero\n"
          ]
        }
      ],
      "source": [
        "if 1 < 2:\n",
        "    print('primero')\n",
        "else:\n",
        "    print('último')"
      ]
    },
    {
      "cell_type": "code",
      "execution_count": null,
      "metadata": {
        "id": "mTuCgLxMmns8",
        "outputId": "a15849f8-5c87-4105-ebaf-73742ab1892a"
      },
      "outputs": [
        {
          "name": "stdout",
          "output_type": "stream",
          "text": [
            "último\n"
          ]
        }
      ],
      "source": [
        "if 1 > 2:\n",
        "    print('primero')\n",
        "else:\n",
        "    print('último')"
      ]
    },
    {
      "cell_type": "code",
      "execution_count": null,
      "metadata": {
        "id": "4f4SSOUemns9",
        "outputId": "4b6d895b-5c3b-4283-a9b0-a3cdda73fbd4"
      },
      "outputs": [
        {
          "name": "stdout",
          "output_type": "stream",
          "text": [
            "medio\n"
          ]
        }
      ],
      "source": [
        "if 1 == 2:\n",
        "    print('primero')\n",
        "elif 3 == 3:\n",
        "    print('medio')\n",
        "else:\n",
        "    print('último')"
      ]
    },
    {
      "cell_type": "markdown",
      "metadata": {
        "id": "Pure1gnwmns-"
      },
      "source": [
        "## Bucles for"
      ]
    },
    {
      "cell_type": "code",
      "execution_count": null,
      "metadata": {
        "collapsed": true,
        "id": "-FeewDP1mns-"
      },
      "outputs": [],
      "source": [
        "seq = [1,2,3,4,5]"
      ]
    },
    {
      "cell_type": "code",
      "execution_count": null,
      "metadata": {
        "id": "yaOxUHvImns_",
        "outputId": "5a1c8216-722a-4a5c-bf8f-2ba32ca5faee"
      },
      "outputs": [
        {
          "name": "stdout",
          "output_type": "stream",
          "text": [
            "1\n",
            "2\n",
            "3\n",
            "4\n",
            "5\n"
          ]
        }
      ],
      "source": [
        "for item in seq:\n",
        "    print(item)"
      ]
    },
    {
      "cell_type": "code",
      "execution_count": null,
      "metadata": {
        "id": "wWX6IHE1mns_",
        "outputId": "24f8b30e-c077-4577-ae27-399980991425"
      },
      "outputs": [
        {
          "name": "stdout",
          "output_type": "stream",
          "text": [
            "Hola\n",
            "Hola\n",
            "Hola\n",
            "Hola\n",
            "Hola\n"
          ]
        }
      ],
      "source": [
        "for item in seq:\n",
        "    print('Hola')"
      ]
    },
    {
      "cell_type": "code",
      "execution_count": null,
      "metadata": {
        "id": "Vo8E_8EkmntA",
        "outputId": "6eeb7c7c-9de6-4296-836a-88abfbb583de"
      },
      "outputs": [
        {
          "name": "stdout",
          "output_type": "stream",
          "text": [
            "2\n",
            "4\n",
            "6\n",
            "8\n",
            "10\n"
          ]
        }
      ],
      "source": [
        "for x in seq:\n",
        "    print(x+x)"
      ]
    },
    {
      "cell_type": "markdown",
      "metadata": {
        "id": "DhqRRs02mntA"
      },
      "source": [
        "## Bucles while"
      ]
    },
    {
      "cell_type": "code",
      "execution_count": null,
      "metadata": {
        "id": "SlXH0hezmntB",
        "outputId": "2a2b652a-7226-495e-872f-be96383fa002"
      },
      "outputs": [
        {
          "name": "stdout",
          "output_type": "stream",
          "text": [
            "i es: 1\n",
            "i es: 2\n",
            "i es: 3\n",
            "i es: 4\n"
          ]
        }
      ],
      "source": [
        "i = 1\n",
        "while i < 5:\n",
        "    print('i es: {}'.format(i))\n",
        "    i = i+1"
      ]
    },
    {
      "cell_type": "markdown",
      "metadata": {
        "id": "87b61SwDmntB"
      },
      "source": [
        "## range()"
      ]
    },
    {
      "cell_type": "code",
      "execution_count": null,
      "metadata": {
        "id": "PhV65vkmmntB",
        "outputId": "ba93a81f-5c4f-4229-c1f9-1a4d28190669"
      },
      "outputs": [
        {
          "data": {
            "text/plain": [
              "range(0, 5)"
            ]
          },
          "execution_count": 93,
          "metadata": {},
          "output_type": "execute_result"
        }
      ],
      "source": [
        "range(5)"
      ]
    },
    {
      "cell_type": "code",
      "execution_count": null,
      "metadata": {
        "id": "6-W1YwWPmntB",
        "outputId": "f8350963-dcd0-4e0a-d258-e52fcc7d8fa4"
      },
      "outputs": [
        {
          "name": "stdout",
          "output_type": "stream",
          "text": [
            "0\n",
            "1\n",
            "2\n",
            "3\n",
            "4\n"
          ]
        }
      ],
      "source": [
        "for i in range(5):\n",
        "    print(i)"
      ]
    },
    {
      "cell_type": "code",
      "execution_count": null,
      "metadata": {
        "id": "ap4AEowkmntC",
        "outputId": "7c7239bd-60e5-4844-f8e0-e4bbac267dce"
      },
      "outputs": [
        {
          "data": {
            "text/plain": [
              "[3, 4]"
            ]
          },
          "execution_count": 96,
          "metadata": {},
          "output_type": "execute_result"
        }
      ],
      "source": [
        "list(range(3,5))"
      ]
    },
    {
      "cell_type": "markdown",
      "metadata": {
        "id": "h0mu9YIAmntC"
      },
      "source": [
        "## listas por comprensión"
      ]
    },
    {
      "cell_type": "code",
      "execution_count": null,
      "metadata": {
        "collapsed": true,
        "id": "syXG8id6mntD"
      },
      "outputs": [],
      "source": [
        "x = [1,2,3,4]"
      ]
    },
    {
      "cell_type": "code",
      "execution_count": null,
      "metadata": {
        "id": "fClEQDSdmntD",
        "outputId": "cc7ce2d5-5bb0-4b33-a227-1d9c61edf4c2"
      },
      "outputs": [
        {
          "name": "stdout",
          "output_type": "stream",
          "text": [
            "[1, 4, 9, 16]\n"
          ]
        }
      ],
      "source": [
        "salida = []\n",
        "for item in x:\n",
        "    salida.append(item**2)\n",
        "print(salida)"
      ]
    },
    {
      "cell_type": "code",
      "execution_count": null,
      "metadata": {
        "id": "lyO-9yIQmntD",
        "outputId": "c52fb8e3-fc07-49a9-df87-4a7d279bcd49"
      },
      "outputs": [
        {
          "name": "stdout",
          "output_type": "stream",
          "text": [
            "[1, 4, 9, 16]\n"
          ]
        }
      ],
      "source": [
        "salida2 = [item**2 for item in x]\n",
        "print(salida2)"
      ]
    },
    {
      "cell_type": "markdown",
      "metadata": {
        "id": "fWTEz0f9mntD"
      },
      "source": [
        "## funciones"
      ]
    },
    {
      "cell_type": "code",
      "execution_count": null,
      "metadata": {
        "collapsed": true,
        "id": "Gn_6PtnNmntE"
      },
      "outputs": [],
      "source": [
        "def mi_func(param1='defecto'):\n",
        "    \"\"\"\n",
        "    Docstring goes here.\n",
        "    \"\"\"\n",
        "    print(param1)"
      ]
    },
    {
      "cell_type": "code",
      "execution_count": null,
      "metadata": {
        "id": "SufkyNNamntE",
        "outputId": "f78c18ff-8e42-4901-d7d3-b72ead5791fd"
      },
      "outputs": [
        {
          "data": {
            "text/plain": [
              "<function __main__.mi_func>"
            ]
          },
          "execution_count": 105,
          "metadata": {},
          "output_type": "execute_result"
        }
      ],
      "source": [
        "mi_func"
      ]
    },
    {
      "cell_type": "code",
      "execution_count": null,
      "metadata": {
        "id": "WcadG8XdmntE",
        "outputId": "f56ff0bf-3993-4999-f128-87d38f847ac3"
      },
      "outputs": [
        {
          "name": "stdout",
          "output_type": "stream",
          "text": [
            "defecto\n"
          ]
        }
      ],
      "source": [
        "mi_func()"
      ]
    },
    {
      "cell_type": "code",
      "execution_count": null,
      "metadata": {
        "id": "dP8qSTN8mntF",
        "outputId": "e8a52c90-31d9-4b86-ff36-1855ec69947e"
      },
      "outputs": [
        {
          "name": "stdout",
          "output_type": "stream",
          "text": [
            "nuevo parámetro\n"
          ]
        }
      ],
      "source": [
        "mi_func('nuevo parámetro')"
      ]
    },
    {
      "cell_type": "code",
      "execution_count": null,
      "metadata": {
        "id": "OjVjsfkwmntF",
        "outputId": "ab754c41-f862-4b62-dee4-1426691181fb"
      },
      "outputs": [
        {
          "name": "stdout",
          "output_type": "stream",
          "text": [
            "nuevo parámetro\n"
          ]
        }
      ],
      "source": [
        "mi_func(param1='nuevo parámetro')"
      ]
    },
    {
      "cell_type": "code",
      "execution_count": null,
      "metadata": {
        "collapsed": true,
        "id": "Nq2X1ld8mntF"
      },
      "outputs": [],
      "source": [
        "def cuadrado(x):\n",
        "    return x**2"
      ]
    },
    {
      "cell_type": "code",
      "execution_count": null,
      "metadata": {
        "collapsed": true,
        "id": "gNavCAqHmntF"
      },
      "outputs": [],
      "source": [
        "salida = cuadrado(3)"
      ]
    },
    {
      "cell_type": "code",
      "execution_count": null,
      "metadata": {
        "scrolled": true,
        "id": "IShwfn_GmntG",
        "outputId": "808e9643-cfb7-4ce7-f6db-dc03377e6611"
      },
      "outputs": [
        {
          "name": "stdout",
          "output_type": "stream",
          "text": [
            "9\n"
          ]
        }
      ],
      "source": [
        "print(salida)"
      ]
    },
    {
      "cell_type": "markdown",
      "metadata": {
        "id": "5jIdJdwQmntG"
      },
      "source": [
        "## expresiones lambda"
      ]
    },
    {
      "cell_type": "code",
      "execution_count": null,
      "metadata": {
        "collapsed": true,
        "id": "r18xlDglmntG"
      },
      "outputs": [],
      "source": [
        "def por2(var):\n",
        "    return var*2"
      ]
    },
    {
      "cell_type": "code",
      "execution_count": null,
      "metadata": {
        "id": "Z_kCunOXmntH",
        "outputId": "6937f124-f4c3-40f4-852d-4d89a8a45bcf"
      },
      "outputs": [
        {
          "data": {
            "text/plain": [
              "4"
            ]
          },
          "execution_count": 116,
          "metadata": {},
          "output_type": "execute_result"
        }
      ],
      "source": [
        "por2(2)"
      ]
    },
    {
      "cell_type": "code",
      "execution_count": null,
      "metadata": {
        "id": "WahuYCJumntH",
        "outputId": "b02d5586-82af-41e4-f45b-b6f2e802158b"
      },
      "outputs": [
        {
          "data": {
            "text/plain": [
              "<function __main__.<lambda>>"
            ]
          },
          "execution_count": 117,
          "metadata": {},
          "output_type": "execute_result"
        }
      ],
      "source": [
        "lambda var: var*2"
      ]
    },
    {
      "cell_type": "markdown",
      "metadata": {
        "id": "nY1NG4DkmntH"
      },
      "source": [
        "## map y filter"
      ]
    },
    {
      "cell_type": "code",
      "execution_count": null,
      "metadata": {
        "collapsed": true,
        "id": "kgJ4qXermntI"
      },
      "outputs": [],
      "source": [
        "seq = [1,2,3,4,5]"
      ]
    },
    {
      "cell_type": "code",
      "execution_count": null,
      "metadata": {
        "id": "fMf7lD95mntI",
        "outputId": "7a276a15-ca8c-4de4-da16-294ba1c4857b"
      },
      "outputs": [
        {
          "data": {
            "text/plain": [
              "<map at 0x1026964a160>"
            ]
          },
          "execution_count": 118,
          "metadata": {},
          "output_type": "execute_result"
        }
      ],
      "source": [
        "map(por2,seq)"
      ]
    },
    {
      "cell_type": "code",
      "execution_count": null,
      "metadata": {
        "id": "dZnUhZmFmntI",
        "outputId": "8302e99d-55b2-4cdf-cac1-e3d3ae3f1da1"
      },
      "outputs": [
        {
          "data": {
            "text/plain": [
              "[2, 4, 6, 8, 10]"
            ]
          },
          "execution_count": 119,
          "metadata": {},
          "output_type": "execute_result"
        }
      ],
      "source": [
        "list(map(por2,seq))"
      ]
    },
    {
      "cell_type": "code",
      "execution_count": null,
      "metadata": {
        "id": "RO3SbHuKmntJ",
        "outputId": "075fb302-824b-4f40-e0ec-fc7e3452ef6e"
      },
      "outputs": [
        {
          "data": {
            "text/plain": [
              "[2, 4, 6, 8, 10]"
            ]
          },
          "execution_count": 120,
          "metadata": {},
          "output_type": "execute_result"
        }
      ],
      "source": [
        "list(map(lambda var: var*2,seq))"
      ]
    },
    {
      "cell_type": "code",
      "execution_count": null,
      "metadata": {
        "id": "Q-aJ_3PcmntJ",
        "outputId": "2740a6b5-b0bd-40ec-dd99-c98c225c8482"
      },
      "outputs": [
        {
          "data": {
            "text/plain": [
              "<filter at 0x10269659be0>"
            ]
          },
          "execution_count": 121,
          "metadata": {},
          "output_type": "execute_result"
        }
      ],
      "source": [
        "filter(lambda item: item%2 == 0,seq)"
      ]
    },
    {
      "cell_type": "code",
      "execution_count": null,
      "metadata": {
        "id": "RIgcJU5imntK",
        "outputId": "94d9ac2f-5c4c-406f-d2da-3afd009d286a"
      },
      "outputs": [
        {
          "data": {
            "text/plain": [
              "[2, 4]"
            ]
          },
          "execution_count": 122,
          "metadata": {},
          "output_type": "execute_result"
        }
      ],
      "source": [
        "list(filter(lambda item: item%2 == 0,seq))"
      ]
    },
    {
      "cell_type": "markdown",
      "metadata": {
        "id": "Wpvrl4r6mntK"
      },
      "source": [
        "## métodos"
      ]
    },
    {
      "cell_type": "code",
      "execution_count": null,
      "metadata": {
        "collapsed": true,
        "id": "2eOEhKqtmntK"
      },
      "outputs": [],
      "source": [
        "st = 'Hola mi nombre es Sam'"
      ]
    },
    {
      "cell_type": "code",
      "execution_count": null,
      "metadata": {
        "id": "OdlsLWrImntK",
        "outputId": "4d45b500-af79-419c-dd8b-5bcd7eea4541"
      },
      "outputs": [
        {
          "data": {
            "text/plain": [
              "'hola mi nombre es sam'"
            ]
          },
          "execution_count": 124,
          "metadata": {},
          "output_type": "execute_result"
        }
      ],
      "source": [
        "st.lower()"
      ]
    },
    {
      "cell_type": "code",
      "execution_count": null,
      "metadata": {
        "id": "cs2a97timntL",
        "outputId": "afc1675b-8e42-4c18-d452-5f48c2b742eb"
      },
      "outputs": [
        {
          "data": {
            "text/plain": [
              "'HOLA MI NOMBRE ES SAM'"
            ]
          },
          "execution_count": 125,
          "metadata": {},
          "output_type": "execute_result"
        }
      ],
      "source": [
        "st.upper()"
      ]
    },
    {
      "cell_type": "code",
      "execution_count": null,
      "metadata": {
        "id": "2tw5OHvxmntL",
        "outputId": "a80bfc87-ddd7-42ed-eb9a-980624b61ed0"
      },
      "outputs": [
        {
          "data": {
            "text/plain": [
              "['Hola', 'mi', 'nombre', 'es', 'Sam']"
            ]
          },
          "execution_count": 126,
          "metadata": {},
          "output_type": "execute_result"
        }
      ],
      "source": [
        "st.split()"
      ]
    },
    {
      "cell_type": "code",
      "execution_count": null,
      "metadata": {
        "collapsed": true,
        "id": "y_t5oVN9mntL"
      },
      "outputs": [],
      "source": [
        "tweet = '¡Arriba Perú! #Deportes'"
      ]
    },
    {
      "cell_type": "code",
      "execution_count": null,
      "metadata": {
        "id": "KTWbwTcamntN",
        "outputId": "ab5f80c8-a333-45cb-819e-90825ea4e10f"
      },
      "outputs": [
        {
          "data": {
            "text/plain": [
              "['¡Arriba Perú! ', 'Deportes']"
            ]
          },
          "execution_count": 128,
          "metadata": {},
          "output_type": "execute_result"
        }
      ],
      "source": [
        "tweet.split('#')"
      ]
    },
    {
      "cell_type": "code",
      "execution_count": null,
      "metadata": {
        "id": "u3-BVhp2mntN",
        "outputId": "044584bd-ee63-4ddc-82fb-852f1fadb9aa"
      },
      "outputs": [
        {
          "data": {
            "text/plain": [
              "'Deportes'"
            ]
          },
          "execution_count": 129,
          "metadata": {},
          "output_type": "execute_result"
        }
      ],
      "source": [
        "tweet.split('#')[1]"
      ]
    },
    {
      "cell_type": "code",
      "execution_count": null,
      "metadata": {
        "id": "7bOe9lkumntO",
        "outputId": "aec4f9a4-b04a-4f73-e620-663317d9a61c"
      },
      "outputs": [
        {
          "data": {
            "text/plain": [
              "{'clave2': 'valor2', 'clave3': 'valor1'}"
            ]
          },
          "execution_count": 130,
          "metadata": {},
          "output_type": "execute_result"
        }
      ],
      "source": [
        "d"
      ]
    },
    {
      "cell_type": "code",
      "execution_count": null,
      "metadata": {
        "id": "hxJLFHi6mntP",
        "outputId": "c18ca6b1-5ff9-41b8-b7f1-2258ddae5d75"
      },
      "outputs": [
        {
          "data": {
            "text/plain": [
              "dict_keys(['clave2', 'clave3'])"
            ]
          },
          "execution_count": 131,
          "metadata": {},
          "output_type": "execute_result"
        }
      ],
      "source": [
        "d.keys()"
      ]
    },
    {
      "cell_type": "code",
      "execution_count": null,
      "metadata": {
        "id": "d-gGj1PwmntQ",
        "outputId": "c1f7908b-7559-479d-939a-cbb5b5a86608"
      },
      "outputs": [
        {
          "data": {
            "text/plain": [
              "dict_items([('clave2', 'valor2'), ('clave3', 'valor1')])"
            ]
          },
          "execution_count": 132,
          "metadata": {},
          "output_type": "execute_result"
        }
      ],
      "source": [
        "d.items()"
      ]
    },
    {
      "cell_type": "code",
      "execution_count": null,
      "metadata": {
        "collapsed": true,
        "id": "eyrmnKAFmntQ"
      },
      "outputs": [],
      "source": [
        "lst = [1,2,3]"
      ]
    },
    {
      "cell_type": "code",
      "execution_count": null,
      "metadata": {
        "id": "SPkyS4uimntR",
        "outputId": "758389a2-d686-404d-d7a2-7f9604d19276"
      },
      "outputs": [
        {
          "data": {
            "text/plain": [
              "3"
            ]
          },
          "execution_count": 134,
          "metadata": {},
          "output_type": "execute_result"
        }
      ],
      "source": [
        "lst.pop()"
      ]
    },
    {
      "cell_type": "code",
      "execution_count": null,
      "metadata": {
        "id": "vAwGL4EomntR",
        "outputId": "4a25c43c-b8b4-470e-81c5-eae760bd5851"
      },
      "outputs": [
        {
          "data": {
            "text/plain": [
              "[1, 2]"
            ]
          },
          "execution_count": 135,
          "metadata": {},
          "output_type": "execute_result"
        }
      ],
      "source": [
        "lst"
      ]
    },
    {
      "cell_type": "code",
      "execution_count": null,
      "metadata": {
        "id": "7XJh48pSmntR",
        "outputId": "4472d482-d10d-4355-f712-35098534c2ae"
      },
      "outputs": [
        {
          "data": {
            "text/plain": [
              "False"
            ]
          },
          "execution_count": 136,
          "metadata": {},
          "output_type": "execute_result"
        }
      ],
      "source": [
        "'x' in [1,2,3]"
      ]
    },
    {
      "cell_type": "code",
      "execution_count": null,
      "metadata": {
        "id": "Hj-tzQeymntS",
        "outputId": "78e77a6a-056c-4858-c1c8-2778a026ac1a"
      },
      "outputs": [
        {
          "data": {
            "text/plain": [
              "True"
            ]
          },
          "execution_count": 137,
          "metadata": {},
          "output_type": "execute_result"
        }
      ],
      "source": [
        "'x' in ['x','y','z']"
      ]
    },
    {
      "cell_type": "markdown",
      "metadata": {
        "id": "gLgIvqHkmntS"
      },
      "source": [
        "# ¡Excelente!"
      ]
    }
  ],
  "metadata": {
    "kernelspec": {
      "display_name": "Python 3",
      "language": "python",
      "name": "python3"
    },
    "language_info": {
      "codemirror_mode": {
        "name": "ipython",
        "version": 3
      },
      "file_extension": ".py",
      "mimetype": "text/x-python",
      "name": "python",
      "nbconvert_exporter": "python",
      "pygments_lexer": "ipython3",
      "version": "3.6.4"
    },
    "colab": {
      "name": "01PythonEnPocosPasos.ipynb",
      "provenance": [],
      "include_colab_link": true
    }
  },
  "nbformat": 4,
  "nbformat_minor": 0
}