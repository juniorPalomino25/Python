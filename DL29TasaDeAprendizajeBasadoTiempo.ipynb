{
  "nbformat": 4,
  "nbformat_minor": 0,
  "metadata": {
    "colab": {
      "name": "DL29TasaDeAprendizajeBasadoTiempo.ipynb",
      "provenance": [],
      "authorship_tag": "ABX9TyMIGAaWHofyw5vIP4e3FFFT",
      "include_colab_link": true
    },
    "kernelspec": {
      "name": "python3",
      "display_name": "Python 3"
    },
    "language_info": {
      "name": "python"
    }
  },
  "cells": [
    {
      "cell_type": "markdown",
      "metadata": {
        "id": "view-in-github",
        "colab_type": "text"
      },
      "source": [
        "<a href=\"https://colab.research.google.com/github/juniorPalomino25/Python/blob/main/DL29TasaDeAprendizajeBasadoTiempo.ipynb\" target=\"_parent\"><img src=\"https://colab.research.google.com/assets/colab-badge.svg\" alt=\"Open In Colab\"/></a>"
      ]
    },
    {
      "cell_type": "markdown",
      "source": [
        "# **Planificación de la tasa de aprendizaje con disminución basada en caídas**"
      ],
      "metadata": {
        "id": "Ofqd-MTL5vc0"
      }
    },
    {
      "cell_type": "markdown",
      "source": [
        "### Importa las librerias"
      ],
      "metadata": {
        "id": "Q_6GboAc5zq6"
      }
    },
    {
      "cell_type": "code",
      "execution_count": 1,
      "metadata": {
        "id": "FCc7O4dE5qOD"
      },
      "outputs": [],
      "source": [
        "from pandas import read_csv\n",
        "import math\n",
        "import numpy\n",
        "from keras.models import Sequential\n",
        "from keras.layers import Dense\n",
        "from keras.optimizers import gradient_descent_v2\n",
        "from sklearn.preprocessing import LabelEncoder\n",
        "from keras.callbacks import LearningRateScheduler"
      ]
    },
    {
      "cell_type": "markdown",
      "source": [
        "Planificación de la tasa de aprendizaje"
      ],
      "metadata": {
        "id": "MuSCCQjp53qa"
      }
    },
    {
      "cell_type": "code",
      "source": [
        "def paso_decaimiento(epoca):\n",
        "  tasa_apre_ini = 0.1\n",
        "  disminucion = 0.5 # disminución al 50%\n",
        "  epocas_dis = 10.0\n",
        "  tasa_apre = tasa_apre_ini * math.pow(disminucion,\n",
        "  math.floor((1+epoca)/epocas_dis))\n",
        "  return tasa_apre"
      ],
      "metadata": {
        "id": "aa-AG6dg55Aa"
      },
      "execution_count": 3,
      "outputs": []
    },
    {
      "cell_type": "markdown",
      "source": [
        "### Carga el conjunto de datos"
      ],
      "metadata": {
        "id": "uPmThtFt56wS"
      }
    },
    {
      "cell_type": "code",
      "source": [
        "datos = numpy.loadtxt(\"ClassifiedData.txt\",delimiter=\",\")\n",
        "X = datos[:,0:11]\n",
        "Y = datos[:,11]"
      ],
      "metadata": {
        "id": "dN5CICNc5-kz"
      },
      "execution_count": 4,
      "outputs": []
    },
    {
      "cell_type": "markdown",
      "source": [
        "### Crea el modelo"
      ],
      "metadata": {
        "id": "DZmWachD6If6"
      }
    },
    {
      "cell_type": "code",
      "source": [
        "modelo = Sequential()\n",
        "modelo.add(Dense(34, input_dim=11, activation='relu'))\n",
        "modelo.add(Dense(1, activation='sigmoid'))"
      ],
      "metadata": {
        "id": "FG1zUw-O6HWa"
      },
      "execution_count": 6,
      "outputs": []
    },
    {
      "cell_type": "markdown",
      "source": [
        "### Compila el modelo"
      ],
      "metadata": {
        "id": "2pbQx8Qw6PPk"
      }
    },
    {
      "cell_type": "code",
      "source": [
        "sgd = gradient_descent_v2.SGD(learning_rate=0.0,momentum=0.9)\n",
        "modelo.compile(loss='binary_crossentropy', optimizer=sgd, metrics=['accuracy'])"
      ],
      "metadata": {
        "id": "kpfZVcQ36O_K"
      },
      "execution_count": 7,
      "outputs": []
    },
    {
      "cell_type": "markdown",
      "source": [
        "Callback de planificación del aprendizaje"
      ],
      "metadata": {
        "id": "ROmnBT5Y6SjS"
      }
    },
    {
      "cell_type": "code",
      "source": [
        "tasa_aprendizaje = LearningRateScheduler(paso_decaimiento)\n",
        "lista_callbacks = [tasa_aprendizaje]"
      ],
      "metadata": {
        "id": "McWUO2n46TEL"
      },
      "execution_count": 8,
      "outputs": []
    },
    {
      "cell_type": "markdown",
      "source": [
        "### Entrenar el modelo"
      ],
      "metadata": {
        "id": "gCizPt8b6SbK"
      }
    },
    {
      "cell_type": "code",
      "source": [
        "modelo.fit(X, Y, validation_split=0.33, epochs=50, batch_size=28,\n",
        "callbacks=lista_callbacks, verbose=2)"
      ],
      "metadata": {
        "colab": {
          "base_uri": "https://localhost:8080/"
        },
        "id": "NnE0Bddp6XnD",
        "outputId": "5006bf62-0997-4865-a29a-056416649936"
      },
      "execution_count": 9,
      "outputs": [
        {
          "output_type": "stream",
          "name": "stdout",
          "text": [
            "Epoch 1/50\n",
            "24/24 - 2s - loss: 159.5213 - accuracy: 0.4783 - val_loss: 0.6920 - val_accuracy: 0.5378 - lr: 0.1000 - 2s/epoch - 75ms/step\n",
            "Epoch 2/50\n",
            "24/24 - 0s - loss: 0.6959 - accuracy: 0.5172 - val_loss: 0.6931 - val_accuracy: 0.5378 - lr: 0.1000 - 135ms/epoch - 6ms/step\n",
            "Epoch 3/50\n",
            "24/24 - 0s - loss: 0.6964 - accuracy: 0.4873 - val_loss: 0.7015 - val_accuracy: 0.4622 - lr: 0.1000 - 109ms/epoch - 5ms/step\n",
            "Epoch 4/50\n",
            "24/24 - 0s - loss: 0.6952 - accuracy: 0.4813 - val_loss: 0.7015 - val_accuracy: 0.4622 - lr: 0.1000 - 138ms/epoch - 6ms/step\n",
            "Epoch 5/50\n",
            "24/24 - 0s - loss: 0.6947 - accuracy: 0.4948 - val_loss: 0.7043 - val_accuracy: 0.4622 - lr: 0.1000 - 152ms/epoch - 6ms/step\n",
            "Epoch 6/50\n",
            "24/24 - 0s - loss: 0.6924 - accuracy: 0.5202 - val_loss: 0.6929 - val_accuracy: 0.5378 - lr: 0.1000 - 152ms/epoch - 6ms/step\n",
            "Epoch 7/50\n",
            "24/24 - 0s - loss: 0.6938 - accuracy: 0.4948 - val_loss: 0.6987 - val_accuracy: 0.4622 - lr: 0.1000 - 143ms/epoch - 6ms/step\n",
            "Epoch 8/50\n",
            "24/24 - 0s - loss: 0.6944 - accuracy: 0.5082 - val_loss: 0.6933 - val_accuracy: 0.4622 - lr: 0.1000 - 99ms/epoch - 4ms/step\n",
            "Epoch 9/50\n",
            "24/24 - 0s - loss: 0.6944 - accuracy: 0.5202 - val_loss: 0.6987 - val_accuracy: 0.4622 - lr: 0.1000 - 75ms/epoch - 3ms/step\n",
            "Epoch 10/50\n",
            "24/24 - 0s - loss: 0.6930 - accuracy: 0.5217 - val_loss: 0.6964 - val_accuracy: 0.4622 - lr: 0.0500 - 62ms/epoch - 3ms/step\n",
            "Epoch 11/50\n",
            "24/24 - 0s - loss: 0.6932 - accuracy: 0.5067 - val_loss: 0.6965 - val_accuracy: 0.4622 - lr: 0.0500 - 72ms/epoch - 3ms/step\n",
            "Epoch 12/50\n",
            "24/24 - 0s - loss: 0.6929 - accuracy: 0.5217 - val_loss: 0.6993 - val_accuracy: 0.4622 - lr: 0.0500 - 74ms/epoch - 3ms/step\n",
            "Epoch 13/50\n",
            "24/24 - 0s - loss: 0.6930 - accuracy: 0.5232 - val_loss: 0.6973 - val_accuracy: 0.4622 - lr: 0.0500 - 74ms/epoch - 3ms/step\n",
            "Epoch 14/50\n",
            "24/24 - 0s - loss: 0.6931 - accuracy: 0.5232 - val_loss: 0.6954 - val_accuracy: 0.4622 - lr: 0.0500 - 73ms/epoch - 3ms/step\n",
            "Epoch 15/50\n",
            "24/24 - 0s - loss: 0.6927 - accuracy: 0.5187 - val_loss: 0.6977 - val_accuracy: 0.4622 - lr: 0.0500 - 61ms/epoch - 3ms/step\n",
            "Epoch 16/50\n",
            "24/24 - 0s - loss: 0.6930 - accuracy: 0.5232 - val_loss: 0.6988 - val_accuracy: 0.4622 - lr: 0.0500 - 72ms/epoch - 3ms/step\n",
            "Epoch 17/50\n",
            "24/24 - 0s - loss: 0.6925 - accuracy: 0.5202 - val_loss: 0.6963 - val_accuracy: 0.4622 - lr: 0.0500 - 66ms/epoch - 3ms/step\n",
            "Epoch 18/50\n",
            "24/24 - 0s - loss: 0.6929 - accuracy: 0.5202 - val_loss: 0.6971 - val_accuracy: 0.4622 - lr: 0.0500 - 80ms/epoch - 3ms/step\n",
            "Epoch 19/50\n",
            "24/24 - 0s - loss: 0.6927 - accuracy: 0.5202 - val_loss: 0.6972 - val_accuracy: 0.4622 - lr: 0.0500 - 77ms/epoch - 3ms/step\n",
            "Epoch 20/50\n",
            "24/24 - 0s - loss: 0.6921 - accuracy: 0.5202 - val_loss: 0.6972 - val_accuracy: 0.4622 - lr: 0.0250 - 65ms/epoch - 3ms/step\n",
            "Epoch 21/50\n",
            "24/24 - 0s - loss: 0.6931 - accuracy: 0.5232 - val_loss: 0.6994 - val_accuracy: 0.4622 - lr: 0.0250 - 63ms/epoch - 3ms/step\n",
            "Epoch 22/50\n",
            "24/24 - 0s - loss: 0.6937 - accuracy: 0.5112 - val_loss: 0.6940 - val_accuracy: 0.4622 - lr: 0.0250 - 69ms/epoch - 3ms/step\n",
            "Epoch 23/50\n",
            "24/24 - 0s - loss: 0.6924 - accuracy: 0.5202 - val_loss: 0.6991 - val_accuracy: 0.4622 - lr: 0.0250 - 61ms/epoch - 3ms/step\n",
            "Epoch 24/50\n",
            "24/24 - 0s - loss: 0.6938 - accuracy: 0.5232 - val_loss: 0.6985 - val_accuracy: 0.4622 - lr: 0.0250 - 73ms/epoch - 3ms/step\n",
            "Epoch 25/50\n",
            "24/24 - 0s - loss: 0.6921 - accuracy: 0.5232 - val_loss: 0.6948 - val_accuracy: 0.4622 - lr: 0.0250 - 72ms/epoch - 3ms/step\n",
            "Epoch 26/50\n",
            "24/24 - 0s - loss: 0.6922 - accuracy: 0.5202 - val_loss: 0.6956 - val_accuracy: 0.4622 - lr: 0.0250 - 67ms/epoch - 3ms/step\n",
            "Epoch 27/50\n",
            "24/24 - 0s - loss: 0.6924 - accuracy: 0.5232 - val_loss: 0.6959 - val_accuracy: 0.4622 - lr: 0.0250 - 77ms/epoch - 3ms/step\n",
            "Epoch 28/50\n",
            "24/24 - 0s - loss: 0.6926 - accuracy: 0.5232 - val_loss: 0.6953 - val_accuracy: 0.4622 - lr: 0.0250 - 81ms/epoch - 3ms/step\n",
            "Epoch 29/50\n",
            "24/24 - 0s - loss: 0.6921 - accuracy: 0.5232 - val_loss: 0.6977 - val_accuracy: 0.4622 - lr: 0.0250 - 82ms/epoch - 3ms/step\n",
            "Epoch 30/50\n",
            "24/24 - 0s - loss: 0.6920 - accuracy: 0.5232 - val_loss: 0.6982 - val_accuracy: 0.4622 - lr: 0.0125 - 80ms/epoch - 3ms/step\n",
            "Epoch 31/50\n",
            "24/24 - 0s - loss: 0.6916 - accuracy: 0.5232 - val_loss: 0.6960 - val_accuracy: 0.4622 - lr: 0.0125 - 85ms/epoch - 4ms/step\n",
            "Epoch 32/50\n",
            "24/24 - 0s - loss: 0.6918 - accuracy: 0.5232 - val_loss: 0.6956 - val_accuracy: 0.4622 - lr: 0.0125 - 78ms/epoch - 3ms/step\n",
            "Epoch 33/50\n",
            "24/24 - 0s - loss: 0.6919 - accuracy: 0.5232 - val_loss: 0.6983 - val_accuracy: 0.4622 - lr: 0.0125 - 75ms/epoch - 3ms/step\n",
            "Epoch 34/50\n",
            "24/24 - 0s - loss: 0.6914 - accuracy: 0.5232 - val_loss: 0.6959 - val_accuracy: 0.4622 - lr: 0.0125 - 76ms/epoch - 3ms/step\n",
            "Epoch 35/50\n",
            "24/24 - 0s - loss: 0.6910 - accuracy: 0.5232 - val_loss: 0.6967 - val_accuracy: 0.4622 - lr: 0.0125 - 82ms/epoch - 3ms/step\n",
            "Epoch 36/50\n",
            "24/24 - 0s - loss: 1.0030 - accuracy: 0.5202 - val_loss: 0.6956 - val_accuracy: 0.4622 - lr: 0.0125 - 78ms/epoch - 3ms/step\n",
            "Epoch 37/50\n",
            "24/24 - 0s - loss: 0.6927 - accuracy: 0.5202 - val_loss: 0.6941 - val_accuracy: 0.4622 - lr: 0.0125 - 69ms/epoch - 3ms/step\n",
            "Epoch 38/50\n",
            "24/24 - 0s - loss: 0.6919 - accuracy: 0.5202 - val_loss: 0.6960 - val_accuracy: 0.4622 - lr: 0.0125 - 79ms/epoch - 3ms/step\n",
            "Epoch 39/50\n",
            "24/24 - 0s - loss: 0.6915 - accuracy: 0.5202 - val_loss: 0.6968 - val_accuracy: 0.4622 - lr: 0.0125 - 72ms/epoch - 3ms/step\n",
            "Epoch 40/50\n",
            "24/24 - 0s - loss: 0.6915 - accuracy: 0.5202 - val_loss: 0.6971 - val_accuracy: 0.4622 - lr: 0.0063 - 73ms/epoch - 3ms/step\n",
            "Epoch 41/50\n",
            "24/24 - 0s - loss: 0.6915 - accuracy: 0.5202 - val_loss: 0.6968 - val_accuracy: 0.4622 - lr: 0.0063 - 85ms/epoch - 4ms/step\n",
            "Epoch 42/50\n",
            "24/24 - 0s - loss: 0.6916 - accuracy: 0.5202 - val_loss: 0.6964 - val_accuracy: 0.4622 - lr: 0.0063 - 73ms/epoch - 3ms/step\n",
            "Epoch 43/50\n",
            "24/24 - 0s - loss: 0.6914 - accuracy: 0.5202 - val_loss: 0.6970 - val_accuracy: 0.4622 - lr: 0.0063 - 79ms/epoch - 3ms/step\n",
            "Epoch 44/50\n",
            "24/24 - 0s - loss: 0.6914 - accuracy: 0.5202 - val_loss: 0.6968 - val_accuracy: 0.4622 - lr: 0.0063 - 80ms/epoch - 3ms/step\n",
            "Epoch 45/50\n",
            "24/24 - 0s - loss: 0.6915 - accuracy: 0.5202 - val_loss: 0.6971 - val_accuracy: 0.4622 - lr: 0.0063 - 75ms/epoch - 3ms/step\n",
            "Epoch 46/50\n",
            "24/24 - 0s - loss: 0.6914 - accuracy: 0.5202 - val_loss: 0.6970 - val_accuracy: 0.4622 - lr: 0.0063 - 76ms/epoch - 3ms/step\n",
            "Epoch 47/50\n",
            "24/24 - 0s - loss: 0.6914 - accuracy: 0.5202 - val_loss: 0.6968 - val_accuracy: 0.4622 - lr: 0.0063 - 69ms/epoch - 3ms/step\n",
            "Epoch 48/50\n",
            "24/24 - 0s - loss: 0.6915 - accuracy: 0.5202 - val_loss: 0.6970 - val_accuracy: 0.4622 - lr: 0.0063 - 88ms/epoch - 4ms/step\n",
            "Epoch 49/50\n",
            "24/24 - 0s - loss: 0.6914 - accuracy: 0.5202 - val_loss: 0.6970 - val_accuracy: 0.4622 - lr: 0.0063 - 72ms/epoch - 3ms/step\n",
            "Epoch 50/50\n",
            "24/24 - 0s - loss: 0.6914 - accuracy: 0.5202 - val_loss: 0.6967 - val_accuracy: 0.4622 - lr: 0.0031 - 75ms/epoch - 3ms/step\n"
          ]
        },
        {
          "output_type": "execute_result",
          "data": {
            "text/plain": [
              "<keras.callbacks.History at 0x7f476d4fedd0>"
            ]
          },
          "metadata": {},
          "execution_count": 9
        }
      ]
    }
  ]
}