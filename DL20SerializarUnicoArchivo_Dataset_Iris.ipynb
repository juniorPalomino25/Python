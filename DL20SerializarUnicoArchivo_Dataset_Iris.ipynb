{
  "nbformat": 4,
  "nbformat_minor": 0,
  "metadata": {
    "colab": {
      "name": "DL20SerializarUnicoArchivo_Dataset_Iris.ipynb",
      "provenance": [],
      "authorship_tag": "ABX9TyMCL+ZZhntf5gAGhk0FINpI",
      "include_colab_link": true
    },
    "kernelspec": {
      "name": "python3",
      "display_name": "Python 3"
    },
    "language_info": {
      "name": "python"
    }
  },
  "cells": [
    {
      "cell_type": "markdown",
      "metadata": {
        "id": "view-in-github",
        "colab_type": "text"
      },
      "source": [
        "<a href=\"https://colab.research.google.com/github/juniorPalomino25/Python/blob/main/DL20SerializarUnicoArchivo_Dataset_Iris.ipynb\" target=\"_parent\"><img src=\"https://colab.research.google.com/assets/colab-badge.svg\" alt=\"Open In Colab\"/></a>"
      ]
    },
    {
      "cell_type": "markdown",
      "source": [
        "# **Carga el modelo con la arquitectura y los pesos guardados en un único archivo usando el dataset Iris.csv**"
      ],
      "metadata": {
        "id": "Gh7VB0NyCHo8"
      }
    },
    {
      "cell_type": "code",
      "execution_count": 1,
      "metadata": {
        "colab": {
          "base_uri": "https://localhost:8080/"
        },
        "id": "8iK_dnoAB8rb",
        "outputId": "30c4e620-7fc2-4a2e-e2a7-6553adf68b22"
      },
      "outputs": [
        {
          "output_type": "stream",
          "name": "stdout",
          "text": [
            "Requirement already satisfied: h5py in /usr/local/lib/python3.7/dist-packages (3.1.0)\n",
            "Requirement already satisfied: cached-property in /usr/local/lib/python3.7/dist-packages (from h5py) (1.5.2)\n",
            "Requirement already satisfied: numpy>=1.14.5 in /usr/local/lib/python3.7/dist-packages (from h5py) (1.21.5)\n"
          ]
        }
      ],
      "source": [
        "!pip install h5py"
      ]
    },
    {
      "cell_type": "markdown",
      "source": [
        "### Importar librerías"
      ],
      "metadata": {
        "id": "Z5U4kNW7Cbwk"
      }
    },
    {
      "cell_type": "code",
      "source": [
        "from numpy import loadtxt\n",
        "from keras.models import load_model\n",
        "from pandas import read_csv\n",
        "from sklearn.preprocessing import LabelEncoder\n",
        "from keras.utils import np_utils"
      ],
      "metadata": {
        "id": "3CPHeXruCgpd"
      },
      "execution_count": 6,
      "outputs": []
    },
    {
      "cell_type": "markdown",
      "source": [
        "### Cargar el modelo"
      ],
      "metadata": {
        "id": "N7E6cdCbCgN7"
      }
    },
    {
      "cell_type": "code",
      "source": [
        "modelo = load_model('modelo_unico.h5')"
      ],
      "metadata": {
        "id": "leYbyxTBConK"
      },
      "execution_count": 3,
      "outputs": []
    },
    {
      "cell_type": "markdown",
      "source": [
        "### Resumen del modelo"
      ],
      "metadata": {
        "id": "af3O1FgZC3Wi"
      }
    },
    {
      "cell_type": "code",
      "source": [
        "modelo.summary()"
      ],
      "metadata": {
        "colab": {
          "base_uri": "https://localhost:8080/"
        },
        "id": "aiOgW1RoC33J",
        "outputId": "65cbc96d-6771-4239-b5fa-86843b1a6c05"
      },
      "execution_count": 4,
      "outputs": [
        {
          "output_type": "stream",
          "name": "stdout",
          "text": [
            "Model: \"sequential\"\n",
            "_________________________________________________________________\n",
            " Layer (type)                Output Shape              Param #   \n",
            "=================================================================\n",
            " dense (Dense)               (None, 12)                60        \n",
            "                                                                 \n",
            " dense_1 (Dense)             (None, 8)                 104       \n",
            "                                                                 \n",
            " dense_2 (Dense)             (None, 3)                 27        \n",
            "                                                                 \n",
            "=================================================================\n",
            "Total params: 191\n",
            "Trainable params: 191\n",
            "Non-trainable params: 0\n",
            "_________________________________________________________________\n"
          ]
        }
      ]
    },
    {
      "cell_type": "markdown",
      "source": [
        "### Cargar la data"
      ],
      "metadata": {
        "id": "beUv4fBjDBvR"
      }
    },
    {
      "cell_type": "code",
      "source": [
        "dataframe = read_csv(\"iris.csv\",header=None)\n",
        "dataframe.head()\n",
        "dataset = dataframe.values\n",
        "\n",
        "# separar las columnas de entrada y salida\n",
        "X = dataset[:,0:4].astype(float)\n",
        "Y = dataset[:,4]\n",
        "\n",
        "# codificar los valores de las clases cono enteros\n",
        "codificador = LabelEncoder()\n",
        "codificador.fit(Y)\n",
        "Y_codificado = codificador.transform(Y)\n",
        "\n",
        "# convertir las salidas de enteros en variables dummy (codificación one-hot)\n",
        "Y_dummy = np_utils.to_categorical(Y_codificado)"
      ],
      "metadata": {
        "id": "hMLLD4reDGsR"
      },
      "execution_count": 8,
      "outputs": []
    },
    {
      "cell_type": "markdown",
      "source": [
        "### Evaluar el modelo"
      ],
      "metadata": {
        "id": "Jdtju49qC96T"
      }
    },
    {
      "cell_type": "code",
      "source": [
        "puntuacion = modelo.evaluate(X, Y_dummy, verbose=0)\n",
        "print(\"%s: %.2f%%\" % (modelo.metrics_names[1],puntuacion[1]*100))"
      ],
      "metadata": {
        "colab": {
          "base_uri": "https://localhost:8080/"
        },
        "id": "CV5YcY9cDeBD",
        "outputId": "db1e644c-d061-4d5d-f12b-13ad548060ab"
      },
      "execution_count": 10,
      "outputs": [
        {
          "output_type": "stream",
          "name": "stdout",
          "text": [
            "accuracy: 98.67%\n"
          ]
        }
      ]
    },
    {
      "cell_type": "markdown",
      "source": [
        "### Predecir con el modelo"
      ],
      "metadata": {
        "id": "iM2pWTg9DirZ"
      }
    },
    {
      "cell_type": "code",
      "source": [
        "X1 = loadtxt(\"casosnuevosiris.csv\", delimiter=\",\")"
      ],
      "metadata": {
        "id": "bGlE845jDm8R"
      },
      "execution_count": 11,
      "outputs": []
    },
    {
      "cell_type": "code",
      "source": [
        "prediccion = modelo.predict(X1)\n",
        "prediccion"
      ],
      "metadata": {
        "colab": {
          "base_uri": "https://localhost:8080/"
        },
        "id": "egMcEABkDwzq",
        "outputId": "77b0c9cc-9c42-47d4-97e6-39790f06c7fd"
      },
      "execution_count": 12,
      "outputs": [
        {
          "output_type": "execute_result",
          "data": {
            "text/plain": [
              "array([[9.9799901e-01, 2.0009589e-03, 2.3204554e-09],\n",
              "       [9.8849458e-01, 1.1505185e-02, 2.3572738e-07],\n",
              "       [3.1428057e-04, 9.9683040e-01, 2.8552834e-03],\n",
              "       [3.3076355e-04, 9.9246299e-01, 7.2061471e-03],\n",
              "       [1.1351455e-04, 9.7864997e-01, 2.1236541e-02],\n",
              "       [1.5867334e-07, 1.7492222e-02, 9.8250765e-01],\n",
              "       [9.3347444e-07, 7.5537011e-02, 9.2446208e-01],\n",
              "       [1.3560877e-08, 1.3100332e-02, 9.8689967e-01]], dtype=float32)"
            ]
          },
          "metadata": {},
          "execution_count": 12
        }
      ]
    }
  ]
}