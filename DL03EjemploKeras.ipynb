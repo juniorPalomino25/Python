{
  "nbformat": 4,
  "nbformat_minor": 0,
  "metadata": {
    "colab": {
      "name": "DL03EjemploKeras.ipynb",
      "provenance": [],
      "include_colab_link": true
    },
    "kernelspec": {
      "name": "python3",
      "display_name": "Python 3"
    },
    "language_info": {
      "name": "python"
    }
  },
  "cells": [
    {
      "cell_type": "markdown",
      "metadata": {
        "id": "view-in-github",
        "colab_type": "text"
      },
      "source": [
        "<a href=\"https://colab.research.google.com/github/juniorPalomino25/Python/blob/main/DL03EjemploKeras.ipynb\" target=\"_parent\"><img src=\"https://colab.research.google.com/assets/colab-badge.svg\" alt=\"Open In Colab\"/></a>"
      ]
    },
    {
      "cell_type": "markdown",
      "metadata": {
        "id": "uoNRb596D3Vt"
      },
      "source": [
        "# Ejemplo de red neuronal con Keras"
      ]
    },
    {
      "cell_type": "code",
      "metadata": {
        "id": "fmFh3vlPDfko"
      },
      "source": [
        "from numpy import loadtxt\n",
        "from keras.models import Sequential\n",
        "from keras.layers import Dense"
      ],
      "execution_count": 1,
      "outputs": []
    },
    {
      "cell_type": "markdown",
      "metadata": {
        "id": "VxJOgMWREdPQ"
      },
      "source": [
        "Cargar el conjunto de datos"
      ]
    },
    {
      "cell_type": "code",
      "metadata": {
        "id": "MbA6vfLkFKGV"
      },
      "source": [
        "datos = loadtxt('pima-indians-diabetes.csv',delimiter=',')"
      ],
      "execution_count": 2,
      "outputs": []
    },
    {
      "cell_type": "markdown",
      "metadata": {
        "id": "rMBry9rIF09t"
      },
      "source": [
        "Dividir en datos de entrada (X) y de salida (y)"
      ]
    },
    {
      "cell_type": "code",
      "metadata": {
        "id": "h2MOCaNyGA0E"
      },
      "source": [
        "X = datos[:,0:8]\n",
        "y = datos[:,8]"
      ],
      "execution_count": 3,
      "outputs": []
    },
    {
      "cell_type": "markdown",
      "metadata": {
        "id": "akub2BvYGstr"
      },
      "source": [
        "Definir el modelo con keras"
      ]
    },
    {
      "cell_type": "code",
      "metadata": {
        "id": "GwgpxllxGxL_"
      },
      "source": [
        "modelo = Sequential()"
      ],
      "execution_count": 5,
      "outputs": []
    },
    {
      "cell_type": "code",
      "metadata": {
        "id": "qmzRnoL4GbB8"
      },
      "source": [
        "modelo.add(Dense(12,input_dim=8,activation='relu'))\n",
        "modelo.add(Dense(8,activation='relu'))\n",
        "modelo.add(Dense(1,activation='sigmoid'))"
      ],
      "execution_count": 6,
      "outputs": []
    },
    {
      "cell_type": "markdown",
      "metadata": {
        "id": "TvLX1iXtLa21"
      },
      "source": [
        "Compilar el modelo keras"
      ]
    },
    {
      "cell_type": "code",
      "metadata": {
        "id": "5-OyMGkiLVSo"
      },
      "source": [
        "modelo.compile(loss='binary_crossentropy',optimizer='adam',metrics=['accuracy'])"
      ],
      "execution_count": 7,
      "outputs": []
    },
    {
      "cell_type": "markdown",
      "metadata": {
        "id": "sC9uWMMxMGVW"
      },
      "source": [
        "Entrenar el modelo con el conjunto de datos"
      ]
    },
    {
      "cell_type": "code",
      "metadata": {
        "colab": {
          "base_uri": "https://localhost:8080/"
        },
        "id": "QWFc8xF2MO39",
        "outputId": "ee3d5dcd-a9cd-48f1-be34-b3ea20f447f0"
      },
      "source": [
        "modelo.fit(X,y,epochs=150,batch_size=16)"
      ],
      "execution_count": 8,
      "outputs": [
        {
          "output_type": "stream",
          "name": "stdout",
          "text": [
            "Epoch 1/150\n",
            "48/48 [==============================] - 1s 2ms/step - loss: 2.6836 - accuracy: 0.6198\n",
            "Epoch 2/150\n",
            "48/48 [==============================] - 0s 2ms/step - loss: 0.9672 - accuracy: 0.6602\n",
            "Epoch 3/150\n",
            "48/48 [==============================] - 0s 2ms/step - loss: 0.8220 - accuracy: 0.6602\n",
            "Epoch 4/150\n",
            "48/48 [==============================] - 0s 2ms/step - loss: 0.7600 - accuracy: 0.6380\n",
            "Epoch 5/150\n",
            "48/48 [==============================] - 0s 2ms/step - loss: 0.7300 - accuracy: 0.6211\n",
            "Epoch 6/150\n",
            "48/48 [==============================] - 0s 2ms/step - loss: 0.6955 - accuracy: 0.6432\n",
            "Epoch 7/150\n",
            "48/48 [==============================] - 0s 2ms/step - loss: 0.6845 - accuracy: 0.6393\n",
            "Epoch 8/150\n",
            "48/48 [==============================] - 0s 2ms/step - loss: 0.6626 - accuracy: 0.6393\n",
            "Epoch 9/150\n",
            "48/48 [==============================] - 0s 2ms/step - loss: 0.6515 - accuracy: 0.6523\n",
            "Epoch 10/150\n",
            "48/48 [==============================] - 0s 2ms/step - loss: 0.6412 - accuracy: 0.6654\n",
            "Epoch 11/150\n",
            "48/48 [==============================] - 0s 2ms/step - loss: 0.6320 - accuracy: 0.6615\n",
            "Epoch 12/150\n",
            "48/48 [==============================] - 0s 2ms/step - loss: 0.6264 - accuracy: 0.6732\n",
            "Epoch 13/150\n",
            "48/48 [==============================] - 0s 2ms/step - loss: 0.6270 - accuracy: 0.6615\n",
            "Epoch 14/150\n",
            "48/48 [==============================] - 0s 2ms/step - loss: 0.6134 - accuracy: 0.6810\n",
            "Epoch 15/150\n",
            "48/48 [==============================] - 0s 2ms/step - loss: 0.6157 - accuracy: 0.6836\n",
            "Epoch 16/150\n",
            "48/48 [==============================] - 0s 2ms/step - loss: 0.6253 - accuracy: 0.6732\n",
            "Epoch 17/150\n",
            "48/48 [==============================] - 0s 2ms/step - loss: 0.6111 - accuracy: 0.6628\n",
            "Epoch 18/150\n",
            "48/48 [==============================] - 0s 2ms/step - loss: 0.6083 - accuracy: 0.6862\n",
            "Epoch 19/150\n",
            "48/48 [==============================] - 0s 2ms/step - loss: 0.6014 - accuracy: 0.6914\n",
            "Epoch 20/150\n",
            "48/48 [==============================] - 0s 2ms/step - loss: 0.5970 - accuracy: 0.6901\n",
            "Epoch 21/150\n",
            "48/48 [==============================] - 0s 2ms/step - loss: 0.5958 - accuracy: 0.7031\n",
            "Epoch 22/150\n",
            "48/48 [==============================] - 0s 2ms/step - loss: 0.6000 - accuracy: 0.6966\n",
            "Epoch 23/150\n",
            "48/48 [==============================] - 0s 2ms/step - loss: 0.5950 - accuracy: 0.6966\n",
            "Epoch 24/150\n",
            "48/48 [==============================] - 0s 2ms/step - loss: 0.5920 - accuracy: 0.7109\n",
            "Epoch 25/150\n",
            "48/48 [==============================] - 0s 2ms/step - loss: 0.5910 - accuracy: 0.7018\n",
            "Epoch 26/150\n",
            "48/48 [==============================] - 0s 2ms/step - loss: 0.5970 - accuracy: 0.6940\n",
            "Epoch 27/150\n",
            "48/48 [==============================] - 0s 2ms/step - loss: 0.5899 - accuracy: 0.7083\n",
            "Epoch 28/150\n",
            "48/48 [==============================] - 0s 2ms/step - loss: 0.5863 - accuracy: 0.7057\n",
            "Epoch 29/150\n",
            "48/48 [==============================] - 0s 2ms/step - loss: 0.5837 - accuracy: 0.7031\n",
            "Epoch 30/150\n",
            "48/48 [==============================] - 0s 2ms/step - loss: 0.5832 - accuracy: 0.7227\n",
            "Epoch 31/150\n",
            "48/48 [==============================] - 0s 2ms/step - loss: 0.5808 - accuracy: 0.7188\n",
            "Epoch 32/150\n",
            "48/48 [==============================] - 0s 2ms/step - loss: 0.5873 - accuracy: 0.7122\n",
            "Epoch 33/150\n",
            "48/48 [==============================] - 0s 2ms/step - loss: 0.5827 - accuracy: 0.7044\n",
            "Epoch 34/150\n",
            "48/48 [==============================] - 0s 2ms/step - loss: 0.5778 - accuracy: 0.7070\n",
            "Epoch 35/150\n",
            "48/48 [==============================] - 0s 2ms/step - loss: 0.5855 - accuracy: 0.7109\n",
            "Epoch 36/150\n",
            "48/48 [==============================] - 0s 2ms/step - loss: 0.5741 - accuracy: 0.7122\n",
            "Epoch 37/150\n",
            "48/48 [==============================] - 0s 2ms/step - loss: 0.5770 - accuracy: 0.7266\n",
            "Epoch 38/150\n",
            "48/48 [==============================] - 0s 2ms/step - loss: 0.5727 - accuracy: 0.7148\n",
            "Epoch 39/150\n",
            "48/48 [==============================] - 0s 2ms/step - loss: 0.5768 - accuracy: 0.7096\n",
            "Epoch 40/150\n",
            "48/48 [==============================] - 0s 2ms/step - loss: 0.5734 - accuracy: 0.7227\n",
            "Epoch 41/150\n",
            "48/48 [==============================] - 0s 2ms/step - loss: 0.5706 - accuracy: 0.7253\n",
            "Epoch 42/150\n",
            "48/48 [==============================] - 0s 2ms/step - loss: 0.5696 - accuracy: 0.7214\n",
            "Epoch 43/150\n",
            "48/48 [==============================] - 0s 2ms/step - loss: 0.5703 - accuracy: 0.7135\n",
            "Epoch 44/150\n",
            "48/48 [==============================] - 0s 2ms/step - loss: 0.5734 - accuracy: 0.7383\n",
            "Epoch 45/150\n",
            "48/48 [==============================] - 0s 2ms/step - loss: 0.5673 - accuracy: 0.7148\n",
            "Epoch 46/150\n",
            "48/48 [==============================] - 0s 2ms/step - loss: 0.5612 - accuracy: 0.7227\n",
            "Epoch 47/150\n",
            "48/48 [==============================] - 0s 2ms/step - loss: 0.5598 - accuracy: 0.7266\n",
            "Epoch 48/150\n",
            "48/48 [==============================] - 0s 2ms/step - loss: 0.5645 - accuracy: 0.7227\n",
            "Epoch 49/150\n",
            "48/48 [==============================] - 0s 2ms/step - loss: 0.5635 - accuracy: 0.7188\n",
            "Epoch 50/150\n",
            "48/48 [==============================] - 0s 2ms/step - loss: 0.5583 - accuracy: 0.7357\n",
            "Epoch 51/150\n",
            "48/48 [==============================] - 0s 2ms/step - loss: 0.5637 - accuracy: 0.7135\n",
            "Epoch 52/150\n",
            "48/48 [==============================] - 0s 2ms/step - loss: 0.5645 - accuracy: 0.7031\n",
            "Epoch 53/150\n",
            "48/48 [==============================] - 0s 2ms/step - loss: 0.5568 - accuracy: 0.7266\n",
            "Epoch 54/150\n",
            "48/48 [==============================] - 0s 2ms/step - loss: 0.5553 - accuracy: 0.7214\n",
            "Epoch 55/150\n",
            "48/48 [==============================] - 0s 2ms/step - loss: 0.5536 - accuracy: 0.7279\n",
            "Epoch 56/150\n",
            "48/48 [==============================] - 0s 2ms/step - loss: 0.5546 - accuracy: 0.7201\n",
            "Epoch 57/150\n",
            "48/48 [==============================] - 0s 2ms/step - loss: 0.5522 - accuracy: 0.7240\n",
            "Epoch 58/150\n",
            "48/48 [==============================] - 0s 2ms/step - loss: 0.5485 - accuracy: 0.7214\n",
            "Epoch 59/150\n",
            "48/48 [==============================] - 0s 2ms/step - loss: 0.5483 - accuracy: 0.7305\n",
            "Epoch 60/150\n",
            "48/48 [==============================] - 0s 2ms/step - loss: 0.5469 - accuracy: 0.7409\n",
            "Epoch 61/150\n",
            "48/48 [==============================] - 0s 2ms/step - loss: 0.5472 - accuracy: 0.7214\n",
            "Epoch 62/150\n",
            "48/48 [==============================] - 0s 2ms/step - loss: 0.5469 - accuracy: 0.7318\n",
            "Epoch 63/150\n",
            "48/48 [==============================] - 0s 2ms/step - loss: 0.5557 - accuracy: 0.7305\n",
            "Epoch 64/150\n",
            "48/48 [==============================] - 0s 2ms/step - loss: 0.5557 - accuracy: 0.7148\n",
            "Epoch 65/150\n",
            "48/48 [==============================] - 0s 2ms/step - loss: 0.5486 - accuracy: 0.7396\n",
            "Epoch 66/150\n",
            "48/48 [==============================] - 0s 2ms/step - loss: 0.5456 - accuracy: 0.7331\n",
            "Epoch 67/150\n",
            "48/48 [==============================] - 0s 2ms/step - loss: 0.5434 - accuracy: 0.7422\n",
            "Epoch 68/150\n",
            "48/48 [==============================] - 0s 2ms/step - loss: 0.5438 - accuracy: 0.7422\n",
            "Epoch 69/150\n",
            "48/48 [==============================] - 0s 2ms/step - loss: 0.5371 - accuracy: 0.7500\n",
            "Epoch 70/150\n",
            "48/48 [==============================] - 0s 2ms/step - loss: 0.5499 - accuracy: 0.7305\n",
            "Epoch 71/150\n",
            "48/48 [==============================] - 0s 2ms/step - loss: 0.5422 - accuracy: 0.7370\n",
            "Epoch 72/150\n",
            "48/48 [==============================] - 0s 2ms/step - loss: 0.5382 - accuracy: 0.7448\n",
            "Epoch 73/150\n",
            "48/48 [==============================] - 0s 2ms/step - loss: 0.5369 - accuracy: 0.7396\n",
            "Epoch 74/150\n",
            "48/48 [==============================] - 0s 2ms/step - loss: 0.5412 - accuracy: 0.7305\n",
            "Epoch 75/150\n",
            "48/48 [==============================] - 0s 2ms/step - loss: 0.5426 - accuracy: 0.7253\n",
            "Epoch 76/150\n",
            "48/48 [==============================] - 0s 2ms/step - loss: 0.5343 - accuracy: 0.7396\n",
            "Epoch 77/150\n",
            "48/48 [==============================] - 0s 2ms/step - loss: 0.5345 - accuracy: 0.7513\n",
            "Epoch 78/150\n",
            "48/48 [==============================] - 0s 2ms/step - loss: 0.5426 - accuracy: 0.7240\n",
            "Epoch 79/150\n",
            "48/48 [==============================] - 0s 2ms/step - loss: 0.5391 - accuracy: 0.7409\n",
            "Epoch 80/150\n",
            "48/48 [==============================] - 0s 2ms/step - loss: 0.5377 - accuracy: 0.7344\n",
            "Epoch 81/150\n",
            "48/48 [==============================] - 0s 2ms/step - loss: 0.5295 - accuracy: 0.7565\n",
            "Epoch 82/150\n",
            "48/48 [==============================] - 0s 2ms/step - loss: 0.5356 - accuracy: 0.7318\n",
            "Epoch 83/150\n",
            "48/48 [==============================] - 0s 2ms/step - loss: 0.5353 - accuracy: 0.7370\n",
            "Epoch 84/150\n",
            "48/48 [==============================] - 0s 2ms/step - loss: 0.5322 - accuracy: 0.7396\n",
            "Epoch 85/150\n",
            "48/48 [==============================] - 0s 2ms/step - loss: 0.5294 - accuracy: 0.7474\n",
            "Epoch 86/150\n",
            "48/48 [==============================] - 0s 2ms/step - loss: 0.5403 - accuracy: 0.7292\n",
            "Epoch 87/150\n",
            "48/48 [==============================] - 0s 2ms/step - loss: 0.5289 - accuracy: 0.7448\n",
            "Epoch 88/150\n",
            "48/48 [==============================] - 0s 2ms/step - loss: 0.5309 - accuracy: 0.7396\n",
            "Epoch 89/150\n",
            "48/48 [==============================] - 0s 2ms/step - loss: 0.5248 - accuracy: 0.7500\n",
            "Epoch 90/150\n",
            "48/48 [==============================] - 0s 2ms/step - loss: 0.5294 - accuracy: 0.7487\n",
            "Epoch 91/150\n",
            "48/48 [==============================] - 0s 2ms/step - loss: 0.5392 - accuracy: 0.7357\n",
            "Epoch 92/150\n",
            "48/48 [==============================] - 0s 2ms/step - loss: 0.5314 - accuracy: 0.7435\n",
            "Epoch 93/150\n",
            "48/48 [==============================] - 0s 2ms/step - loss: 0.5297 - accuracy: 0.7461\n",
            "Epoch 94/150\n",
            "48/48 [==============================] - 0s 2ms/step - loss: 0.5262 - accuracy: 0.7435\n",
            "Epoch 95/150\n",
            "48/48 [==============================] - 0s 2ms/step - loss: 0.5214 - accuracy: 0.7500\n",
            "Epoch 96/150\n",
            "48/48 [==============================] - 0s 2ms/step - loss: 0.5227 - accuracy: 0.7409\n",
            "Epoch 97/150\n",
            "48/48 [==============================] - 0s 2ms/step - loss: 0.5239 - accuracy: 0.7539\n",
            "Epoch 98/150\n",
            "48/48 [==============================] - 0s 2ms/step - loss: 0.5214 - accuracy: 0.7487\n",
            "Epoch 99/150\n",
            "48/48 [==============================] - 0s 2ms/step - loss: 0.5340 - accuracy: 0.7331\n",
            "Epoch 100/150\n",
            "48/48 [==============================] - 0s 2ms/step - loss: 0.5240 - accuracy: 0.7500\n",
            "Epoch 101/150\n",
            "48/48 [==============================] - 0s 2ms/step - loss: 0.5227 - accuracy: 0.7448\n",
            "Epoch 102/150\n",
            "48/48 [==============================] - 0s 2ms/step - loss: 0.5251 - accuracy: 0.7396\n",
            "Epoch 103/150\n",
            "48/48 [==============================] - 0s 2ms/step - loss: 0.5209 - accuracy: 0.7461\n",
            "Epoch 104/150\n",
            "48/48 [==============================] - 0s 2ms/step - loss: 0.5220 - accuracy: 0.7552\n",
            "Epoch 105/150\n",
            "48/48 [==============================] - 0s 2ms/step - loss: 0.5243 - accuracy: 0.7396\n",
            "Epoch 106/150\n",
            "48/48 [==============================] - 0s 2ms/step - loss: 0.5229 - accuracy: 0.7422\n",
            "Epoch 107/150\n",
            "48/48 [==============================] - 0s 2ms/step - loss: 0.5206 - accuracy: 0.7539\n",
            "Epoch 108/150\n",
            "48/48 [==============================] - 0s 2ms/step - loss: 0.5148 - accuracy: 0.7578\n",
            "Epoch 109/150\n",
            "48/48 [==============================] - 0s 2ms/step - loss: 0.5179 - accuracy: 0.7448\n",
            "Epoch 110/150\n",
            "48/48 [==============================] - 0s 2ms/step - loss: 0.5163 - accuracy: 0.7565\n",
            "Epoch 111/150\n",
            "48/48 [==============================] - 0s 2ms/step - loss: 0.5190 - accuracy: 0.7500\n",
            "Epoch 112/150\n",
            "48/48 [==============================] - 0s 2ms/step - loss: 0.5110 - accuracy: 0.7487\n",
            "Epoch 113/150\n",
            "48/48 [==============================] - 0s 2ms/step - loss: 0.5151 - accuracy: 0.7617\n",
            "Epoch 114/150\n",
            "48/48 [==============================] - 0s 2ms/step - loss: 0.5135 - accuracy: 0.7526\n",
            "Epoch 115/150\n",
            "48/48 [==============================] - 0s 2ms/step - loss: 0.5228 - accuracy: 0.7448\n",
            "Epoch 116/150\n",
            "48/48 [==============================] - 0s 2ms/step - loss: 0.5169 - accuracy: 0.7669\n",
            "Epoch 117/150\n",
            "48/48 [==============================] - 0s 2ms/step - loss: 0.5201 - accuracy: 0.7474\n",
            "Epoch 118/150\n",
            "48/48 [==============================] - 0s 2ms/step - loss: 0.5227 - accuracy: 0.7526\n",
            "Epoch 119/150\n",
            "48/48 [==============================] - 0s 2ms/step - loss: 0.5249 - accuracy: 0.7396\n",
            "Epoch 120/150\n",
            "48/48 [==============================] - 0s 2ms/step - loss: 0.5198 - accuracy: 0.7552\n",
            "Epoch 121/150\n",
            "48/48 [==============================] - 0s 2ms/step - loss: 0.5167 - accuracy: 0.7565\n",
            "Epoch 122/150\n",
            "48/48 [==============================] - 0s 2ms/step - loss: 0.5211 - accuracy: 0.7448\n",
            "Epoch 123/150\n",
            "48/48 [==============================] - 0s 2ms/step - loss: 0.5147 - accuracy: 0.7539\n",
            "Epoch 124/150\n",
            "48/48 [==============================] - 0s 2ms/step - loss: 0.5165 - accuracy: 0.7539\n",
            "Epoch 125/150\n",
            "48/48 [==============================] - 0s 2ms/step - loss: 0.5131 - accuracy: 0.7461\n",
            "Epoch 126/150\n",
            "48/48 [==============================] - 0s 2ms/step - loss: 0.5077 - accuracy: 0.7500\n",
            "Epoch 127/150\n",
            "48/48 [==============================] - 0s 2ms/step - loss: 0.5104 - accuracy: 0.7578\n",
            "Epoch 128/150\n",
            "48/48 [==============================] - 0s 2ms/step - loss: 0.5114 - accuracy: 0.7539\n",
            "Epoch 129/150\n",
            "48/48 [==============================] - 0s 2ms/step - loss: 0.5158 - accuracy: 0.7643\n",
            "Epoch 130/150\n",
            "48/48 [==============================] - 0s 2ms/step - loss: 0.5133 - accuracy: 0.7461\n",
            "Epoch 131/150\n",
            "48/48 [==============================] - 0s 3ms/step - loss: 0.5136 - accuracy: 0.7513\n",
            "Epoch 132/150\n",
            "48/48 [==============================] - 0s 3ms/step - loss: 0.5067 - accuracy: 0.7500\n",
            "Epoch 133/150\n",
            "48/48 [==============================] - 0s 5ms/step - loss: 0.5122 - accuracy: 0.7513\n",
            "Epoch 134/150\n",
            "48/48 [==============================] - 0s 3ms/step - loss: 0.5163 - accuracy: 0.7318\n",
            "Epoch 135/150\n",
            "48/48 [==============================] - 0s 2ms/step - loss: 0.5061 - accuracy: 0.7526\n",
            "Epoch 136/150\n",
            "48/48 [==============================] - 0s 4ms/step - loss: 0.5085 - accuracy: 0.7578\n",
            "Epoch 137/150\n",
            "48/48 [==============================] - 0s 3ms/step - loss: 0.5046 - accuracy: 0.7578\n",
            "Epoch 138/150\n",
            "48/48 [==============================] - 0s 5ms/step - loss: 0.5131 - accuracy: 0.7552\n",
            "Epoch 139/150\n",
            "48/48 [==============================] - 0s 5ms/step - loss: 0.5093 - accuracy: 0.7682\n",
            "Epoch 140/150\n",
            "48/48 [==============================] - 0s 7ms/step - loss: 0.5034 - accuracy: 0.7513\n",
            "Epoch 141/150\n",
            "48/48 [==============================] - 0s 5ms/step - loss: 0.5046 - accuracy: 0.7513\n",
            "Epoch 142/150\n",
            "48/48 [==============================] - 0s 5ms/step - loss: 0.5109 - accuracy: 0.7539\n",
            "Epoch 143/150\n",
            "48/48 [==============================] - 0s 6ms/step - loss: 0.5014 - accuracy: 0.7552\n",
            "Epoch 144/150\n",
            "48/48 [==============================] - 0s 5ms/step - loss: 0.5105 - accuracy: 0.7487\n",
            "Epoch 145/150\n",
            "48/48 [==============================] - 0s 5ms/step - loss: 0.5019 - accuracy: 0.7578\n",
            "Epoch 146/150\n",
            "48/48 [==============================] - 0s 3ms/step - loss: 0.4987 - accuracy: 0.7630\n",
            "Epoch 147/150\n",
            "48/48 [==============================] - 0s 2ms/step - loss: 0.5147 - accuracy: 0.7591\n",
            "Epoch 148/150\n",
            "48/48 [==============================] - 0s 2ms/step - loss: 0.4990 - accuracy: 0.7604\n",
            "Epoch 149/150\n",
            "48/48 [==============================] - 0s 2ms/step - loss: 0.5013 - accuracy: 0.7617\n",
            "Epoch 150/150\n",
            "48/48 [==============================] - 0s 2ms/step - loss: 0.5035 - accuracy: 0.7552\n"
          ]
        },
        {
          "output_type": "execute_result",
          "data": {
            "text/plain": [
              "<keras.callbacks.History at 0x7f6901b958d0>"
            ]
          },
          "metadata": {},
          "execution_count": 8
        }
      ]
    },
    {
      "cell_type": "markdown",
      "metadata": {
        "id": "y9ADkrz8M_Ql"
      },
      "source": [
        "Evaluar el modelo keras"
      ]
    },
    {
      "cell_type": "code",
      "metadata": {
        "colab": {
          "base_uri": "https://localhost:8080/"
        },
        "id": "AQhe4KzCL_nY",
        "outputId": "91dcf54b-d0eb-4e7d-e406-1493d5eacda8"
      },
      "source": [
        "_ , accuracy = modelo.evaluate(X,y)\n",
        "print('Exactitud (accuracy): %.2f' % (accuracy*100))"
      ],
      "execution_count": 9,
      "outputs": [
        {
          "output_type": "stream",
          "name": "stdout",
          "text": [
            "24/24 [==============================] - 0s 2ms/step - loss: 0.5079 - accuracy: 0.7448\n",
            "Exactitud (accuracy): 74.48\n"
          ]
        }
      ]
    }
  ]
}