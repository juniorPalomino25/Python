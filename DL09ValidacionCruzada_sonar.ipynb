{
  "nbformat": 4,
  "nbformat_minor": 0,
  "metadata": {
    "colab": {
      "name": "DL09ValidacionCruzada_sonar.ipynb",
      "provenance": [],
      "authorship_tag": "ABX9TyODSG1eaHCAK86/uAtww+qH",
      "include_colab_link": true
    },
    "kernelspec": {
      "name": "python3",
      "display_name": "Python 3"
    },
    "language_info": {
      "name": "python"
    }
  },
  "cells": [
    {
      "cell_type": "markdown",
      "metadata": {
        "id": "view-in-github",
        "colab_type": "text"
      },
      "source": [
        "<a href=\"https://colab.research.google.com/github/juniorPalomino25/Python/blob/main/DL09ValidacionCruzada_sonar.ipynb\" target=\"_parent\"><img src=\"https://colab.research.google.com/assets/colab-badge.svg\" alt=\"Open In Colab\"/></a>"
      ]
    },
    {
      "cell_type": "markdown",
      "source": [
        "# **Validación Cruzada con 10 fold (subconjuntos de validación)**"
      ],
      "metadata": {
        "id": "FfnUah24OzND"
      }
    },
    {
      "cell_type": "markdown",
      "source": [
        "### Importar librerías"
      ],
      "metadata": {
        "id": "o5LZLrwxO6HC"
      }
    },
    {
      "cell_type": "code",
      "execution_count": 1,
      "metadata": {
        "id": "h08WH5aXOm31"
      },
      "outputs": [],
      "source": [
        "from keras.models import Sequential\n",
        "from keras.layers import Dense\n",
        "from sklearn.model_selection import StratifiedKFold\n",
        "import numpy"
      ]
    },
    {
      "cell_type": "markdown",
      "source": [
        "Reemplazaremos el valor de R y M por 1 y 0 respectivamente"
      ],
      "metadata": {
        "id": "8BkkDAxMPCO6"
      }
    },
    {
      "cell_type": "markdown",
      "source": [
        "### Cargar los datos"
      ],
      "metadata": {
        "id": "k60g-o7dPDSK"
      }
    },
    {
      "cell_type": "code",
      "source": [
        "datos = numpy.loadtxt(\"sonar_transformado_R_M.txt\",delimiter=\",\")"
      ],
      "metadata": {
        "id": "WsVb32AoPHkK"
      },
      "execution_count": 2,
      "outputs": []
    },
    {
      "cell_type": "markdown",
      "source": [
        "Dividir la entrada (X) y la salida (y)"
      ],
      "metadata": {
        "id": "GAxmMwS8PMjC"
      }
    },
    {
      "cell_type": "code",
      "source": [
        "X = datos[:,0:60]"
      ],
      "metadata": {
        "id": "pS4A_lewPOIZ"
      },
      "execution_count": 3,
      "outputs": []
    },
    {
      "cell_type": "code",
      "source": [
        "y = datos[:,60]"
      ],
      "metadata": {
        "id": "ExDL47AZPQcR"
      },
      "execution_count": 4,
      "outputs": []
    },
    {
      "cell_type": "markdown",
      "source": [
        "Define la prueba de validación cruzada 10-fold"
      ],
      "metadata": {
        "id": "_hWhOM7tPQNZ"
      }
    },
    {
      "cell_type": "code",
      "source": [
        "kfold = StratifiedKFold(n_splits=10,shuffle=True)"
      ],
      "metadata": {
        "id": "lGg6TfdKPWLq"
      },
      "execution_count": 5,
      "outputs": []
    },
    {
      "cell_type": "markdown",
      "source": [
        "Crear el modelo"
      ],
      "metadata": {
        "id": "bUupRWmnPKuR"
      }
    },
    {
      "cell_type": "code",
      "source": [
        "#puntuación (accuracy) con cada subconjunto de validación\n",
        "punt_vc = []\n",
        "for entr, prue in kfold.split(X,y):\n",
        "  modelo = Sequential()\n",
        "  modelo.add(Dense(12, input_dim=60, activation='relu'))\n",
        "  modelo.add(Dense(8,activation='relu'))\n",
        "  modelo.add(Dense(1,activation='sigmoid'))\n",
        "  modelo.compile(loss='binary_crossentropy',optimizer='adam', metrics=['accuracy'])\n",
        "  modelo.fit(X[entr], y[entr], epochs=150, batch_size=10, verbose=0)\n",
        "  punt = modelo.evaluate(X[prue], y[prue],verbose=0)\n",
        "  print(\"%s: %.2f%%\" % (modelo.metrics_names[1],punt[1]*100))\n",
        "  punt_vc.append(punt[1]*100)"
      ],
      "metadata": {
        "colab": {
          "base_uri": "https://localhost:8080/",
          "height": 0
        },
        "id": "mb8Kg1TDPa8a",
        "outputId": "24ce08ce-bf40-4683-92de-fe848a61f88e"
      },
      "execution_count": 9,
      "outputs": [
        {
          "output_type": "stream",
          "name": "stdout",
          "text": [
            "accuracy: 71.43%\n",
            "accuracy: 85.71%\n",
            "accuracy: 71.43%\n",
            "accuracy: 95.24%\n",
            "WARNING:tensorflow:5 out of the last 5 calls to <function Model.make_test_function.<locals>.test_function at 0x7f269adcf8c0> triggered tf.function retracing. Tracing is expensive and the excessive number of tracings could be due to (1) creating @tf.function repeatedly in a loop, (2) passing tensors with different shapes, (3) passing Python objects instead of tensors. For (1), please define your @tf.function outside of the loop. For (2), @tf.function has experimental_relax_shapes=True option that relaxes argument shapes that can avoid unnecessary retracing. For (3), please refer to https://www.tensorflow.org/guide/function#controlling_retracing and https://www.tensorflow.org/api_docs/python/tf/function for  more details.\n",
            "accuracy: 76.19%\n",
            "WARNING:tensorflow:6 out of the last 6 calls to <function Model.make_test_function.<locals>.test_function at 0x7f269afb0a70> triggered tf.function retracing. Tracing is expensive and the excessive number of tracings could be due to (1) creating @tf.function repeatedly in a loop, (2) passing tensors with different shapes, (3) passing Python objects instead of tensors. For (1), please define your @tf.function outside of the loop. For (2), @tf.function has experimental_relax_shapes=True option that relaxes argument shapes that can avoid unnecessary retracing. For (3), please refer to https://www.tensorflow.org/guide/function#controlling_retracing and https://www.tensorflow.org/api_docs/python/tf/function for  more details.\n",
            "accuracy: 90.48%\n",
            "accuracy: 61.90%\n",
            "accuracy: 66.67%\n",
            "accuracy: 70.00%\n",
            "accuracy: 75.00%\n"
          ]
        }
      ]
    },
    {
      "cell_type": "markdown",
      "source": [
        "Promedio y desviación estándar del accuracy"
      ],
      "metadata": {
        "id": "YTOS8w9jPe8R"
      }
    },
    {
      "cell_type": "code",
      "source": [
        "print(\"%.2f%% (+/-) %.2f%%\" % (numpy.mean(punt_vc),numpy.std(punt_vc)))"
      ],
      "metadata": {
        "colab": {
          "base_uri": "https://localhost:8080/",
          "height": 0
        },
        "id": "fIQqIoumPgN6",
        "outputId": "58529592-ac90-45d4-d266-6cb30c434763"
      },
      "execution_count": 10,
      "outputs": [
        {
          "output_type": "stream",
          "name": "stdout",
          "text": [
            "76.40% (+/-) 10.18%\n"
          ]
        }
      ]
    }
  ]
}