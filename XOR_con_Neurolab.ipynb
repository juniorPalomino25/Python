{
  "nbformat": 4,
  "nbformat_minor": 0,
  "metadata": {
    "colab": {
      "name": "XOR_con_Neurolab.ipynb",
      "provenance": [],
      "collapsed_sections": [],
      "include_colab_link": true
    },
    "kernelspec": {
      "name": "python3",
      "display_name": "Python 3"
    },
    "language_info": {
      "name": "python"
    }
  },
  "cells": [
    {
      "cell_type": "markdown",
      "metadata": {
        "id": "view-in-github",
        "colab_type": "text"
      },
      "source": [
        "<a href=\"https://colab.research.google.com/github/juniorPalomino25/Python/blob/main/XOR_con_Neurolab.ipynb\" target=\"_parent\"><img src=\"https://colab.research.google.com/assets/colab-badge.svg\" alt=\"Open In Colab\"/></a>"
      ]
    },
    {
      "cell_type": "code",
      "execution_count": 1,
      "metadata": {
        "colab": {
          "base_uri": "https://localhost:8080/",
          "height": 0
        },
        "id": "wDtgihkHHHX1",
        "outputId": "6466c3ba-1246-4246-ff78-0566115b3529"
      },
      "outputs": [
        {
          "output_type": "stream",
          "name": "stdout",
          "text": [
            "Collecting neurolab\n",
            "  Downloading neurolab-0.3.5.tar.gz (645 kB)\n",
            "\u001b[?25l\r\u001b[K     |▌                               | 10 kB 26.9 MB/s eta 0:00:01\r\u001b[K     |█                               | 20 kB 29.6 MB/s eta 0:00:01\r\u001b[K     |█▌                              | 30 kB 17.8 MB/s eta 0:00:01\r\u001b[K     |██                              | 40 kB 6.7 MB/s eta 0:00:01\r\u001b[K     |██▌                             | 51 kB 6.7 MB/s eta 0:00:01\r\u001b[K     |███                             | 61 kB 7.9 MB/s eta 0:00:01\r\u001b[K     |███▌                            | 71 kB 7.7 MB/s eta 0:00:01\r\u001b[K     |████                            | 81 kB 5.9 MB/s eta 0:00:01\r\u001b[K     |████▋                           | 92 kB 6.6 MB/s eta 0:00:01\r\u001b[K     |█████                           | 102 kB 7.2 MB/s eta 0:00:01\r\u001b[K     |█████▋                          | 112 kB 7.2 MB/s eta 0:00:01\r\u001b[K     |██████                          | 122 kB 7.2 MB/s eta 0:00:01\r\u001b[K     |██████▋                         | 133 kB 7.2 MB/s eta 0:00:01\r\u001b[K     |███████                         | 143 kB 7.2 MB/s eta 0:00:01\r\u001b[K     |███████▋                        | 153 kB 7.2 MB/s eta 0:00:01\r\u001b[K     |████████▏                       | 163 kB 7.2 MB/s eta 0:00:01\r\u001b[K     |████████▋                       | 174 kB 7.2 MB/s eta 0:00:01\r\u001b[K     |█████████▏                      | 184 kB 7.2 MB/s eta 0:00:01\r\u001b[K     |█████████▋                      | 194 kB 7.2 MB/s eta 0:00:01\r\u001b[K     |██████████▏                     | 204 kB 7.2 MB/s eta 0:00:01\r\u001b[K     |██████████▋                     | 215 kB 7.2 MB/s eta 0:00:01\r\u001b[K     |███████████▏                    | 225 kB 7.2 MB/s eta 0:00:01\r\u001b[K     |███████████▊                    | 235 kB 7.2 MB/s eta 0:00:01\r\u001b[K     |████████████▏                   | 245 kB 7.2 MB/s eta 0:00:01\r\u001b[K     |████████████▊                   | 256 kB 7.2 MB/s eta 0:00:01\r\u001b[K     |█████████████▏                  | 266 kB 7.2 MB/s eta 0:00:01\r\u001b[K     |█████████████▊                  | 276 kB 7.2 MB/s eta 0:00:01\r\u001b[K     |██████████████▏                 | 286 kB 7.2 MB/s eta 0:00:01\r\u001b[K     |██████████████▊                 | 296 kB 7.2 MB/s eta 0:00:01\r\u001b[K     |███████████████▎                | 307 kB 7.2 MB/s eta 0:00:01\r\u001b[K     |███████████████▊                | 317 kB 7.2 MB/s eta 0:00:01\r\u001b[K     |████████████████▎               | 327 kB 7.2 MB/s eta 0:00:01\r\u001b[K     |████████████████▊               | 337 kB 7.2 MB/s eta 0:00:01\r\u001b[K     |█████████████████▎              | 348 kB 7.2 MB/s eta 0:00:01\r\u001b[K     |█████████████████▊              | 358 kB 7.2 MB/s eta 0:00:01\r\u001b[K     |██████████████████▎             | 368 kB 7.2 MB/s eta 0:00:01\r\u001b[K     |██████████████████▉             | 378 kB 7.2 MB/s eta 0:00:01\r\u001b[K     |███████████████████▎            | 389 kB 7.2 MB/s eta 0:00:01\r\u001b[K     |███████████████████▉            | 399 kB 7.2 MB/s eta 0:00:01\r\u001b[K     |████████████████████▎           | 409 kB 7.2 MB/s eta 0:00:01\r\u001b[K     |████████████████████▉           | 419 kB 7.2 MB/s eta 0:00:01\r\u001b[K     |█████████████████████▎          | 430 kB 7.2 MB/s eta 0:00:01\r\u001b[K     |█████████████████████▉          | 440 kB 7.2 MB/s eta 0:00:01\r\u001b[K     |██████████████████████▍         | 450 kB 7.2 MB/s eta 0:00:01\r\u001b[K     |██████████████████████▉         | 460 kB 7.2 MB/s eta 0:00:01\r\u001b[K     |███████████████████████▍        | 471 kB 7.2 MB/s eta 0:00:01\r\u001b[K     |███████████████████████▉        | 481 kB 7.2 MB/s eta 0:00:01\r\u001b[K     |████████████████████████▍       | 491 kB 7.2 MB/s eta 0:00:01\r\u001b[K     |████████████████████████▉       | 501 kB 7.2 MB/s eta 0:00:01\r\u001b[K     |█████████████████████████▍      | 512 kB 7.2 MB/s eta 0:00:01\r\u001b[K     |██████████████████████████      | 522 kB 7.2 MB/s eta 0:00:01\r\u001b[K     |██████████████████████████▍     | 532 kB 7.2 MB/s eta 0:00:01\r\u001b[K     |███████████████████████████     | 542 kB 7.2 MB/s eta 0:00:01\r\u001b[K     |███████████████████████████▍    | 552 kB 7.2 MB/s eta 0:00:01\r\u001b[K     |████████████████████████████    | 563 kB 7.2 MB/s eta 0:00:01\r\u001b[K     |████████████████████████████▍   | 573 kB 7.2 MB/s eta 0:00:01\r\u001b[K     |█████████████████████████████   | 583 kB 7.2 MB/s eta 0:00:01\r\u001b[K     |█████████████████████████████▌  | 593 kB 7.2 MB/s eta 0:00:01\r\u001b[K     |██████████████████████████████  | 604 kB 7.2 MB/s eta 0:00:01\r\u001b[K     |██████████████████████████████▌ | 614 kB 7.2 MB/s eta 0:00:01\r\u001b[K     |███████████████████████████████ | 624 kB 7.2 MB/s eta 0:00:01\r\u001b[K     |███████████████████████████████▌| 634 kB 7.2 MB/s eta 0:00:01\r\u001b[K     |████████████████████████████████| 645 kB 7.2 MB/s eta 0:00:01\r\u001b[K     |████████████████████████████████| 645 kB 7.2 MB/s \n",
            "\u001b[?25hBuilding wheels for collected packages: neurolab\n",
            "  Building wheel for neurolab (setup.py) ... \u001b[?25l\u001b[?25hdone\n",
            "  Created wheel for neurolab: filename=neurolab-0.3.5-py3-none-any.whl size=22180 sha256=dc613480a1a2407a58f5f6830365210a774fcdf2a194134f7d94e1f7e8e0e65e\n",
            "  Stored in directory: /root/.cache/pip/wheels/3e/07/63/e3d6e066089d7186465184a6f9a1884471485f38beef1edeaa\n",
            "Successfully built neurolab\n",
            "Installing collected packages: neurolab\n",
            "Successfully installed neurolab-0.3.5\n"
          ]
        }
      ],
      "source": [
        "!pip install neurolab"
      ]
    },
    {
      "cell_type": "code",
      "source": [
        "import numpy as np\n",
        "import matplotlib.pyplot as plt\n",
        "import neurolab as nl"
      ],
      "metadata": {
        "id": "H-RIL6nIHQ-c"
      },
      "execution_count": 2,
      "outputs": []
    },
    {
      "cell_type": "code",
      "source": [
        "data = np.loadtxt('DataXOR.txt')\n",
        "print(data)"
      ],
      "metadata": {
        "colab": {
          "base_uri": "https://localhost:8080/",
          "height": 0
        },
        "id": "oDiszZoyHTiL",
        "outputId": "6b905da3-f93c-427a-910d-c9c30f9c036e"
      },
      "execution_count": 3,
      "outputs": [
        {
          "output_type": "stream",
          "name": "stdout",
          "text": [
            "[[0. 0. 0.]\n",
            " [0. 1. 1.]\n",
            " [1. 0. 1.]\n",
            " [1. 1. 0.]]\n"
          ]
        }
      ]
    },
    {
      "cell_type": "code",
      "source": [
        "data.shape"
      ],
      "metadata": {
        "colab": {
          "base_uri": "https://localhost:8080/",
          "height": 0
        },
        "id": "xYIeWRPhHaYb",
        "outputId": "f2c764d5-95dc-4569-89a9-b0e228400d8e"
      },
      "execution_count": 4,
      "outputs": [
        {
          "output_type": "execute_result",
          "data": {
            "text/plain": [
              "(4, 3)"
            ]
          },
          "metadata": {},
          "execution_count": 4
        }
      ]
    },
    {
      "cell_type": "code",
      "source": [
        "#Entrada\n",
        "X = data[:,0:2]\n",
        "print(X)"
      ],
      "metadata": {
        "colab": {
          "base_uri": "https://localhost:8080/",
          "height": 0
        },
        "id": "fO3PZlh4HcQb",
        "outputId": "52e75781-b204-49ec-d839-9d1070b52fbc"
      },
      "execution_count": 5,
      "outputs": [
        {
          "output_type": "stream",
          "name": "stdout",
          "text": [
            "[[0. 0.]\n",
            " [0. 1.]\n",
            " [1. 0.]\n",
            " [1. 1.]]\n"
          ]
        }
      ]
    },
    {
      "cell_type": "code",
      "source": [
        "#Salida\n",
        "y = data[:,2:]\n",
        "print(y)"
      ],
      "metadata": {
        "colab": {
          "base_uri": "https://localhost:8080/",
          "height": 0
        },
        "id": "lJsk7EhGHhBk",
        "outputId": "3b856f1d-4bd7-4dd2-d430-8e3b3f3e333d"
      },
      "execution_count": 6,
      "outputs": [
        {
          "output_type": "stream",
          "name": "stdout",
          "text": [
            "[[0.]\n",
            " [1.]\n",
            " [1.]\n",
            " [0.]]\n"
          ]
        }
      ]
    },
    {
      "cell_type": "code",
      "source": [
        "#Gráficos de data\n",
        "plt.figure()\n",
        "plt.scatter(data[:,0],data[:,1])\n",
        "plt.xlabel('X1')\n",
        "plt.ylabel('X2')\n",
        "plt.title('Datos de Entrada')"
      ],
      "metadata": {
        "colab": {
          "base_uri": "https://localhost:8080/",
          "height": 312
        },
        "id": "7AoaoMVzHjk7",
        "outputId": "b1070a43-5592-419d-987d-c39831d85fe4"
      },
      "execution_count": 7,
      "outputs": [
        {
          "output_type": "execute_result",
          "data": {
            "text/plain": [
              "Text(0.5, 1.0, 'Datos de Entrada')"
            ]
          },
          "metadata": {},
          "execution_count": 7
        },
        {
          "output_type": "display_data",
          "data": {
            "text/plain": [
              "<Figure size 432x288 with 1 Axes>"
            ],
            "image/png": "[encoded data removed]"
          },
          "metadata": {
            "needs_background": "light"
          }
        }
      ]
    },
    {
      "cell_type": "code",
      "source": [
        "x1_min, x1_max = data[:,0].min(), data[:,0].max()"
      ],
      "metadata": {
        "id": "qs0DM65lHmmL"
      },
      "execution_count": 8,
      "outputs": []
    },
    {
      "cell_type": "code",
      "source": [
        "x2_min, x2_max = data[:,1].min(), data[:,1].max()"
      ],
      "metadata": {
        "id": "PwLOHP_xHpwD"
      },
      "execution_count": 9,
      "outputs": []
    },
    {
      "cell_type": "code",
      "source": [
        "print(x1_min,x1_max,x2_min,x2_max)"
      ],
      "metadata": {
        "colab": {
          "base_uri": "https://localhost:8080/",
          "height": 0
        },
        "id": "4pI6Q_sJHsq6",
        "outputId": "4b6690f3-ecbb-40fa-b43a-bf6c3b1541ec"
      },
      "execution_count": 10,
      "outputs": [
        {
          "output_type": "stream",
          "name": "stdout",
          "text": [
            "0.0 1.0 0.0 1.0\n"
          ]
        }
      ]
    },
    {
      "cell_type": "code",
      "source": [
        "num_salidas = y.shape[1]\n",
        "print(num_salidas)"
      ],
      "metadata": {
        "colab": {
          "base_uri": "https://localhost:8080/",
          "height": 0
        },
        "id": "Jg7U_R2mHvBz",
        "outputId": "a8598967-8ced-4deb-e6a7-310cdf6c0a45"
      },
      "execution_count": 11,
      "outputs": [
        {
          "output_type": "stream",
          "name": "stdout",
          "text": [
            "1\n"
          ]
        }
      ]
    },
    {
      "cell_type": "markdown",
      "source": [
        "###Definir una red multicapa con 2 neuronas en la capa de entrada y 1 de salida. La capa oculta tiene 10 neuronas"
      ],
      "metadata": {
        "id": "TKsXAhUPdXF9"
      }
    },
    {
      "cell_type": "code",
      "source": [
        "x1 = [x1_min,x1_max]\n",
        "x2 = [x2_min,x2_max]\n",
        "multicapa = nl.net.newff([x1,x2],[10,1])"
      ],
      "metadata": {
        "id": "u-SL-oy_IH11"
      },
      "execution_count": 12,
      "outputs": []
    },
    {
      "cell_type": "code",
      "source": [
        "multicapa.trainf = nl.train.train_gd"
      ],
      "metadata": {
        "id": "srSxF2TCeWBl"
      },
      "execution_count": 13,
      "outputs": []
    },
    {
      "cell_type": "markdown",
      "source": [
        "###Entrenar la red multicapa usando la data"
      ],
      "metadata": {
        "id": "P3KwkG6zd8MW"
      }
    },
    {
      "cell_type": "code",
      "source": [
        "progreso_error = multicapa.train(X,y,epochs=1000,show=20,goal=0.01)"
      ],
      "metadata": {
        "colab": {
          "base_uri": "https://localhost:8080/",
          "height": 0
        },
        "id": "Mu_riLp0IJAb",
        "outputId": "7a08a35b-0236-487e-f458-23f7d238716a"
      },
      "execution_count": 14,
      "outputs": [
        {
          "output_type": "stream",
          "name": "stdout",
          "text": [
            "Epoch: 20; Error: 0.9016931600516509;\n",
            "Epoch: 40; Error: 0.8127055622799113;\n",
            "Epoch: 60; Error: 0.6037394991265801;\n",
            "Epoch: 80; Error: 0.474553563422125;\n",
            "Epoch: 100; Error: 0.3996436146804134;\n",
            "Epoch: 120; Error: 0.2751132742880631;\n",
            "Epoch: 140; Error: 0.1693473560780938;\n",
            "Epoch: 160; Error: 0.12254939834022964;\n",
            "Epoch: 180; Error: 0.09571817700022259;\n",
            "Epoch: 200; Error: 0.07803597130994509;\n",
            "Epoch: 220; Error: 0.0654149367132811;\n",
            "Epoch: 240; Error: 0.05593964079505516;\n",
            "Epoch: 260; Error: 0.04858298193566586;\n",
            "Epoch: 280; Error: 0.04273071391339871;\n",
            "Epoch: 300; Error: 0.037985748731235294;\n",
            "Epoch: 320; Error: 0.034077521352977876;\n",
            "Epoch: 340; Error: 0.03081481419131216;\n",
            "Epoch: 360; Error: 0.028058769903416596;\n",
            "Epoch: 380; Error: 0.025706357086298193;\n",
            "Epoch: 400; Error: 0.02367973626040585;\n",
            "Epoch: 420; Error: 0.021919174522241403;\n",
            "Epoch: 440; Error: 0.02037819487040027;\n",
            "Epoch: 460; Error: 0.019020181720346915;\n",
            "Epoch: 480; Error: 0.01781596096154322;\n",
            "Epoch: 500; Error: 0.016742046588409974;\n",
            "Epoch: 520; Error: 0.01577935178877809;\n",
            "Epoch: 540; Error: 0.014912228959131591;\n",
            "Epoch: 560; Error: 0.014127746077382135;\n",
            "Epoch: 580; Error: 0.013415135175056435;\n",
            "Epoch: 600; Error: 0.012765367650101065;\n",
            "Epoch: 620; Error: 0.012170824118321199;\n",
            "Epoch: 640; Error: 0.011625035466291967;\n",
            "Epoch: 660; Error: 0.011122478053823328;\n",
            "Epoch: 680; Error: 0.010658410474663288;\n",
            "Epoch: 700; Error: 0.010228742485818901;\n",
            "The goal of learning is reached\n"
          ]
        }
      ]
    },
    {
      "cell_type": "code",
      "source": [
        "plt.figure()\n",
        "plt.plot(progreso_error)\n",
        "plt.xlabel('Número de épocas')\n",
        "plt.ylabel('Error de entrenamiento')\n",
        "plt.title('Progreso de error de entrenamiento')\n",
        "plt.grid()"
      ],
      "metadata": {
        "colab": {
          "base_uri": "https://localhost:8080/",
          "height": 296
        },
        "id": "1Y4HYzdPIL1r",
        "outputId": "661e93dd-c952-4a28-f64e-4138c0888374"
      },
      "execution_count": 15,
      "outputs": [
        {
          "output_type": "display_data",
          "data": {
            "text/plain": [
              "<Figure size 432x288 with 1 Axes>"
            ],
            "image/png": "[encoded data removed]"
          },
          "metadata": {
            "needs_background": "light"
          }
        }
      ]
    },
    {
      "cell_type": "code",
      "source": [
        "print('\\nResultados de Prueba:')\n",
        "datos_prueba = [[1,0],[0,1],[0,0],[1,1]]\n",
        "for item in datos_prueba:\n",
        "  print(item, '==', np.round(multicapa.sim([item]),0))"
      ],
      "metadata": {
        "colab": {
          "base_uri": "https://localhost:8080/",
          "height": 0
        },
        "id": "zBfWif1jIO9L",
        "outputId": "f1907569-fec6-4592-96c4-5bcfa25984ea"
      },
      "execution_count": 17,
      "outputs": [
        {
          "output_type": "stream",
          "name": "stdout",
          "text": [
            "\n",
            "Resultados de Prueba:\n",
            "[1, 0] == [[1.]]\n",
            "[0, 1] == [[1.]]\n",
            "[0, 0] == [[0.]]\n",
            "[1, 1] == [[0.]]\n"
          ]
        }
      ]
    },
    {
      "cell_type": "code",
      "source": [
        "# Save network in file\n",
        "multicapa.save('xor_multicapa.net')\n",
        "# Load network\n",
        "# net = nl.load('test.net')"
      ],
      "metadata": {
        "id": "lGs6jSnuIxG1"
      },
      "execution_count": 18,
      "outputs": []
    }
  ]
}