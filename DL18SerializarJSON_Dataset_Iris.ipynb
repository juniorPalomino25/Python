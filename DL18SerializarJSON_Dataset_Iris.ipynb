{
  "nbformat": 4,
  "nbformat_minor": 0,
  "metadata": {
    "colab": {
      "name": "DL18SerializarJSON_Dataset_Iris.ipynb",
      "provenance": [],
      "authorship_tag": "ABX9TyNyN0wRfHVx1mwzfzpNLq1T",
      "include_colab_link": true
    },
    "kernelspec": {
      "name": "python3",
      "display_name": "Python 3"
    },
    "language_info": {
      "name": "python"
    }
  },
  "cells": [
    {
      "cell_type": "markdown",
      "metadata": {
        "id": "view-in-github",
        "colab_type": "text"
      },
      "source": [
        "<a href=\"https://colab.research.google.com/github/juniorPalomino25/Python/blob/main/DL18SerializarJSON_Dataset_Iris.ipynb\" target=\"_parent\"><img src=\"https://colab.research.google.com/assets/colab-badge.svg\" alt=\"Open In Colab\"/></a>"
      ]
    },
    {
      "cell_type": "markdown",
      "source": [
        "### **Cargar la estructura del modelo desde archivo JSON y los pesos desde archivo HDF5**"
      ],
      "metadata": {
        "id": "bZ5EEYWw2FG-"
      }
    },
    {
      "cell_type": "code",
      "execution_count": 1,
      "metadata": {
        "colab": {
          "base_uri": "https://localhost:8080/"
        },
        "id": "YR0VvQUi1-6v",
        "outputId": "860460f5-c1bf-4069-b3dd-3db69a656643"
      },
      "outputs": [
        {
          "output_type": "stream",
          "name": "stdout",
          "text": [
            "Requirement already satisfied: h5py in /usr/local/lib/python3.7/dist-packages (3.1.0)\n",
            "Requirement already satisfied: numpy>=1.14.5 in /usr/local/lib/python3.7/dist-packages (from h5py) (1.21.5)\n",
            "Requirement already satisfied: cached-property in /usr/local/lib/python3.7/dist-packages (from h5py) (1.5.2)\n"
          ]
        }
      ],
      "source": [
        "!pip install h5py"
      ]
    },
    {
      "cell_type": "markdown",
      "source": [
        "### Importar librerías"
      ],
      "metadata": {
        "id": "lAmmmMzI2ac9"
      }
    },
    {
      "cell_type": "code",
      "source": [
        "from pandas import read_csv\n",
        "from keras.models import Sequential\n",
        "from keras.layers import Dense\n",
        "from keras.wrappers.scikit_learn import KerasClassifier\n",
        "from keras.utils import np_utils\n",
        "from sklearn.model_selection import cross_val_score\n",
        "from sklearn.model_selection import KFold\n",
        "from sklearn.preprocessing import LabelEncoder\n",
        "\n",
        "from keras.models import model_from_json\n",
        "import numpy"
      ],
      "metadata": {
        "id": "t3sPSqeq2aPO"
      },
      "execution_count": 2,
      "outputs": []
    },
    {
      "cell_type": "markdown",
      "source": [
        "### Cargar json y crear el modelo (sin pesos)"
      ],
      "metadata": {
        "id": "9nhS_yD02i4G"
      }
    },
    {
      "cell_type": "code",
      "source": [
        "archivo_json = open('modelo.json','r')\n",
        "modelo_cargado_json = archivo_json.read()\n",
        "archivo_json.close()\n",
        "modelo_cargado = model_from_json(modelo_cargado_json)"
      ],
      "metadata": {
        "id": "qpWZJKP-2inf"
      },
      "execution_count": 3,
      "outputs": []
    },
    {
      "cell_type": "markdown",
      "source": [
        "### Cargar los pesos al modelo"
      ],
      "metadata": {
        "id": "Zd0nIXwZ2thQ"
      }
    },
    {
      "cell_type": "code",
      "source": [
        "modelo_cargado.load_weights(\"modelo.h5\")"
      ],
      "metadata": {
        "id": "IysfQoZs2vBN"
      },
      "execution_count": 4,
      "outputs": []
    },
    {
      "cell_type": "markdown",
      "source": [
        "### Compilar el modelo"
      ],
      "metadata": {
        "id": "V0XijL_g2074"
      }
    },
    {
      "cell_type": "code",
      "source": [
        "modelo_cargado.compile(loss='categorical_crossentropy', optimizer='rmsprop',metrics=['accuracy'])"
      ],
      "metadata": {
        "id": "44nB8Rca21nl"
      },
      "execution_count": 5,
      "outputs": []
    },
    {
      "cell_type": "markdown",
      "source": [
        "### Predecir con un conjunto de datos"
      ],
      "metadata": {
        "id": "TI47M6Xt3AWe"
      }
    },
    {
      "cell_type": "code",
      "source": [
        "datos = numpy.loadtxt(\"casosnuevosiris.csv\", delimiter=\",\")"
      ],
      "metadata": {
        "id": "_EWyvM948EoW"
      },
      "execution_count": 6,
      "outputs": []
    },
    {
      "cell_type": "code",
      "source": [
        "X=datos"
      ],
      "metadata": {
        "id": "m7LqsxOh8Jhm"
      },
      "execution_count": 7,
      "outputs": []
    },
    {
      "cell_type": "code",
      "source": [
        "prediccion = modelo_cargado.predict(X)\n",
        "prediccion"
      ],
      "metadata": {
        "colab": {
          "base_uri": "https://localhost:8080/"
        },
        "id": "k3UD3x-a8LOV",
        "outputId": "5016e842-1883-46de-b94f-b28cae9d875b"
      },
      "execution_count": 8,
      "outputs": [
        {
          "output_type": "execute_result",
          "data": {
            "text/plain": [
              "array([[9.9964678e-01, 3.5324119e-04, 1.4199956e-12],\n",
              "       [9.9616039e-01, 3.8395880e-03, 1.4126076e-09],\n",
              "       [2.9605636e-04, 9.9882501e-01, 8.7891315e-04],\n",
              "       [3.6607092e-04, 9.9504459e-01, 4.5894021e-03],\n",
              "       [2.2112500e-04, 9.8876065e-01, 1.1018257e-02],\n",
              "       [1.0769937e-06, 1.6325783e-02, 9.8367310e-01],\n",
              "       [6.3511002e-06, 6.5730289e-02, 9.3426341e-01],\n",
              "       [1.8234928e-07, 1.3734984e-02, 9.8626477e-01]], dtype=float32)"
            ]
          },
          "metadata": {},
          "execution_count": 8
        }
      ]
    },
    {
      "cell_type": "markdown",
      "source": [
        "### Evaluar el modelo"
      ],
      "metadata": {
        "id": "6lePXq4k8YWF"
      }
    },
    {
      "cell_type": "code",
      "source": [
        "dataframe = read_csv(\"iris.csv\",header=None)"
      ],
      "metadata": {
        "id": "Pqi2DFvr8XLt"
      },
      "execution_count": 11,
      "outputs": []
    },
    {
      "cell_type": "code",
      "source": [
        "dataset = dataframe.values"
      ],
      "metadata": {
        "id": "kLO08YMQ9CV8"
      },
      "execution_count": 12,
      "outputs": []
    },
    {
      "cell_type": "code",
      "source": [
        "X1 = dataset[:,0:4].astype(float)\n",
        "Y1 = dataset[:,4]"
      ],
      "metadata": {
        "id": "TcVu0a5Q9EPN"
      },
      "execution_count": 13,
      "outputs": []
    },
    {
      "cell_type": "code",
      "source": [
        "codificador = LabelEncoder()\n",
        "codificador.fit(Y1)\n",
        "Y1_codificado = codificador.transform(Y1)\n",
        "Y1_codificado"
      ],
      "metadata": {
        "colab": {
          "base_uri": "https://localhost:8080/"
        },
        "id": "QCFJTVMu9LJl",
        "outputId": "4471f7a5-be49-488c-ea03-1c9ac34e9b41"
      },
      "execution_count": 14,
      "outputs": [
        {
          "output_type": "execute_result",
          "data": {
            "text/plain": [
              "array([0, 0, 0, 0, 0, 0, 0, 0, 0, 0, 0, 0, 0, 0, 0, 0, 0, 0, 0, 0, 0, 0,\n",
              "       0, 0, 0, 0, 0, 0, 0, 0, 0, 0, 0, 0, 0, 0, 0, 0, 0, 0, 0, 0, 0, 0,\n",
              "       0, 0, 0, 0, 0, 0, 1, 1, 1, 1, 1, 1, 1, 1, 1, 1, 1, 1, 1, 1, 1, 1,\n",
              "       1, 1, 1, 1, 1, 1, 1, 1, 1, 1, 1, 1, 1, 1, 1, 1, 1, 1, 1, 1, 1, 1,\n",
              "       1, 1, 1, 1, 1, 1, 1, 1, 1, 1, 1, 1, 2, 2, 2, 2, 2, 2, 2, 2, 2, 2,\n",
              "       2, 2, 2, 2, 2, 2, 2, 2, 2, 2, 2, 2, 2, 2, 2, 2, 2, 2, 2, 2, 2, 2,\n",
              "       2, 2, 2, 2, 2, 2, 2, 2, 2, 2, 2, 2, 2, 2, 2, 2, 2, 2])"
            ]
          },
          "metadata": {},
          "execution_count": 14
        }
      ]
    },
    {
      "cell_type": "code",
      "source": [
        "Y_dummy = np_utils.to_categorical(Y1_codificado)"
      ],
      "metadata": {
        "id": "nIqBCmSq9SFL"
      },
      "execution_count": 16,
      "outputs": []
    },
    {
      "cell_type": "code",
      "source": [
        "puntuacion = modelo_cargado.evaluate(X1, Y_dummy, verbose=0)\n",
        "print(\"%s: %.2f%%\" % (modelo_cargado.metrics_names[1],puntuacion[1]*100))"
      ],
      "metadata": {
        "colab": {
          "base_uri": "https://localhost:8080/"
        },
        "id": "05cUU_HN9Xpk",
        "outputId": "40fbb175-07f8-41f9-8e58-64b6c5612dc3"
      },
      "execution_count": 17,
      "outputs": [
        {
          "output_type": "stream",
          "name": "stdout",
          "text": [
            "accuracy: 98.00%\n"
          ]
        }
      ]
    }
  ]
}