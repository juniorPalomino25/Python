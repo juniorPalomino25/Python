{
  "nbformat": 4,
  "nbformat_minor": 0,
  "metadata": {
    "colab": {
      "name": "DL16_zA.ipynb",
      "provenance": [],
      "authorship_tag": "ABX9TyOM8ZHGRJD6s3E8RTz1TNKg",
      "include_colab_link": true
    },
    "kernelspec": {
      "name": "python3",
      "display_name": "Python 3"
    },
    "language_info": {
      "name": "python"
    }
  },
  "cells": [
    {
      "cell_type": "markdown",
      "metadata": {
        "id": "view-in-github",
        "colab_type": "text"
      },
      "source": [
        "<a href=\"https://colab.research.google.com/github/juniorPalomino25/Python/blob/main/DL16_zA.ipynb\" target=\"_parent\"><img src=\"https://colab.research.google.com/assets/colab-badge.svg\" alt=\"Open In Colab\"/></a>"
      ]
    },
    {
      "cell_type": "markdown",
      "source": [
        "# **Modelo de Regresión Base para el conjunto de Datos Boston**"
      ],
      "metadata": {
        "id": "IcAke_e4GXyc"
      }
    },
    {
      "cell_type": "markdown",
      "source": [
        "### Importar las librerías"
      ],
      "metadata": {
        "id": "qIWqRHpbGeKx"
      }
    },
    {
      "cell_type": "code",
      "execution_count": 1,
      "metadata": {
        "id": "NuUMNRQcGFpf"
      },
      "outputs": [],
      "source": [
        "from pandas import read_csv\n",
        "from keras.models import Sequential\n",
        "from keras.layers import Dense\n",
        "from keras.wrappers.scikit_learn import KerasRegressor\n",
        "from sklearn.model_selection import cross_val_score\n",
        "from sklearn.model_selection import KFold\n",
        "from sklearn.datasets import make_regression"
      ]
    },
    {
      "cell_type": "markdown",
      "source": [
        "### Cargar los datos"
      ],
      "metadata": {
        "id": "k7ZuxJV0Gp0C"
      }
    },
    {
      "cell_type": "code",
      "source": [
        "X, Y = make_regression(n_samples=2000, n_features=20, noise=0.1, random_state=101)"
      ],
      "metadata": {
        "id": "87No30r9Grc4"
      },
      "execution_count": 2,
      "outputs": []
    },
    {
      "cell_type": "code",
      "source": [
        "X.shape"
      ],
      "metadata": {
        "colab": {
          "base_uri": "https://localhost:8080/"
        },
        "id": "KWv2xyHkS1yG",
        "outputId": "383bdde1-cdd5-44c1-8e4c-fddb855aff2f"
      },
      "execution_count": 13,
      "outputs": [
        {
          "output_type": "execute_result",
          "data": {
            "text/plain": [
              "(2000, 20)"
            ]
          },
          "metadata": {},
          "execution_count": 13
        }
      ]
    },
    {
      "cell_type": "markdown",
      "source": [
        "### Definir el modelo base"
      ],
      "metadata": {
        "id": "ljZIMTinHQWx"
      }
    },
    {
      "cell_type": "code",
      "source": [
        "def modelo_base():\n",
        "  #Crear el modelo\n",
        "  modelo = Sequential()\n",
        "  modelo.add(Dense(13, input_dim=20,activation='relu'))\n",
        "  modelo.add(Dense(1))\n",
        "  #Compila el modelo\n",
        "  modelo.compile(loss='mean_squared_error',optimizer='adam')\n",
        "  return modelo"
      ],
      "metadata": {
        "id": "6k-oD0M1HQHI"
      },
      "execution_count": 7,
      "outputs": []
    },
    {
      "cell_type": "markdown",
      "source": [
        "### Evaluar el modelo"
      ],
      "metadata": {
        "id": "u8cnBD00HbNw"
      }
    },
    {
      "cell_type": "code",
      "source": [
        "estimador = KerasRegressor(build_fn=modelo_base,epochs=100,batch_size=5,verbose=0)"
      ],
      "metadata": {
        "colab": {
          "base_uri": "https://localhost:8080/"
        },
        "id": "Kg_d3JtXHQFp",
        "outputId": "72cc38d5-b5e7-4ff1-b060-81b0f6dd928c"
      },
      "execution_count": 8,
      "outputs": [
        {
          "output_type": "stream",
          "name": "stderr",
          "text": [
            "/usr/local/lib/python3.7/dist-packages/ipykernel_launcher.py:1: DeprecationWarning: KerasRegressor is deprecated, use Sci-Keras (https://github.com/adriangb/scikeras) instead. See https://www.adriangb.com/scikeras/stable/migration.html for help migrating.\n",
            "  \"\"\"Entry point for launching an IPython kernel.\n"
          ]
        }
      ]
    },
    {
      "cell_type": "code",
      "source": [
        "kfold = KFold(n_splits=10)"
      ],
      "metadata": {
        "id": "xoD7oKOKHi2h"
      },
      "execution_count": 9,
      "outputs": []
    },
    {
      "cell_type": "markdown",
      "source": [
        "### **Resultados**"
      ],
      "metadata": {
        "id": "IawkdWe6Hk4T"
      }
    },
    {
      "cell_type": "code",
      "source": [
        "resultados = cross_val_score(estimador, X , Y, cv=kfold)\n",
        "resultados"
      ],
      "metadata": {
        "colab": {
          "base_uri": "https://localhost:8080/"
        },
        "id": "3d7GfkMmHnyo",
        "outputId": "9e64675e-4c11-462c-dbc2-ab54a836b31e"
      },
      "execution_count": 10,
      "outputs": [
        {
          "output_type": "execute_result",
          "data": {
            "text/plain": [
              "array([-1.12173319, -0.59429896, -2.0950985 , -1.00430346, -1.76868582,\n",
              "       -1.39076447, -0.88509005, -2.13080788, -0.77940255, -0.71456665])"
            ]
          },
          "metadata": {},
          "execution_count": 10
        }
      ]
    },
    {
      "cell_type": "code",
      "source": [
        "print(\"Modelo Base: %.2f (%.2f) Error cuadrado promedio (MSE)\" %\n",
        "(resultados.mean()*(-1),resultados.std()))"
      ],
      "metadata": {
        "colab": {
          "base_uri": "https://localhost:8080/"
        },
        "id": "ZlqfHe2tH-6y",
        "outputId": "06a7ae6a-605e-4b51-f9b2-897618b98fa5"
      },
      "execution_count": 11,
      "outputs": [
        {
          "output_type": "stream",
          "name": "stdout",
          "text": [
            "Modelo Base: 1.25 (0.54) Error cuadrado promedio (MSE)\n"
          ]
        }
      ]
    }
  ]
}