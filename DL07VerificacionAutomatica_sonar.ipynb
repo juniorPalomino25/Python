{
  "nbformat": 4,
  "nbformat_minor": 0,
  "metadata": {
    "colab": {
      "name": "DL07VerificacionAutomatica_sonar.ipynb",
      "provenance": [],
      "collapsed_sections": [],
      "authorship_tag": "ABX9TyN0hBJDuUdXvfnHoI0B55rv",
      "include_colab_link": true
    },
    "kernelspec": {
      "name": "python3",
      "display_name": "Python 3"
    },
    "language_info": {
      "name": "python"
    }
  },
  "cells": [
    {
      "cell_type": "markdown",
      "metadata": {
        "id": "view-in-github",
        "colab_type": "text"
      },
      "source": [
        "<a href=\"https://colab.research.google.com/github/juniorPalomino25/Python/blob/main/DL07VerificacionAutomatica_sonar.ipynb\" target=\"_parent\"><img src=\"https://colab.research.google.com/assets/colab-badge.svg\" alt=\"Open In Colab\"/></a>"
      ]
    },
    {
      "cell_type": "markdown",
      "source": [
        "Descripción: Para el conjunto de datos sonar.csv realizaremos validación automática"
      ],
      "metadata": {
        "id": "o9hSWQlZCQv8"
      }
    },
    {
      "cell_type": "markdown",
      "source": [
        "# Importar Librerías"
      ],
      "metadata": {
        "id": "m_hA97Z1CN8G"
      }
    },
    {
      "cell_type": "code",
      "execution_count": 1,
      "metadata": {
        "id": "FbJwBLyOCAhq"
      },
      "outputs": [],
      "source": [
        "from keras.models import Sequential\n",
        "from keras.layers import Dense\n",
        "import numpy"
      ]
    },
    {
      "cell_type": "markdown",
      "source": [
        "Reemplazaremos el valor de R y M por 1 y 0 respectivamente"
      ],
      "metadata": {
        "id": "ezrg29cfCkdP"
      }
    },
    {
      "cell_type": "markdown",
      "source": [
        "# Cargar los datos"
      ],
      "metadata": {
        "id": "S6iRS4qSCeIO"
      }
    },
    {
      "cell_type": "code",
      "source": [
        "datos = numpy.loadtxt(\"sonar_transformado_R_M.txt\",delimiter=\",\")"
      ],
      "metadata": {
        "id": "HApbKQ__CfPg"
      },
      "execution_count": 2,
      "outputs": []
    },
    {
      "cell_type": "markdown",
      "source": [
        "Dividir la entrada (X) y la salida (y)"
      ],
      "metadata": {
        "id": "EjuOWtBAJZYc"
      }
    },
    {
      "cell_type": "code",
      "source": [
        "X = datos[:,0:60]"
      ],
      "metadata": {
        "id": "0p90w1yPJZ2U"
      },
      "execution_count": 3,
      "outputs": []
    },
    {
      "cell_type": "code",
      "source": [
        "y = datos[:,60]"
      ],
      "metadata": {
        "id": "KD4KPB3RJblE"
      },
      "execution_count": 4,
      "outputs": []
    },
    {
      "cell_type": "markdown",
      "source": [
        "# Crear el modelo"
      ],
      "metadata": {
        "id": "64deOsAZKblM"
      }
    },
    {
      "cell_type": "code",
      "source": [
        "modelo = Sequential()\n",
        "modelo.add(Dense(12, input_dim=60, activation='relu'))\n",
        "modelo.add(Dense(30,activation='relu'))\n",
        "modelo.add(Dense(1,activation='sigmoid'))"
      ],
      "metadata": {
        "id": "Lc5W-Ra-KdBs"
      },
      "execution_count": 5,
      "outputs": []
    },
    {
      "cell_type": "markdown",
      "source": [
        "# Compilar el modelo"
      ],
      "metadata": {
        "id": "bdDnbfoRKeuz"
      }
    },
    {
      "cell_type": "code",
      "source": [
        "modelo.compile(loss='binary_crossentropy',optimizer='adam',metrics=['accuracy'])"
      ],
      "metadata": {
        "id": "d1XjdhjoKfFL"
      },
      "execution_count": 6,
      "outputs": []
    },
    {
      "cell_type": "markdown",
      "source": [
        "# Entrenar el modelo"
      ],
      "metadata": {
        "id": "jsjT3GA0Kj11"
      }
    },
    {
      "cell_type": "markdown",
      "source": [
        "La verificación automática se define con validation_split"
      ],
      "metadata": {
        "id": "rexl87-AKr3L"
      }
    },
    {
      "cell_type": "code",
      "source": [
        "historia = modelo.fit(X, y, validation_split=0.33, epochs=150, batch_size=10)"
      ],
      "metadata": {
        "colab": {
          "base_uri": "https://localhost:8080/"
        },
        "id": "zNgS3IPvKk1b",
        "outputId": "1a306d3a-8870-47eb-e6fa-44ca2c6ac39b"
      },
      "execution_count": 7,
      "outputs": [
        {
          "output_type": "stream",
          "name": "stdout",
          "text": [
            "Epoch 1/150\n",
            "14/14 [==============================] - 1s 36ms/step - loss: 0.6785 - accuracy: 0.6115 - val_loss: 0.8048 - val_accuracy: 0.0000e+00\n",
            "Epoch 2/150\n",
            "14/14 [==============================] - 0s 9ms/step - loss: 0.6437 - accuracy: 0.6978 - val_loss: 0.9105 - val_accuracy: 0.0000e+00\n",
            "Epoch 3/150\n",
            "14/14 [==============================] - 0s 10ms/step - loss: 0.6243 - accuracy: 0.6978 - val_loss: 1.0094 - val_accuracy: 0.0000e+00\n",
            "Epoch 4/150\n",
            "14/14 [==============================] - 0s 10ms/step - loss: 0.6072 - accuracy: 0.6978 - val_loss: 1.0732 - val_accuracy: 0.0000e+00\n",
            "Epoch 5/150\n",
            "14/14 [==============================] - 0s 8ms/step - loss: 0.5903 - accuracy: 0.6978 - val_loss: 1.0741 - val_accuracy: 0.0000e+00\n",
            "Epoch 6/150\n",
            "14/14 [==============================] - 0s 10ms/step - loss: 0.5721 - accuracy: 0.6978 - val_loss: 1.1434 - val_accuracy: 0.0000e+00\n",
            "Epoch 7/150\n",
            "14/14 [==============================] - 0s 11ms/step - loss: 0.5524 - accuracy: 0.6906 - val_loss: 1.1770 - val_accuracy: 0.0000e+00\n",
            "Epoch 8/150\n",
            "14/14 [==============================] - 0s 14ms/step - loss: 0.5287 - accuracy: 0.7266 - val_loss: 1.2314 - val_accuracy: 0.0000e+00\n",
            "Epoch 9/150\n",
            "14/14 [==============================] - 0s 9ms/step - loss: 0.5159 - accuracy: 0.7626 - val_loss: 1.2186 - val_accuracy: 0.0290\n",
            "Epoch 10/150\n",
            "14/14 [==============================] - 0s 9ms/step - loss: 0.4937 - accuracy: 0.7410 - val_loss: 1.4593 - val_accuracy: 0.0000e+00\n",
            "Epoch 11/150\n",
            "14/14 [==============================] - 0s 12ms/step - loss: 0.4727 - accuracy: 0.7770 - val_loss: 1.3382 - val_accuracy: 0.0580\n",
            "Epoch 12/150\n",
            "14/14 [==============================] - 0s 9ms/step - loss: 0.4572 - accuracy: 0.8129 - val_loss: 1.4692 - val_accuracy: 0.0580\n",
            "Epoch 13/150\n",
            "14/14 [==============================] - 0s 11ms/step - loss: 0.4455 - accuracy: 0.8129 - val_loss: 1.5785 - val_accuracy: 0.0580\n",
            "Epoch 14/150\n",
            "14/14 [==============================] - 0s 12ms/step - loss: 0.4298 - accuracy: 0.8058 - val_loss: 1.5467 - val_accuracy: 0.0725\n",
            "Epoch 15/150\n",
            "14/14 [==============================] - 0s 8ms/step - loss: 0.4171 - accuracy: 0.8201 - val_loss: 1.5807 - val_accuracy: 0.0870\n",
            "Epoch 16/150\n",
            "14/14 [==============================] - 0s 13ms/step - loss: 0.4112 - accuracy: 0.8273 - val_loss: 1.6798 - val_accuracy: 0.0870\n",
            "Epoch 17/150\n",
            "14/14 [==============================] - 0s 13ms/step - loss: 0.3987 - accuracy: 0.8129 - val_loss: 1.6635 - val_accuracy: 0.1304\n",
            "Epoch 18/150\n",
            "14/14 [==============================] - 0s 10ms/step - loss: 0.3959 - accuracy: 0.8273 - val_loss: 1.8519 - val_accuracy: 0.0725\n",
            "Epoch 19/150\n",
            "14/14 [==============================] - 0s 12ms/step - loss: 0.3926 - accuracy: 0.8489 - val_loss: 1.6557 - val_accuracy: 0.1449\n",
            "Epoch 20/150\n",
            "14/14 [==============================] - 0s 13ms/step - loss: 0.3761 - accuracy: 0.8201 - val_loss: 1.9323 - val_accuracy: 0.0870\n",
            "Epoch 21/150\n",
            "14/14 [==============================] - 0s 7ms/step - loss: 0.3731 - accuracy: 0.8058 - val_loss: 1.8135 - val_accuracy: 0.1449\n",
            "Epoch 22/150\n",
            "14/14 [==============================] - 0s 9ms/step - loss: 0.3668 - accuracy: 0.8201 - val_loss: 1.9144 - val_accuracy: 0.1304\n",
            "Epoch 23/150\n",
            "14/14 [==============================] - 0s 7ms/step - loss: 0.3587 - accuracy: 0.8273 - val_loss: 1.8852 - val_accuracy: 0.1449\n",
            "Epoch 24/150\n",
            "14/14 [==============================] - 0s 11ms/step - loss: 0.3558 - accuracy: 0.8345 - val_loss: 1.7795 - val_accuracy: 0.1884\n",
            "Epoch 25/150\n",
            "14/14 [==============================] - 0s 10ms/step - loss: 0.3480 - accuracy: 0.8417 - val_loss: 2.0799 - val_accuracy: 0.1159\n",
            "Epoch 26/150\n",
            "14/14 [==============================] - 0s 7ms/step - loss: 0.3440 - accuracy: 0.8273 - val_loss: 2.0082 - val_accuracy: 0.1304\n",
            "Epoch 27/150\n",
            "14/14 [==============================] - 0s 18ms/step - loss: 0.3427 - accuracy: 0.8489 - val_loss: 1.9902 - val_accuracy: 0.1594\n",
            "Epoch 28/150\n",
            "14/14 [==============================] - 0s 7ms/step - loss: 0.3318 - accuracy: 0.8417 - val_loss: 2.0366 - val_accuracy: 0.1594\n",
            "Epoch 29/150\n",
            "14/14 [==============================] - 0s 10ms/step - loss: 0.3321 - accuracy: 0.8345 - val_loss: 2.0580 - val_accuracy: 0.1594\n",
            "Epoch 30/150\n",
            "14/14 [==============================] - 0s 8ms/step - loss: 0.3273 - accuracy: 0.8705 - val_loss: 1.9796 - val_accuracy: 0.1884\n",
            "Epoch 31/150\n",
            "14/14 [==============================] - 0s 9ms/step - loss: 0.3265 - accuracy: 0.8345 - val_loss: 2.2525 - val_accuracy: 0.1159\n",
            "Epoch 32/150\n",
            "14/14 [==============================] - 0s 9ms/step - loss: 0.3259 - accuracy: 0.8705 - val_loss: 1.8986 - val_accuracy: 0.2319\n",
            "Epoch 33/150\n",
            "14/14 [==============================] - 0s 8ms/step - loss: 0.3149 - accuracy: 0.8561 - val_loss: 2.2213 - val_accuracy: 0.1594\n",
            "Epoch 34/150\n",
            "14/14 [==============================] - 0s 14ms/step - loss: 0.3084 - accuracy: 0.8489 - val_loss: 2.1217 - val_accuracy: 0.1739\n",
            "Epoch 35/150\n",
            "14/14 [==============================] - 0s 15ms/step - loss: 0.3066 - accuracy: 0.8705 - val_loss: 1.9950 - val_accuracy: 0.2319\n",
            "Epoch 36/150\n",
            "14/14 [==============================] - 0s 18ms/step - loss: 0.3008 - accuracy: 0.8705 - val_loss: 2.1525 - val_accuracy: 0.1739\n",
            "Epoch 37/150\n",
            "14/14 [==============================] - 0s 10ms/step - loss: 0.2988 - accuracy: 0.8633 - val_loss: 2.1638 - val_accuracy: 0.1739\n",
            "Epoch 38/150\n",
            "14/14 [==============================] - 0s 12ms/step - loss: 0.2988 - accuracy: 0.8561 - val_loss: 2.3039 - val_accuracy: 0.1594\n",
            "Epoch 39/150\n",
            "14/14 [==============================] - 0s 8ms/step - loss: 0.2883 - accuracy: 0.8705 - val_loss: 2.0167 - val_accuracy: 0.2319\n",
            "Epoch 40/150\n",
            "14/14 [==============================] - 0s 7ms/step - loss: 0.2947 - accuracy: 0.8849 - val_loss: 2.1198 - val_accuracy: 0.2174\n",
            "Epoch 41/150\n",
            "14/14 [==============================] - 0s 16ms/step - loss: 0.2881 - accuracy: 0.8849 - val_loss: 2.1953 - val_accuracy: 0.2174\n",
            "Epoch 42/150\n",
            "14/14 [==============================] - 0s 8ms/step - loss: 0.2861 - accuracy: 0.8777 - val_loss: 2.2249 - val_accuracy: 0.2174\n",
            "Epoch 43/150\n",
            "14/14 [==============================] - 0s 10ms/step - loss: 0.2864 - accuracy: 0.8921 - val_loss: 2.1972 - val_accuracy: 0.2174\n",
            "Epoch 44/150\n",
            "14/14 [==============================] - 0s 11ms/step - loss: 0.2781 - accuracy: 0.8633 - val_loss: 2.3061 - val_accuracy: 0.2174\n",
            "Epoch 45/150\n",
            "14/14 [==============================] - 0s 14ms/step - loss: 0.2782 - accuracy: 0.8921 - val_loss: 2.2252 - val_accuracy: 0.2174\n",
            "Epoch 46/150\n",
            "14/14 [==============================] - 0s 12ms/step - loss: 0.2746 - accuracy: 0.8849 - val_loss: 2.4510 - val_accuracy: 0.2029\n",
            "Epoch 47/150\n",
            "14/14 [==============================] - 0s 12ms/step - loss: 0.2714 - accuracy: 0.8921 - val_loss: 2.0936 - val_accuracy: 0.2609\n",
            "Epoch 48/150\n",
            "14/14 [==============================] - 0s 11ms/step - loss: 0.2661 - accuracy: 0.8993 - val_loss: 2.4114 - val_accuracy: 0.2029\n",
            "Epoch 49/150\n",
            "14/14 [==============================] - 0s 9ms/step - loss: 0.2623 - accuracy: 0.8993 - val_loss: 2.2318 - val_accuracy: 0.2174\n",
            "Epoch 50/150\n",
            "14/14 [==============================] - 0s 10ms/step - loss: 0.2620 - accuracy: 0.8849 - val_loss: 2.2820 - val_accuracy: 0.2319\n",
            "Epoch 51/150\n",
            "14/14 [==============================] - 0s 7ms/step - loss: 0.2604 - accuracy: 0.8993 - val_loss: 2.3212 - val_accuracy: 0.2029\n",
            "Epoch 52/150\n",
            "14/14 [==============================] - 0s 10ms/step - loss: 0.2694 - accuracy: 0.8849 - val_loss: 2.3158 - val_accuracy: 0.2174\n",
            "Epoch 53/150\n",
            "14/14 [==============================] - 0s 9ms/step - loss: 0.2509 - accuracy: 0.9065 - val_loss: 2.1960 - val_accuracy: 0.2754\n",
            "Epoch 54/150\n",
            "14/14 [==============================] - 0s 6ms/step - loss: 0.2511 - accuracy: 0.8921 - val_loss: 2.4493 - val_accuracy: 0.1884\n",
            "Epoch 55/150\n",
            "14/14 [==============================] - 0s 11ms/step - loss: 0.2448 - accuracy: 0.9065 - val_loss: 2.3452 - val_accuracy: 0.2464\n",
            "Epoch 56/150\n",
            "14/14 [==============================] - 0s 14ms/step - loss: 0.2407 - accuracy: 0.9065 - val_loss: 2.3840 - val_accuracy: 0.2464\n",
            "Epoch 57/150\n",
            "14/14 [==============================] - 0s 10ms/step - loss: 0.2452 - accuracy: 0.8993 - val_loss: 2.4345 - val_accuracy: 0.2319\n",
            "Epoch 58/150\n",
            "14/14 [==============================] - 0s 10ms/step - loss: 0.2376 - accuracy: 0.9209 - val_loss: 2.2727 - val_accuracy: 0.3188\n",
            "Epoch 59/150\n",
            "14/14 [==============================] - 0s 7ms/step - loss: 0.2386 - accuracy: 0.9209 - val_loss: 2.5964 - val_accuracy: 0.2029\n",
            "Epoch 60/150\n",
            "14/14 [==============================] - 0s 7ms/step - loss: 0.2359 - accuracy: 0.9065 - val_loss: 2.3919 - val_accuracy: 0.2609\n",
            "Epoch 61/150\n",
            "14/14 [==============================] - 0s 10ms/step - loss: 0.2292 - accuracy: 0.9209 - val_loss: 2.4731 - val_accuracy: 0.2319\n",
            "Epoch 62/150\n",
            "14/14 [==============================] - 0s 16ms/step - loss: 0.2344 - accuracy: 0.9209 - val_loss: 2.4547 - val_accuracy: 0.2754\n",
            "Epoch 63/150\n",
            "14/14 [==============================] - 0s 11ms/step - loss: 0.2361 - accuracy: 0.9065 - val_loss: 2.4801 - val_accuracy: 0.2609\n",
            "Epoch 64/150\n",
            "14/14 [==============================] - 0s 8ms/step - loss: 0.2267 - accuracy: 0.9209 - val_loss: 2.5962 - val_accuracy: 0.2174\n",
            "Epoch 65/150\n",
            "14/14 [==============================] - 0s 13ms/step - loss: 0.2173 - accuracy: 0.9281 - val_loss: 2.4243 - val_accuracy: 0.3043\n",
            "Epoch 66/150\n",
            "14/14 [==============================] - 0s 13ms/step - loss: 0.2147 - accuracy: 0.9353 - val_loss: 2.5821 - val_accuracy: 0.2464\n",
            "Epoch 67/150\n",
            "14/14 [==============================] - 0s 14ms/step - loss: 0.2116 - accuracy: 0.9281 - val_loss: 2.4460 - val_accuracy: 0.2899\n",
            "Epoch 68/150\n",
            "14/14 [==============================] - 0s 5ms/step - loss: 0.2135 - accuracy: 0.9353 - val_loss: 2.5915 - val_accuracy: 0.2609\n",
            "Epoch 69/150\n",
            "14/14 [==============================] - 0s 5ms/step - loss: 0.2086 - accuracy: 0.9424 - val_loss: 2.5072 - val_accuracy: 0.2899\n",
            "Epoch 70/150\n",
            "14/14 [==============================] - 0s 4ms/step - loss: 0.2050 - accuracy: 0.9353 - val_loss: 2.6283 - val_accuracy: 0.2609\n",
            "Epoch 71/150\n",
            "14/14 [==============================] - 0s 4ms/step - loss: 0.2020 - accuracy: 0.9424 - val_loss: 2.6062 - val_accuracy: 0.2899\n",
            "Epoch 72/150\n",
            "14/14 [==============================] - 0s 5ms/step - loss: 0.2004 - accuracy: 0.9424 - val_loss: 2.5956 - val_accuracy: 0.2899\n",
            "Epoch 73/150\n",
            "14/14 [==============================] - 0s 4ms/step - loss: 0.1981 - accuracy: 0.9353 - val_loss: 2.6424 - val_accuracy: 0.2899\n",
            "Epoch 74/150\n",
            "14/14 [==============================] - 0s 5ms/step - loss: 0.2120 - accuracy: 0.9209 - val_loss: 2.7423 - val_accuracy: 0.2754\n",
            "Epoch 75/150\n",
            "14/14 [==============================] - 0s 4ms/step - loss: 0.2156 - accuracy: 0.9065 - val_loss: 2.7564 - val_accuracy: 0.2754\n",
            "Epoch 76/150\n",
            "14/14 [==============================] - 0s 5ms/step - loss: 0.1946 - accuracy: 0.9424 - val_loss: 2.3765 - val_accuracy: 0.3478\n",
            "Epoch 77/150\n",
            "14/14 [==============================] - 0s 5ms/step - loss: 0.1923 - accuracy: 0.9424 - val_loss: 2.7728 - val_accuracy: 0.3043\n",
            "Epoch 78/150\n",
            "14/14 [==============================] - 0s 4ms/step - loss: 0.1864 - accuracy: 0.9353 - val_loss: 2.6455 - val_accuracy: 0.3188\n",
            "Epoch 79/150\n",
            "14/14 [==============================] - 0s 5ms/step - loss: 0.1926 - accuracy: 0.9496 - val_loss: 2.7805 - val_accuracy: 0.3043\n",
            "Epoch 80/150\n",
            "14/14 [==============================] - 0s 5ms/step - loss: 0.1900 - accuracy: 0.9281 - val_loss: 2.7146 - val_accuracy: 0.3188\n",
            "Epoch 81/150\n",
            "14/14 [==============================] - 0s 5ms/step - loss: 0.1811 - accuracy: 0.9424 - val_loss: 2.7633 - val_accuracy: 0.3188\n",
            "Epoch 82/150\n",
            "14/14 [==============================] - 0s 4ms/step - loss: 0.1776 - accuracy: 0.9424 - val_loss: 2.7312 - val_accuracy: 0.3188\n",
            "Epoch 83/150\n",
            "14/14 [==============================] - 0s 4ms/step - loss: 0.1761 - accuracy: 0.9424 - val_loss: 2.8012 - val_accuracy: 0.3188\n",
            "Epoch 84/150\n",
            "14/14 [==============================] - 0s 4ms/step - loss: 0.1816 - accuracy: 0.9424 - val_loss: 2.6842 - val_accuracy: 0.3188\n",
            "Epoch 85/150\n",
            "14/14 [==============================] - 0s 5ms/step - loss: 0.1737 - accuracy: 0.9496 - val_loss: 2.9137 - val_accuracy: 0.3188\n",
            "Epoch 86/150\n",
            "14/14 [==============================] - 0s 4ms/step - loss: 0.1699 - accuracy: 0.9353 - val_loss: 2.7730 - val_accuracy: 0.3188\n",
            "Epoch 87/150\n",
            "14/14 [==============================] - 0s 4ms/step - loss: 0.1696 - accuracy: 0.9424 - val_loss: 2.9170 - val_accuracy: 0.3188\n",
            "Epoch 88/150\n",
            "14/14 [==============================] - 0s 5ms/step - loss: 0.1692 - accuracy: 0.9496 - val_loss: 2.8713 - val_accuracy: 0.3188\n",
            "Epoch 89/150\n",
            "14/14 [==============================] - 0s 5ms/step - loss: 0.1659 - accuracy: 0.9353 - val_loss: 2.9637 - val_accuracy: 0.3188\n",
            "Epoch 90/150\n",
            "14/14 [==============================] - 0s 6ms/step - loss: 0.1707 - accuracy: 0.9496 - val_loss: 2.8607 - val_accuracy: 0.3188\n",
            "Epoch 91/150\n",
            "14/14 [==============================] - 0s 4ms/step - loss: 0.1748 - accuracy: 0.9424 - val_loss: 2.9681 - val_accuracy: 0.3188\n",
            "Epoch 92/150\n",
            "14/14 [==============================] - 0s 4ms/step - loss: 0.1625 - accuracy: 0.9568 - val_loss: 2.6058 - val_accuracy: 0.3478\n",
            "Epoch 93/150\n",
            "14/14 [==============================] - 0s 4ms/step - loss: 0.1495 - accuracy: 0.9496 - val_loss: 3.2597 - val_accuracy: 0.2754\n",
            "Epoch 94/150\n",
            "14/14 [==============================] - 0s 5ms/step - loss: 0.1687 - accuracy: 0.9353 - val_loss: 2.8195 - val_accuracy: 0.3333\n",
            "Epoch 95/150\n",
            "14/14 [==============================] - 0s 4ms/step - loss: 0.1559 - accuracy: 0.9568 - val_loss: 3.0352 - val_accuracy: 0.3188\n",
            "Epoch 96/150\n",
            "14/14 [==============================] - 0s 5ms/step - loss: 0.1496 - accuracy: 0.9496 - val_loss: 3.1194 - val_accuracy: 0.3188\n",
            "Epoch 97/150\n",
            "14/14 [==============================] - 0s 5ms/step - loss: 0.1519 - accuracy: 0.9424 - val_loss: 2.8449 - val_accuracy: 0.3333\n",
            "Epoch 98/150\n",
            "14/14 [==============================] - 0s 5ms/step - loss: 0.1597 - accuracy: 0.9640 - val_loss: 3.1857 - val_accuracy: 0.3188\n",
            "Epoch 99/150\n",
            "14/14 [==============================] - 0s 5ms/step - loss: 0.1445 - accuracy: 0.9640 - val_loss: 2.9239 - val_accuracy: 0.3333\n",
            "Epoch 100/150\n",
            "14/14 [==============================] - 0s 4ms/step - loss: 0.1399 - accuracy: 0.9568 - val_loss: 3.0794 - val_accuracy: 0.3333\n",
            "Epoch 101/150\n",
            "14/14 [==============================] - 0s 5ms/step - loss: 0.1440 - accuracy: 0.9568 - val_loss: 2.8526 - val_accuracy: 0.3333\n",
            "Epoch 102/150\n",
            "14/14 [==============================] - 0s 5ms/step - loss: 0.1399 - accuracy: 0.9568 - val_loss: 3.1326 - val_accuracy: 0.3333\n",
            "Epoch 103/150\n",
            "14/14 [==============================] - 0s 4ms/step - loss: 0.1370 - accuracy: 0.9640 - val_loss: 3.0611 - val_accuracy: 0.3333\n",
            "Epoch 104/150\n",
            "14/14 [==============================] - 0s 5ms/step - loss: 0.1373 - accuracy: 0.9496 - val_loss: 3.0607 - val_accuracy: 0.3333\n",
            "Epoch 105/150\n",
            "14/14 [==============================] - 0s 5ms/step - loss: 0.1312 - accuracy: 0.9568 - val_loss: 2.9995 - val_accuracy: 0.3333\n",
            "Epoch 106/150\n",
            "14/14 [==============================] - 0s 5ms/step - loss: 0.1327 - accuracy: 0.9640 - val_loss: 3.1289 - val_accuracy: 0.3333\n",
            "Epoch 107/150\n",
            "14/14 [==============================] - 0s 5ms/step - loss: 0.1427 - accuracy: 0.9496 - val_loss: 3.0095 - val_accuracy: 0.3333\n",
            "Epoch 108/150\n",
            "14/14 [==============================] - 0s 5ms/step - loss: 0.1363 - accuracy: 0.9712 - val_loss: 3.3264 - val_accuracy: 0.3333\n",
            "Epoch 109/150\n",
            "14/14 [==============================] - 0s 4ms/step - loss: 0.1346 - accuracy: 0.9568 - val_loss: 2.9236 - val_accuracy: 0.3333\n",
            "Epoch 110/150\n",
            "14/14 [==============================] - 0s 5ms/step - loss: 0.1274 - accuracy: 0.9640 - val_loss: 3.3784 - val_accuracy: 0.3333\n",
            "Epoch 111/150\n",
            "14/14 [==============================] - 0s 4ms/step - loss: 0.1234 - accuracy: 0.9640 - val_loss: 3.1153 - val_accuracy: 0.3333\n",
            "Epoch 112/150\n",
            "14/14 [==============================] - 0s 4ms/step - loss: 0.1212 - accuracy: 0.9568 - val_loss: 3.1597 - val_accuracy: 0.3333\n",
            "Epoch 113/150\n",
            "14/14 [==============================] - 0s 5ms/step - loss: 0.1261 - accuracy: 0.9568 - val_loss: 3.3320 - val_accuracy: 0.3333\n",
            "Epoch 114/150\n",
            "14/14 [==============================] - 0s 5ms/step - loss: 0.1171 - accuracy: 0.9640 - val_loss: 3.1489 - val_accuracy: 0.3333\n",
            "Epoch 115/150\n",
            "14/14 [==============================] - 0s 5ms/step - loss: 0.1156 - accuracy: 0.9640 - val_loss: 3.1182 - val_accuracy: 0.3333\n",
            "Epoch 116/150\n",
            "14/14 [==============================] - 0s 6ms/step - loss: 0.1155 - accuracy: 0.9640 - val_loss: 3.1645 - val_accuracy: 0.3333\n",
            "Epoch 117/150\n",
            "14/14 [==============================] - 0s 5ms/step - loss: 0.1162 - accuracy: 0.9712 - val_loss: 3.4166 - val_accuracy: 0.3333\n",
            "Epoch 118/150\n",
            "14/14 [==============================] - 0s 5ms/step - loss: 0.1152 - accuracy: 0.9640 - val_loss: 3.2661 - val_accuracy: 0.3333\n",
            "Epoch 119/150\n",
            "14/14 [==============================] - 0s 5ms/step - loss: 0.1096 - accuracy: 0.9640 - val_loss: 3.1115 - val_accuracy: 0.3333\n",
            "Epoch 120/150\n",
            "14/14 [==============================] - 0s 6ms/step - loss: 0.1116 - accuracy: 0.9712 - val_loss: 3.4092 - val_accuracy: 0.3333\n",
            "Epoch 121/150\n",
            "14/14 [==============================] - 0s 4ms/step - loss: 0.1081 - accuracy: 0.9712 - val_loss: 2.9634 - val_accuracy: 0.3333\n",
            "Epoch 122/150\n",
            "14/14 [==============================] - 0s 5ms/step - loss: 0.1047 - accuracy: 0.9640 - val_loss: 3.3259 - val_accuracy: 0.3333\n",
            "Epoch 123/150\n",
            "14/14 [==============================] - 0s 5ms/step - loss: 0.1104 - accuracy: 0.9712 - val_loss: 3.1013 - val_accuracy: 0.3333\n",
            "Epoch 124/150\n",
            "14/14 [==============================] - 0s 4ms/step - loss: 0.1009 - accuracy: 0.9712 - val_loss: 3.4194 - val_accuracy: 0.3333\n",
            "Epoch 125/150\n",
            "14/14 [==============================] - 0s 5ms/step - loss: 0.0975 - accuracy: 0.9712 - val_loss: 3.3594 - val_accuracy: 0.3333\n",
            "Epoch 126/150\n",
            "14/14 [==============================] - 0s 5ms/step - loss: 0.1013 - accuracy: 0.9784 - val_loss: 3.2818 - val_accuracy: 0.3333\n",
            "Epoch 127/150\n",
            "14/14 [==============================] - 0s 4ms/step - loss: 0.0972 - accuracy: 0.9856 - val_loss: 3.3575 - val_accuracy: 0.3333\n",
            "Epoch 128/150\n",
            "14/14 [==============================] - 0s 5ms/step - loss: 0.0965 - accuracy: 0.9784 - val_loss: 3.3027 - val_accuracy: 0.3333\n",
            "Epoch 129/150\n",
            "14/14 [==============================] - 0s 5ms/step - loss: 0.0996 - accuracy: 0.9712 - val_loss: 3.2345 - val_accuracy: 0.3333\n",
            "Epoch 130/150\n",
            "14/14 [==============================] - 0s 4ms/step - loss: 0.0969 - accuracy: 0.9784 - val_loss: 3.4229 - val_accuracy: 0.3333\n",
            "Epoch 131/150\n",
            "14/14 [==============================] - 0s 4ms/step - loss: 0.0915 - accuracy: 0.9784 - val_loss: 3.4679 - val_accuracy: 0.3333\n",
            "Epoch 132/150\n",
            "14/14 [==============================] - 0s 5ms/step - loss: 0.0911 - accuracy: 0.9784 - val_loss: 3.4021 - val_accuracy: 0.3333\n",
            "Epoch 133/150\n",
            "14/14 [==============================] - 0s 4ms/step - loss: 0.0883 - accuracy: 0.9712 - val_loss: 3.7039 - val_accuracy: 0.3333\n",
            "Epoch 134/150\n",
            "14/14 [==============================] - 0s 7ms/step - loss: 0.0880 - accuracy: 0.9784 - val_loss: 3.4577 - val_accuracy: 0.3333\n",
            "Epoch 135/150\n",
            "14/14 [==============================] - 0s 4ms/step - loss: 0.0894 - accuracy: 0.9784 - val_loss: 3.3768 - val_accuracy: 0.3333\n",
            "Epoch 136/150\n",
            "14/14 [==============================] - 0s 5ms/step - loss: 0.0903 - accuracy: 0.9784 - val_loss: 3.6064 - val_accuracy: 0.3333\n",
            "Epoch 137/150\n",
            "14/14 [==============================] - 0s 4ms/step - loss: 0.0989 - accuracy: 0.9712 - val_loss: 3.3466 - val_accuracy: 0.3333\n",
            "Epoch 138/150\n",
            "14/14 [==============================] - 0s 4ms/step - loss: 0.0879 - accuracy: 0.9856 - val_loss: 3.6053 - val_accuracy: 0.3333\n",
            "Epoch 139/150\n",
            "14/14 [==============================] - 0s 4ms/step - loss: 0.0820 - accuracy: 0.9712 - val_loss: 3.5881 - val_accuracy: 0.3333\n",
            "Epoch 140/150\n",
            "14/14 [==============================] - 0s 4ms/step - loss: 0.0780 - accuracy: 0.9856 - val_loss: 3.5728 - val_accuracy: 0.3333\n",
            "Epoch 141/150\n",
            "14/14 [==============================] - 0s 4ms/step - loss: 0.0782 - accuracy: 0.9784 - val_loss: 3.8166 - val_accuracy: 0.3333\n",
            "Epoch 142/150\n",
            "14/14 [==============================] - 0s 5ms/step - loss: 0.0789 - accuracy: 0.9856 - val_loss: 3.2898 - val_accuracy: 0.3333\n",
            "Epoch 143/150\n",
            "14/14 [==============================] - 0s 4ms/step - loss: 0.0767 - accuracy: 0.9856 - val_loss: 3.8518 - val_accuracy: 0.3333\n",
            "Epoch 144/150\n",
            "14/14 [==============================] - 0s 5ms/step - loss: 0.0749 - accuracy: 0.9928 - val_loss: 3.6579 - val_accuracy: 0.3333\n",
            "Epoch 145/150\n",
            "14/14 [==============================] - 0s 4ms/step - loss: 0.0730 - accuracy: 0.9856 - val_loss: 3.6819 - val_accuracy: 0.3333\n",
            "Epoch 146/150\n",
            "14/14 [==============================] - 0s 4ms/step - loss: 0.0728 - accuracy: 0.9856 - val_loss: 3.8320 - val_accuracy: 0.3333\n",
            "Epoch 147/150\n",
            "14/14 [==============================] - 0s 5ms/step - loss: 0.0768 - accuracy: 0.9856 - val_loss: 3.7055 - val_accuracy: 0.3333\n",
            "Epoch 148/150\n",
            "14/14 [==============================] - 0s 6ms/step - loss: 0.0719 - accuracy: 0.9784 - val_loss: 3.8705 - val_accuracy: 0.3333\n",
            "Epoch 149/150\n",
            "14/14 [==============================] - 0s 6ms/step - loss: 0.0730 - accuracy: 0.9856 - val_loss: 3.8566 - val_accuracy: 0.3333\n",
            "Epoch 150/150\n",
            "14/14 [==============================] - 0s 5ms/step - loss: 0.0706 - accuracy: 0.9856 - val_loss: 3.9173 - val_accuracy: 0.3333\n"
          ]
        }
      ]
    },
    {
      "cell_type": "markdown",
      "source": [
        "# Graficar la historia"
      ],
      "metadata": {
        "id": "ulq7DorgKpHd"
      }
    },
    {
      "cell_type": "code",
      "source": [
        "# Función para graficar la historia\n",
        "\n",
        "EPOCAS = 150\n",
        "import numpy as np\n",
        "import matplotlib.pyplot as plt\n",
        "def graficar(h):\n",
        "  LOSS = 0; ACCURACY = 1\n",
        "  entrenamiento = np.zeros((2,EPOCAS));\n",
        "  prueba = np.zeros((2,EPOCAS));\n",
        "  entrenamiento[LOSS] = h.history['loss'] # loss de entrenamiento\n",
        "  prueba[LOSS] = h.history['val_loss'] # loss de validación\n",
        "  entrenamiento[ACCURACY] = h.history['accuracy'] #acc de entrenamiento\n",
        "  prueba[ACCURACY] = h.history['val_accuracy'] #acc de validación\n",
        "  epocas = range(1,EPOCAS+1)\n",
        "  fig, axs = plt.subplots(1,2,figsize=(15,5))\n",
        "  for i, label in zip((LOSS,ACCURACY),('perdida','exactitud')):\n",
        "    axs[i].plot(epocas,entrenamiento[i],'b-',label='Entrenamiento '+label)\n",
        "    axs[i].plot(epocas,prueba[i],'y-',label='Prueba '+label)\n",
        "    axs[i].set_title('Entrenamiento y prueba ' + label)\n",
        "    axs[i].set_xlabel('Epocas')\n",
        "    axs[i].set_ylabel(label)\n",
        "    axs[i].legend()\n",
        "plt.show()"
      ],
      "metadata": {
        "id": "_XDjK8wHKyUd"
      },
      "execution_count": 8,
      "outputs": []
    },
    {
      "cell_type": "code",
      "source": [
        "graficar(historia)"
      ],
      "metadata": {
        "colab": {
          "base_uri": "https://localhost:8080/",
          "height": 347
        },
        "id": "rcpuHS5ZK4Vs",
        "outputId": "88fbe52c-ac4b-417f-d400-774f9450f63e"
      },
      "execution_count": 9,
      "outputs": [
        {
          "output_type": "display_data",
          "data": {
            "text/plain": [
              "<Figure size 1080x360 with 2 Axes>"
            ],
            "image/png": "[encoded data removed]"
          },
          "metadata": {
            "needs_background": "light"
          }
        }
      ]
    }
  ]
}