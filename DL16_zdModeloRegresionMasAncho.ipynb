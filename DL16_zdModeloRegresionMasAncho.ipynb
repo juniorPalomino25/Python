{
  "nbformat": 4,
  "nbformat_minor": 0,
  "metadata": {
    "colab": {
      "name": "DL16_zdModeloRegresionMasAncho.ipynb",
      "provenance": [],
      "include_colab_link": true
    },
    "kernelspec": {
      "name": "python3",
      "display_name": "Python 3"
    },
    "language_info": {
      "name": "python"
    }
  },
  "cells": [
    {
      "cell_type": "markdown",
      "metadata": {
        "id": "view-in-github",
        "colab_type": "text"
      },
      "source": [
        "<a href=\"https://colab.research.google.com/github/juniorPalomino25/Python/blob/main/DL16_zdModeloRegresionMasAncho.ipynb\" target=\"_parent\"><img src=\"https://colab.research.google.com/assets/colab-badge.svg\" alt=\"Open In Colab\"/></a>"
      ]
    },
    {
      "cell_type": "markdown",
      "source": [
        "# **Modelo de Regresión Base para el conjunto de Datos Boston Estandarizado y más ancho**"
      ],
      "metadata": {
        "id": "01LzDzReU1vu"
      }
    },
    {
      "cell_type": "code",
      "execution_count": 1,
      "metadata": {
        "id": "LIh27acfHUe7"
      },
      "outputs": [],
      "source": [
        "from pandas import read_csv\n",
        "from keras.models import Sequential\n",
        "from keras.layers import Dense\n",
        "from keras.wrappers.scikit_learn import KerasRegressor\n",
        "from sklearn.model_selection import cross_val_score\n",
        "from sklearn.model_selection import KFold\n",
        "from sklearn.preprocessing import StandardScaler\n",
        "from sklearn.pipeline import Pipeline\n",
        "from sklearn.datasets import make_regression\n"
      ]
    },
    {
      "cell_type": "code",
      "source": [
        "X, Y = make_regression(n_samples=2000, n_features=20, noise=0.1, random_state=101)"
      ],
      "metadata": {
        "id": "Pm7HahGeHrG2"
      },
      "execution_count": 2,
      "outputs": []
    },
    {
      "cell_type": "code",
      "source": [
        "def modelo_base():\n",
        "  #Crear el modelo\n",
        "  modelo = Sequential()\n",
        "  modelo.add(Dense(13, input_dim=20,activation='relu'))\n",
        "  modelo.add(Dense(1))\n",
        "  #Compila el modelo\n",
        "  modelo.compile(loss='mean_squared_error',optimizer='adam')\n",
        "  return modelo"
      ],
      "metadata": {
        "id": "gKq-IAEaH0HJ"
      },
      "execution_count": 3,
      "outputs": []
    },
    {
      "cell_type": "code",
      "source": [
        "estimadores = []"
      ],
      "metadata": {
        "id": "cpFzrnPaH2FT"
      },
      "execution_count": 4,
      "outputs": []
    },
    {
      "cell_type": "code",
      "source": [
        "estimadores.append(('estandarización',StandardScaler()))"
      ],
      "metadata": {
        "id": "youi-RgQH3OK"
      },
      "execution_count": 5,
      "outputs": []
    },
    {
      "cell_type": "code",
      "source": [
        "estimadores.append(('red',KerasRegressor(build_fn=modelo_base,\n",
        "epochs=100,batch_size=5,verbose=0)))"
      ],
      "metadata": {
        "colab": {
          "base_uri": "https://localhost:8080/"
        },
        "id": "lxgEUcG0H4Yd",
        "outputId": "94294b1c-6dab-46b4-899d-83e2e019ed11"
      },
      "execution_count": 6,
      "outputs": [
        {
          "output_type": "stream",
          "name": "stderr",
          "text": [
            "/usr/local/lib/python3.7/dist-packages/ipykernel_launcher.py:2: DeprecationWarning: KerasRegressor is deprecated, use Sci-Keras (https://github.com/adriangb/scikeras) instead. See https://www.adriangb.com/scikeras/stable/migration.html for help migrating.\n",
            "  \n"
          ]
        }
      ]
    },
    {
      "cell_type": "code",
      "source": [
        "canal = Pipeline(estimadores)"
      ],
      "metadata": {
        "id": "3XtdHJWGH6Bh"
      },
      "execution_count": 7,
      "outputs": []
    },
    {
      "cell_type": "code",
      "source": [
        "kfold = KFold(n_splits=10)"
      ],
      "metadata": {
        "id": "TYRGrzd3H786"
      },
      "execution_count": 8,
      "outputs": []
    },
    {
      "cell_type": "code",
      "source": [
        "resultados = cross_val_score(canal, X , Y, cv=kfold)"
      ],
      "metadata": {
        "id": "JZfcKrKIH9AI"
      },
      "execution_count": 9,
      "outputs": []
    },
    {
      "cell_type": "code",
      "source": [
        "resultados"
      ],
      "metadata": {
        "colab": {
          "base_uri": "https://localhost:8080/"
        },
        "id": "8Z4eVzcCI7nz",
        "outputId": "9443b725-17d9-467c-a495-1cd8a0fbc8c0"
      },
      "execution_count": 10,
      "outputs": [
        {
          "output_type": "execute_result",
          "data": {
            "text/plain": [
              "array([-3.45530128, -0.66492677, -0.77184379, -0.84964406, -1.65341949,\n",
              "       -5.98828316, -1.34006238, -1.22621965, -1.76477396, -0.66429496])"
            ]
          },
          "metadata": {},
          "execution_count": 10
        }
      ]
    },
    {
      "cell_type": "code",
      "source": [
        "print(\"Modelo Base: %.2f (%.2f) Error cuadrado promedio (MSE)\" %\n",
        "(resultados.mean()*(-1),resultados.std()))"
      ],
      "metadata": {
        "colab": {
          "base_uri": "https://localhost:8080/"
        },
        "id": "ZPg6GPeMI9Bb",
        "outputId": "1050dfb3-03cf-4801-fa5e-47694b5af2e8"
      },
      "execution_count": 11,
      "outputs": [
        {
          "output_type": "stream",
          "name": "stdout",
          "text": [
            "Modelo Base: 1.84 (1.59) Error cuadrado promedio (MSE)\n"
          ]
        }
      ]
    }
  ]
}